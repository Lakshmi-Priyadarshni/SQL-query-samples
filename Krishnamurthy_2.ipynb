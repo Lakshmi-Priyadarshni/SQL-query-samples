{
    "metadata": {
        "kernelspec": {
            "name": "SQL",
            "display_name": "SQL",
            "language": "sql"
        },
        "language_info": {
            "name": "sql",
            "version": ""
        }
    },
    "nbformat_minor": 2,
    "nbformat": 4,
    "cells": [
        {
            "cell_type": "markdown",
            "source": [
                "**Assignment 2**\n",
                "\n",
                "**Lakshmi Priyadarshni Krishnamurthy**"
            ],
            "metadata": {
                "azdata_cell_guid": "fefe4057-0d75-4dc9-9590-8a3aae904d55"
            },
            "attachments": {}
        },
        {
            "cell_type": "markdown",
            "source": [
                "<span style=\"font-size: 12pt; font-family: &quot;Times New Roman&quot;, serif; color: rgb(0, 0, 0); background-color: transparent; font-weight: 700; font-variant-numeric: normal; font-variant-east-asian: normal; font-variant-alternates: normal; text-decoration-line: underline; text-decoration-skip-ink: none; vertical-align: baseline; white-space-collapse: preserve;\">Problem 1</span>\n",
                "\n",
                "<span style=\"font-size: 12pt; font-family: &quot;Times New Roman&quot;, serif; color: rgb(0, 0, 0); background-color: transparent; font-variant-numeric: normal; font-variant-east-asian: normal; font-variant-alternates: normal; vertical-align: baseline; white-space-collapse: preserve;\">You are a business analyst at AdventureWorks and assist the Sales management team with analyzing sales results.&nbsp; They would like to look at sales revenue by territory and individual salesperson.</span>\n",
                "\n",
                "  \n",
                "\n",
                "<span style=\"font-size: 12pt; font-family: &quot;Times New Roman&quot;, serif; color: rgb(0, 0, 0); background-color: transparent; font-variant-numeric: normal; font-variant-east-asian: normal; font-variant-alternates: normal; vertical-align: baseline; white-space-collapse: preserve;\">Each time a customer places an order, the salesperson creates a sales order record in the SalesOrderHeader table.&nbsp; The SalesOrderHeader contains information about the entire order.&nbsp; Orders may consist of one or more product types.&nbsp; The SalesOrderDetail table contains information about individual products that were included in each order, and there may be multiple SalesOrderDetail records for each sales order.</span>\n",
                "\n",
                "  \n",
                "\n",
                "<span style=\"font-size: 12pt; font-family: &quot;Times New Roman&quot;, serif; color: rgb(0, 0, 0); background-color: transparent; font-variant-numeric: normal; font-variant-east-asian: normal; font-variant-alternates: normal; vertical-align: baseline; white-space-collapse: preserve;\">The company does not include tax or shipping charges when recognizing revenue for sales purposes.&nbsp; The company also uses the date the order was placed as the date of record.</span>\n",
                "\n",
                "  \n",
                "\n",
                "<span style=\"font-size: 12pt; font-family: &quot;Times New Roman&quot;, serif; color: rgb(0, 0, 0); background-color: transparent; font-variant-numeric: normal; font-variant-east-asian: normal; font-variant-alternates: normal; text-decoration-line: underline; text-decoration-skip-ink: none; vertical-align: baseline; white-space-collapse: preserve;\">Part A</span>\n",
                "\n",
                "<span style=\"font-size: 12pt; font-family: &quot;Times New Roman&quot;, serif; color: rgb(0, 0, 0); background-color: transparent; font-variant-numeric: normal; font-variant-east-asian: normal; font-variant-alternates: normal; vertical-align: baseline; white-space-collapse: preserve;\">The sales manager would first like to know the total sales revenue associated with each sales territory.&nbsp; Create a report showing the total sales revenue broken out by territory name.&nbsp; You can determine this by adding together the SubTotal figures from the relevant SalesOrderHeader records.&nbsp; Round the revenue figures to the nearest dollar and sort the list so that the highest revenue territory appears first.</span>\n",
                "\n",
                "<span style=\"font-size: 12pt; font-family: &quot;Times New Roman&quot;, serif; color: rgb(0, 0, 0); background-color: transparent; font-variant-numeric: normal; font-variant-east-asian: normal; font-variant-alternates: normal; vertical-align: baseline; white-space-collapse: preserve;\"><br></span>"
            ],
            "metadata": {
                "azdata_cell_guid": "94417476-195d-48c5-892c-2080e69a6803"
            },
            "attachments": {}
        },
        {
            "cell_type": "code",
            "source": [
                "USE AdventureWorks2014\r\n",
                "SELECT st.Name AS TerritoryName, \r\n",
                "CAST(ROUND(SUM(soh.SubTotal), 0) AS INTEGER) AS SalesRevenue\r\n",
                "FROM Sales.SalesOrderHeader soh\r\n",
                "INNER JOIN Sales.SalesTerritory st\r\n",
                "ON soh.TerritoryID = st.TerritoryID\r\n",
                "GROUP BY st.Name\r\n",
                "ORDER BY SalesRevenue DESC"
            ],
            "metadata": {
                "azdata_cell_guid": "0db54b5c-8f3d-41b8-8260-3a748ef52bae",
                "language": "sql",
                "tags": []
            },
            "outputs": [
                {
                    "output_type": "display_data",
                    "data": {
                        "text/html": "(10 rows affected)"
                    },
                    "metadata": {}
                },
                {
                    "output_type": "display_data",
                    "data": {
                        "text/html": "Total execution time: 00:00:00.043"
                    },
                    "metadata": {}
                },
                {
                    "output_type": "execute_result",
                    "execution_count": 22,
                    "data": {
                        "application/vnd.dataresource+json": {
                            "schema": {
                                "fields": [
                                    {
                                        "name": "TerritoryName"
                                    },
                                    {
                                        "name": "SalesRevenue"
                                    }
                                ]
                            },
                            "data": [
                                {
                                    "TerritoryName": "Southwest",
                                    "SalesRevenue": "24184610"
                                },
                                {
                                    "TerritoryName": "Canada",
                                    "SalesRevenue": "16355770"
                                },
                                {
                                    "TerritoryName": "Northwest",
                                    "SalesRevenue": "16084943"
                                },
                                {
                                    "TerritoryName": "Australia",
                                    "SalesRevenue": "10655336"
                                },
                                {
                                    "TerritoryName": "Central",
                                    "SalesRevenue": "7909009"
                                },
                                {
                                    "TerritoryName": "Southeast",
                                    "SalesRevenue": "7879655"
                                },
                                {
                                    "TerritoryName": "United Kingdom",
                                    "SalesRevenue": "7670721"
                                },
                                {
                                    "TerritoryName": "France",
                                    "SalesRevenue": "7251556"
                                },
                                {
                                    "TerritoryName": "Northeast",
                                    "SalesRevenue": "6939374"
                                },
                                {
                                    "TerritoryName": "Germany",
                                    "SalesRevenue": "4915408"
                                }
                            ]
                        },
                        "text/html": "<table><tr><th>TerritoryName</th><th>SalesRevenue</th></tr><tr><td>Southwest</td><td>24184610</td></tr><tr><td>Canada</td><td>16355770</td></tr><tr><td>Northwest</td><td>16084943</td></tr><tr><td>Australia</td><td>10655336</td></tr><tr><td>Central</td><td>7909009</td></tr><tr><td>Southeast</td><td>7879655</td></tr><tr><td>United Kingdom</td><td>7670721</td></tr><tr><td>France</td><td>7251556</td></tr><tr><td>Northeast</td><td>6939374</td></tr><tr><td>Germany</td><td>4915408</td></tr></table>"
                    },
                    "metadata": {}
                }
            ],
            "execution_count": 22
        },
        {
            "cell_type": "markdown",
            "source": [
                "<span style=\"font-size: 12pt; font-family: &quot;Times New Roman&quot;, serif; color: rgb(0, 0, 0); background-color: transparent; font-variant-numeric: normal; font-variant-east-asian: normal; font-variant-alternates: normal; text-decoration-line: underline; text-decoration-skip-ink: none; vertical-align: baseline; white-space-collapse: preserve;\">Part B</span>\n",
                "\n",
                "<span style=\"font-size: 12pt; font-family: &quot;Times New Roman&quot;, serif; color: rgb(0, 0, 0); background-color: transparent; font-variant-numeric: normal; font-variant-east-asian: normal; font-variant-alternates: normal; vertical-align: baseline; white-space-collapse: preserve;\">The sales manager would now like to drill into the 2013 sales results.&nbsp; Revise your query from Part A to focus only on results from 2013 and break the results down by month.&nbsp; Your result set should include four columns: Name (of the territory), Month, Year, and SalesRevenue.&nbsp; This time, sort the list first by territory name, then by month.</span>"
            ],
            "metadata": {
                "language": "sql",
                "azdata_cell_guid": "034dfd0d-148c-42d6-992e-a194cd7e59fd"
            },
            "attachments": {}
        },
        {
            "cell_type": "code",
            "source": [
                "SELECT st.Name AS TerritoryName, \r\n",
                "DATEPART(MONTH, soh.OrderDate) AS Month, \r\n",
                "DATEPART(YEAR, soh.OrderDate) AS Year, \r\n",
                "CAST(ROUND(SUM(soh.SubTotal), 0) AS INTEGER) AS SalesRevenue\r\n",
                "FROM Sales.SalesOrderHeader soh\r\n",
                "INNER JOIN Sales.SalesTerritory st\r\n",
                "ON soh.TerritoryID = st.TerritoryID\r\n",
                "WHERE DATEPART(YEAR, soh.OrderDate) = 2013\r\n",
                "GROUP BY st.Name, \r\n",
                "DATEPART(YEAR, soh.OrderDate), \r\n",
                "DATEPART(MONTH, soh.OrderDate)\r\n",
                "ORDER BY st.Name, DATEPART(MONTH, soh.OrderDate)"
            ],
            "metadata": {
                "language": "sql",
                "azdata_cell_guid": "dfc08033-a728-471b-a1bb-8656dfcc7930",
                "tags": []
            },
            "outputs": [
                {
                    "output_type": "display_data",
                    "data": {
                        "text/html": "(120 rows affected)"
                    },
                    "metadata": {}
                },
                {
                    "output_type": "display_data",
                    "data": {
                        "text/html": "Total execution time: 00:00:00.219"
                    },
                    "metadata": {}
                },
                {
                    "output_type": "execute_result",
                    "execution_count": 9,
                    "data": {
                        "application/vnd.dataresource+json": {
                            "schema": {
                                "fields": [
                                    {
                                        "name": "TerritoryName"
                                    },
                                    {
                                        "name": "Month"
                                    },
                                    {
                                        "name": "Year"
                                    },
                                    {
                                        "name": "SalesRevenue"
                                    }
                                ]
                            },
                            "data": [
                                {
                                    "TerritoryName": "Australia",
                                    "Month": "1",
                                    "Year": "2013",
                                    "SalesRevenue": "222514"
                                },
                                {
                                    "TerritoryName": "Australia",
                                    "Month": "2",
                                    "Year": "2013",
                                    "SalesRevenue": "177688"
                                },
                                {
                                    "TerritoryName": "Australia",
                                    "Month": "3",
                                    "Year": "2013",
                                    "SalesRevenue": "215688"
                                },
                                {
                                    "TerritoryName": "Australia",
                                    "Month": "4",
                                    "Year": "2013",
                                    "SalesRevenue": "205166"
                                },
                                {
                                    "TerritoryName": "Australia",
                                    "Month": "5",
                                    "Year": "2013",
                                    "SalesRevenue": "252419"
                                },
                                {
                                    "TerritoryName": "Australia",
                                    "Month": "6",
                                    "Year": "2013",
                                    "SalesRevenue": "380029"
                                },
                                {
                                    "TerritoryName": "Australia",
                                    "Month": "7",
                                    "Year": "2013",
                                    "SalesRevenue": "456778"
                                },
                                {
                                    "TerritoryName": "Australia",
                                    "Month": "8",
                                    "Year": "2013",
                                    "SalesRevenue": "394786"
                                },
                                {
                                    "TerritoryName": "Australia",
                                    "Month": "9",
                                    "Year": "2013",
                                    "SalesRevenue": "457110"
                                },
                                {
                                    "TerritoryName": "Australia",
                                    "Month": "10",
                                    "Year": "2013",
                                    "SalesRevenue": "572304"
                                },
                                {
                                    "TerritoryName": "Australia",
                                    "Month": "11",
                                    "Year": "2013",
                                    "SalesRevenue": "427533"
                                },
                                {
                                    "TerritoryName": "Australia",
                                    "Month": "12",
                                    "Year": "2013",
                                    "SalesRevenue": "468650"
                                },
                                {
                                    "TerritoryName": "Canada",
                                    "Month": "1",
                                    "Year": "2013",
                                    "SalesRevenue": "417125"
                                },
                                {
                                    "TerritoryName": "Canada",
                                    "Month": "2",
                                    "Year": "2013",
                                    "SalesRevenue": "461556"
                                },
                                {
                                    "TerritoryName": "Canada",
                                    "Month": "3",
                                    "Year": "2013",
                                    "SalesRevenue": "485927"
                                },
                                {
                                    "TerritoryName": "Canada",
                                    "Month": "4",
                                    "Year": "2013",
                                    "SalesRevenue": "467353"
                                },
                                {
                                    "TerritoryName": "Canada",
                                    "Month": "5",
                                    "Year": "2013",
                                    "SalesRevenue": "510801"
                                },
                                {
                                    "TerritoryName": "Canada",
                                    "Month": "6",
                                    "Year": "2013",
                                    "SalesRevenue": "607975"
                                },
                                {
                                    "TerritoryName": "Canada",
                                    "Month": "7",
                                    "Year": "2013",
                                    "SalesRevenue": "733453"
                                },
                                {
                                    "TerritoryName": "Canada",
                                    "Month": "8",
                                    "Year": "2013",
                                    "SalesRevenue": "467319"
                                },
                                {
                                    "TerritoryName": "Canada",
                                    "Month": "9",
                                    "Year": "2013",
                                    "SalesRevenue": "480936"
                                },
                                {
                                    "TerritoryName": "Canada",
                                    "Month": "10",
                                    "Year": "2013",
                                    "SalesRevenue": "804615"
                                },
                                {
                                    "TerritoryName": "Canada",
                                    "Month": "11",
                                    "Year": "2013",
                                    "SalesRevenue": "356269"
                                },
                                {
                                    "TerritoryName": "Canada",
                                    "Month": "12",
                                    "Year": "2013",
                                    "SalesRevenue": "436189"
                                },
                                {
                                    "TerritoryName": "Central",
                                    "Month": "1",
                                    "Year": "2013",
                                    "SalesRevenue": "179655"
                                },
                                {
                                    "TerritoryName": "Central",
                                    "Month": "2",
                                    "Year": "2013",
                                    "SalesRevenue": "193947"
                                },
                                {
                                    "TerritoryName": "Central",
                                    "Month": "3",
                                    "Year": "2013",
                                    "SalesRevenue": "283992"
                                },
                                {
                                    "TerritoryName": "Central",
                                    "Month": "4",
                                    "Year": "2013",
                                    "SalesRevenue": "220322"
                                },
                                {
                                    "TerritoryName": "Central",
                                    "Month": "5",
                                    "Year": "2013",
                                    "SalesRevenue": "216804"
                                },
                                {
                                    "TerritoryName": "Central",
                                    "Month": "6",
                                    "Year": "2013",
                                    "SalesRevenue": "378578"
                                },
                                {
                                    "TerritoryName": "Central",
                                    "Month": "7",
                                    "Year": "2013",
                                    "SalesRevenue": "348164"
                                },
                                {
                                    "TerritoryName": "Central",
                                    "Month": "8",
                                    "Year": "2013",
                                    "SalesRevenue": "162558"
                                },
                                {
                                    "TerritoryName": "Central",
                                    "Month": "9",
                                    "Year": "2013",
                                    "SalesRevenue": "324853"
                                },
                                {
                                    "TerritoryName": "Central",
                                    "Month": "10",
                                    "Year": "2013",
                                    "SalesRevenue": "317443"
                                },
                                {
                                    "TerritoryName": "Central",
                                    "Month": "11",
                                    "Year": "2013",
                                    "SalesRevenue": "113958"
                                },
                                {
                                    "TerritoryName": "Central",
                                    "Month": "12",
                                    "Year": "2013",
                                    "SalesRevenue": "253954"
                                },
                                {
                                    "TerritoryName": "France",
                                    "Month": "1",
                                    "Year": "2013",
                                    "SalesRevenue": "108416"
                                },
                                {
                                    "TerritoryName": "France",
                                    "Month": "2",
                                    "Year": "2013",
                                    "SalesRevenue": "123079"
                                },
                                {
                                    "TerritoryName": "France",
                                    "Month": "3",
                                    "Year": "2013",
                                    "SalesRevenue": "246492"
                                },
                                {
                                    "TerritoryName": "France",
                                    "Month": "4",
                                    "Year": "2013",
                                    "SalesRevenue": "138184"
                                },
                                {
                                    "TerritoryName": "France",
                                    "Month": "5",
                                    "Year": "2013",
                                    "SalesRevenue": "151473"
                                },
                                {
                                    "TerritoryName": "France",
                                    "Month": "6",
                                    "Year": "2013",
                                    "SalesRevenue": "800815"
                                },
                                {
                                    "TerritoryName": "France",
                                    "Month": "7",
                                    "Year": "2013",
                                    "SalesRevenue": "281400"
                                },
                                {
                                    "TerritoryName": "France",
                                    "Month": "8",
                                    "Year": "2013",
                                    "SalesRevenue": "163919"
                                },
                                {
                                    "TerritoryName": "France",
                                    "Month": "9",
                                    "Year": "2013",
                                    "SalesRevenue": "713907"
                                },
                                {
                                    "TerritoryName": "France",
                                    "Month": "10",
                                    "Year": "2013",
                                    "SalesRevenue": "270755"
                                },
                                {
                                    "TerritoryName": "France",
                                    "Month": "11",
                                    "Year": "2013",
                                    "SalesRevenue": "224719"
                                },
                                {
                                    "TerritoryName": "France",
                                    "Month": "12",
                                    "Year": "2013",
                                    "SalesRevenue": "583347"
                                },
                                {
                                    "TerritoryName": "Germany",
                                    "Month": "1",
                                    "Year": "2013",
                                    "SalesRevenue": "69561"
                                },
                                {
                                    "TerritoryName": "Germany",
                                    "Month": "2",
                                    "Year": "2013",
                                    "SalesRevenue": "56643"
                                },
                                {
                                    "TerritoryName": "Germany",
                                    "Month": "3",
                                    "Year": "2013",
                                    "SalesRevenue": "66450"
                                },
                                {
                                    "TerritoryName": "Germany",
                                    "Month": "4",
                                    "Year": "2013",
                                    "SalesRevenue": "56416"
                                },
                                {
                                    "TerritoryName": "Germany",
                                    "Month": "5",
                                    "Year": "2013",
                                    "SalesRevenue": "252220"
                                },
                                {
                                    "TerritoryName": "Germany",
                                    "Month": "6",
                                    "Year": "2013",
                                    "SalesRevenue": "362450"
                                },
                                {
                                    "TerritoryName": "Germany",
                                    "Month": "7",
                                    "Year": "2013",
                                    "SalesRevenue": "225865"
                                },
                                {
                                    "TerritoryName": "Germany",
                                    "Month": "8",
                                    "Year": "2013",
                                    "SalesRevenue": "308561"
                                },
                                {
                                    "TerritoryName": "Germany",
                                    "Month": "9",
                                    "Year": "2013",
                                    "SalesRevenue": "294496"
                                },
                                {
                                    "TerritoryName": "Germany",
                                    "Month": "10",
                                    "Year": "2013",
                                    "SalesRevenue": "276967"
                                },
                                {
                                    "TerritoryName": "Germany",
                                    "Month": "11",
                                    "Year": "2013",
                                    "SalesRevenue": "287291"
                                },
                                {
                                    "TerritoryName": "Germany",
                                    "Month": "12",
                                    "Year": "2013",
                                    "SalesRevenue": "308301"
                                },
                                {
                                    "TerritoryName": "Northeast",
                                    "Month": "1",
                                    "Year": "2013",
                                    "SalesRevenue": "152396"
                                },
                                {
                                    "TerritoryName": "Northeast",
                                    "Month": "2",
                                    "Year": "2013",
                                    "SalesRevenue": "335169"
                                },
                                {
                                    "TerritoryName": "Northeast",
                                    "Month": "3",
                                    "Year": "2013",
                                    "SalesRevenue": "341011"
                                },
                                {
                                    "TerritoryName": "Northeast",
                                    "Month": "4",
                                    "Year": "2013",
                                    "SalesRevenue": "178885"
                                },
                                {
                                    "TerritoryName": "Northeast",
                                    "Month": "5",
                                    "Year": "2013",
                                    "SalesRevenue": "190500"
                                },
                                {
                                    "TerritoryName": "Northeast",
                                    "Month": "6",
                                    "Year": "2013",
                                    "SalesRevenue": "286993"
                                },
                                {
                                    "TerritoryName": "Northeast",
                                    "Month": "7",
                                    "Year": "2013",
                                    "SalesRevenue": "273329"
                                },
                                {
                                    "TerritoryName": "Northeast",
                                    "Month": "8",
                                    "Year": "2013",
                                    "SalesRevenue": "189074"
                                },
                                {
                                    "TerritoryName": "Northeast",
                                    "Month": "9",
                                    "Year": "2013",
                                    "SalesRevenue": "181179"
                                },
                                {
                                    "TerritoryName": "Northeast",
                                    "Month": "10",
                                    "Year": "2013",
                                    "SalesRevenue": "221905"
                                },
                                {
                                    "TerritoryName": "Northeast",
                                    "Month": "11",
                                    "Year": "2013",
                                    "SalesRevenue": "140163"
                                },
                                {
                                    "TerritoryName": "Northeast",
                                    "Month": "12",
                                    "Year": "2013",
                                    "SalesRevenue": "140656"
                                },
                                {
                                    "TerritoryName": "Northwest",
                                    "Month": "1",
                                    "Year": "2013",
                                    "SalesRevenue": "118274"
                                },
                                {
                                    "TerritoryName": "Northwest",
                                    "Month": "2",
                                    "Year": "2013",
                                    "SalesRevenue": "259074"
                                },
                                {
                                    "TerritoryName": "Northwest",
                                    "Month": "3",
                                    "Year": "2013",
                                    "SalesRevenue": "546006"
                                },
                                {
                                    "TerritoryName": "Northwest",
                                    "Month": "4",
                                    "Year": "2013",
                                    "SalesRevenue": "148982"
                                },
                                {
                                    "TerritoryName": "Northwest",
                                    "Month": "5",
                                    "Year": "2013",
                                    "SalesRevenue": "431414"
                                },
                                {
                                    "TerritoryName": "Northwest",
                                    "Month": "6",
                                    "Year": "2013",
                                    "SalesRevenue": "820494"
                                },
                                {
                                    "TerritoryName": "Northwest",
                                    "Month": "7",
                                    "Year": "2013",
                                    "SalesRevenue": "702756"
                                },
                                {
                                    "TerritoryName": "Northwest",
                                    "Month": "8",
                                    "Year": "2013",
                                    "SalesRevenue": "418150"
                                },
                                {
                                    "TerritoryName": "Northwest",
                                    "Month": "9",
                                    "Year": "2013",
                                    "SalesRevenue": "711921"
                                },
                                {
                                    "TerritoryName": "Northwest",
                                    "Month": "10",
                                    "Year": "2013",
                                    "SalesRevenue": "676266"
                                },
                                {
                                    "TerritoryName": "Northwest",
                                    "Month": "11",
                                    "Year": "2013",
                                    "SalesRevenue": "544111"
                                },
                                {
                                    "TerritoryName": "Northwest",
                                    "Month": "12",
                                    "Year": "2013",
                                    "SalesRevenue": "637728"
                                },
                                {
                                    "TerritoryName": "Southeast",
                                    "Month": "1",
                                    "Year": "2013",
                                    "SalesRevenue": "139830"
                                },
                                {
                                    "TerritoryName": "Southeast",
                                    "Month": "2",
                                    "Year": "2013",
                                    "SalesRevenue": "174644"
                                },
                                {
                                    "TerritoryName": "Southeast",
                                    "Month": "3",
                                    "Year": "2013",
                                    "SalesRevenue": "213206"
                                },
                                {
                                    "TerritoryName": "Southeast",
                                    "Month": "4",
                                    "Year": "2013",
                                    "SalesRevenue": "209090"
                                },
                                {
                                    "TerritoryName": "Southeast",
                                    "Month": "5",
                                    "Year": "2013",
                                    "SalesRevenue": "177763"
                                },
                                {
                                    "TerritoryName": "Southeast",
                                    "Month": "6",
                                    "Year": "2013",
                                    "SalesRevenue": "274597"
                                },
                                {
                                    "TerritoryName": "Southeast",
                                    "Month": "7",
                                    "Year": "2013",
                                    "SalesRevenue": "289525"
                                },
                                {
                                    "TerritoryName": "Southeast",
                                    "Month": "8",
                                    "Year": "2013",
                                    "SalesRevenue": "161507"
                                },
                                {
                                    "TerritoryName": "Southeast",
                                    "Month": "9",
                                    "Year": "2013",
                                    "SalesRevenue": "233699"
                                },
                                {
                                    "TerritoryName": "Southeast",
                                    "Month": "10",
                                    "Year": "2013",
                                    "SalesRevenue": "219936"
                                },
                                {
                                    "TerritoryName": "Southeast",
                                    "Month": "11",
                                    "Year": "2013",
                                    "SalesRevenue": "114993"
                                },
                                {
                                    "TerritoryName": "Southeast",
                                    "Month": "12",
                                    "Year": "2013",
                                    "SalesRevenue": "191157"
                                },
                                {
                                    "TerritoryName": "Southwest",
                                    "Month": "1",
                                    "Year": "2013",
                                    "SalesRevenue": "494888"
                                },
                                {
                                    "TerritoryName": "Southwest",
                                    "Month": "2",
                                    "Year": "2013",
                                    "SalesRevenue": "431230"
                                },
                                {
                                    "TerritoryName": "Southwest",
                                    "Month": "3",
                                    "Year": "2013",
                                    "SalesRevenue": "846761"
                                },
                                {
                                    "TerritoryName": "Southwest",
                                    "Month": "4",
                                    "Year": "2013",
                                    "SalesRevenue": "710288"
                                },
                                {
                                    "TerritoryName": "Southwest",
                                    "Month": "5",
                                    "Year": "2013",
                                    "SalesRevenue": "848815"
                                },
                                {
                                    "TerritoryName": "Southwest",
                                    "Month": "6",
                                    "Year": "2013",
                                    "SalesRevenue": "827496"
                                },
                                {
                                    "TerritoryName": "Southwest",
                                    "Month": "7",
                                    "Year": "2013",
                                    "SalesRevenue": "967045"
                                },
                                {
                                    "TerritoryName": "Southwest",
                                    "Month": "8",
                                    "Year": "2013",
                                    "SalesRevenue": "814277"
                                },
                                {
                                    "TerritoryName": "Southwest",
                                    "Month": "9",
                                    "Year": "2013",
                                    "SalesRevenue": "787346"
                                },
                                {
                                    "TerritoryName": "Southwest",
                                    "Month": "10",
                                    "Year": "2013",
                                    "SalesRevenue": "833388"
                                },
                                {
                                    "TerritoryName": "Southwest",
                                    "Month": "11",
                                    "Year": "2013",
                                    "SalesRevenue": "805845"
                                },
                                {
                                    "TerritoryName": "Southwest",
                                    "Month": "12",
                                    "Year": "2013",
                                    "SalesRevenue": "749160"
                                },
                                {
                                    "TerritoryName": "United Kingdom",
                                    "Month": "1",
                                    "Year": "2013",
                                    "SalesRevenue": "185214"
                                },
                                {
                                    "TerritoryName": "United Kingdom",
                                    "Month": "2",
                                    "Year": "2013",
                                    "SalesRevenue": "103892"
                                },
                                {
                                    "TerritoryName": "United Kingdom",
                                    "Month": "3",
                                    "Year": "2013",
                                    "SalesRevenue": "166536"
                                },
                                {
                                    "TerritoryName": "United Kingdom",
                                    "Month": "4",
                                    "Year": "2013",
                                    "SalesRevenue": "197580"
                                },
                                {
                                    "TerritoryName": "United Kingdom",
                                    "Month": "5",
                                    "Year": "2013",
                                    "SalesRevenue": "213417"
                                },
                                {
                                    "TerritoryName": "United Kingdom",
                                    "Month": "6",
                                    "Year": "2013",
                                    "SalesRevenue": "341642"
                                },
                                {
                                    "TerritoryName": "United Kingdom",
                                    "Month": "7",
                                    "Year": "2013",
                                    "SalesRevenue": "618040"
                                },
                                {
                                    "TerritoryName": "United Kingdom",
                                    "Month": "8",
                                    "Year": "2013",
                                    "SalesRevenue": "253814"
                                },
                                {
                                    "TerritoryName": "United Kingdom",
                                    "Month": "9",
                                    "Year": "2013",
                                    "SalesRevenue": "347462"
                                },
                                {
                                    "TerritoryName": "United Kingdom",
                                    "Month": "10",
                                    "Year": "2013",
                                    "SalesRevenue": "602234"
                                },
                                {
                                    "TerritoryName": "United Kingdom",
                                    "Month": "11",
                                    "Year": "2013",
                                    "SalesRevenue": "297249"
                                },
                                {
                                    "TerritoryName": "United Kingdom",
                                    "Month": "12",
                                    "Year": "2013",
                                    "SalesRevenue": "306343"
                                }
                            ]
                        },
                        "text/html": "<table><tr><th>TerritoryName</th><th>Month</th><th>Year</th><th>SalesRevenue</th></tr><tr><td>Australia</td><td>1</td><td>2013</td><td>222514</td></tr><tr><td>Australia</td><td>2</td><td>2013</td><td>177688</td></tr><tr><td>Australia</td><td>3</td><td>2013</td><td>215688</td></tr><tr><td>Australia</td><td>4</td><td>2013</td><td>205166</td></tr><tr><td>Australia</td><td>5</td><td>2013</td><td>252419</td></tr><tr><td>Australia</td><td>6</td><td>2013</td><td>380029</td></tr><tr><td>Australia</td><td>7</td><td>2013</td><td>456778</td></tr><tr><td>Australia</td><td>8</td><td>2013</td><td>394786</td></tr><tr><td>Australia</td><td>9</td><td>2013</td><td>457110</td></tr><tr><td>Australia</td><td>10</td><td>2013</td><td>572304</td></tr><tr><td>Australia</td><td>11</td><td>2013</td><td>427533</td></tr><tr><td>Australia</td><td>12</td><td>2013</td><td>468650</td></tr><tr><td>Canada</td><td>1</td><td>2013</td><td>417125</td></tr><tr><td>Canada</td><td>2</td><td>2013</td><td>461556</td></tr><tr><td>Canada</td><td>3</td><td>2013</td><td>485927</td></tr><tr><td>Canada</td><td>4</td><td>2013</td><td>467353</td></tr><tr><td>Canada</td><td>5</td><td>2013</td><td>510801</td></tr><tr><td>Canada</td><td>6</td><td>2013</td><td>607975</td></tr><tr><td>Canada</td><td>7</td><td>2013</td><td>733453</td></tr><tr><td>Canada</td><td>8</td><td>2013</td><td>467319</td></tr><tr><td>Canada</td><td>9</td><td>2013</td><td>480936</td></tr><tr><td>Canada</td><td>10</td><td>2013</td><td>804615</td></tr><tr><td>Canada</td><td>11</td><td>2013</td><td>356269</td></tr><tr><td>Canada</td><td>12</td><td>2013</td><td>436189</td></tr><tr><td>Central</td><td>1</td><td>2013</td><td>179655</td></tr><tr><td>Central</td><td>2</td><td>2013</td><td>193947</td></tr><tr><td>Central</td><td>3</td><td>2013</td><td>283992</td></tr><tr><td>Central</td><td>4</td><td>2013</td><td>220322</td></tr><tr><td>Central</td><td>5</td><td>2013</td><td>216804</td></tr><tr><td>Central</td><td>6</td><td>2013</td><td>378578</td></tr><tr><td>Central</td><td>7</td><td>2013</td><td>348164</td></tr><tr><td>Central</td><td>8</td><td>2013</td><td>162558</td></tr><tr><td>Central</td><td>9</td><td>2013</td><td>324853</td></tr><tr><td>Central</td><td>10</td><td>2013</td><td>317443</td></tr><tr><td>Central</td><td>11</td><td>2013</td><td>113958</td></tr><tr><td>Central</td><td>12</td><td>2013</td><td>253954</td></tr><tr><td>France</td><td>1</td><td>2013</td><td>108416</td></tr><tr><td>France</td><td>2</td><td>2013</td><td>123079</td></tr><tr><td>France</td><td>3</td><td>2013</td><td>246492</td></tr><tr><td>France</td><td>4</td><td>2013</td><td>138184</td></tr><tr><td>France</td><td>5</td><td>2013</td><td>151473</td></tr><tr><td>France</td><td>6</td><td>2013</td><td>800815</td></tr><tr><td>France</td><td>7</td><td>2013</td><td>281400</td></tr><tr><td>France</td><td>8</td><td>2013</td><td>163919</td></tr><tr><td>France</td><td>9</td><td>2013</td><td>713907</td></tr><tr><td>France</td><td>10</td><td>2013</td><td>270755</td></tr><tr><td>France</td><td>11</td><td>2013</td><td>224719</td></tr><tr><td>France</td><td>12</td><td>2013</td><td>583347</td></tr><tr><td>Germany</td><td>1</td><td>2013</td><td>69561</td></tr><tr><td>Germany</td><td>2</td><td>2013</td><td>56643</td></tr><tr><td>Germany</td><td>3</td><td>2013</td><td>66450</td></tr><tr><td>Germany</td><td>4</td><td>2013</td><td>56416</td></tr><tr><td>Germany</td><td>5</td><td>2013</td><td>252220</td></tr><tr><td>Germany</td><td>6</td><td>2013</td><td>362450</td></tr><tr><td>Germany</td><td>7</td><td>2013</td><td>225865</td></tr><tr><td>Germany</td><td>8</td><td>2013</td><td>308561</td></tr><tr><td>Germany</td><td>9</td><td>2013</td><td>294496</td></tr><tr><td>Germany</td><td>10</td><td>2013</td><td>276967</td></tr><tr><td>Germany</td><td>11</td><td>2013</td><td>287291</td></tr><tr><td>Germany</td><td>12</td><td>2013</td><td>308301</td></tr><tr><td>Northeast</td><td>1</td><td>2013</td><td>152396</td></tr><tr><td>Northeast</td><td>2</td><td>2013</td><td>335169</td></tr><tr><td>Northeast</td><td>3</td><td>2013</td><td>341011</td></tr><tr><td>Northeast</td><td>4</td><td>2013</td><td>178885</td></tr><tr><td>Northeast</td><td>5</td><td>2013</td><td>190500</td></tr><tr><td>Northeast</td><td>6</td><td>2013</td><td>286993</td></tr><tr><td>Northeast</td><td>7</td><td>2013</td><td>273329</td></tr><tr><td>Northeast</td><td>8</td><td>2013</td><td>189074</td></tr><tr><td>Northeast</td><td>9</td><td>2013</td><td>181179</td></tr><tr><td>Northeast</td><td>10</td><td>2013</td><td>221905</td></tr><tr><td>Northeast</td><td>11</td><td>2013</td><td>140163</td></tr><tr><td>Northeast</td><td>12</td><td>2013</td><td>140656</td></tr><tr><td>Northwest</td><td>1</td><td>2013</td><td>118274</td></tr><tr><td>Northwest</td><td>2</td><td>2013</td><td>259074</td></tr><tr><td>Northwest</td><td>3</td><td>2013</td><td>546006</td></tr><tr><td>Northwest</td><td>4</td><td>2013</td><td>148982</td></tr><tr><td>Northwest</td><td>5</td><td>2013</td><td>431414</td></tr><tr><td>Northwest</td><td>6</td><td>2013</td><td>820494</td></tr><tr><td>Northwest</td><td>7</td><td>2013</td><td>702756</td></tr><tr><td>Northwest</td><td>8</td><td>2013</td><td>418150</td></tr><tr><td>Northwest</td><td>9</td><td>2013</td><td>711921</td></tr><tr><td>Northwest</td><td>10</td><td>2013</td><td>676266</td></tr><tr><td>Northwest</td><td>11</td><td>2013</td><td>544111</td></tr><tr><td>Northwest</td><td>12</td><td>2013</td><td>637728</td></tr><tr><td>Southeast</td><td>1</td><td>2013</td><td>139830</td></tr><tr><td>Southeast</td><td>2</td><td>2013</td><td>174644</td></tr><tr><td>Southeast</td><td>3</td><td>2013</td><td>213206</td></tr><tr><td>Southeast</td><td>4</td><td>2013</td><td>209090</td></tr><tr><td>Southeast</td><td>5</td><td>2013</td><td>177763</td></tr><tr><td>Southeast</td><td>6</td><td>2013</td><td>274597</td></tr><tr><td>Southeast</td><td>7</td><td>2013</td><td>289525</td></tr><tr><td>Southeast</td><td>8</td><td>2013</td><td>161507</td></tr><tr><td>Southeast</td><td>9</td><td>2013</td><td>233699</td></tr><tr><td>Southeast</td><td>10</td><td>2013</td><td>219936</td></tr><tr><td>Southeast</td><td>11</td><td>2013</td><td>114993</td></tr><tr><td>Southeast</td><td>12</td><td>2013</td><td>191157</td></tr><tr><td>Southwest</td><td>1</td><td>2013</td><td>494888</td></tr><tr><td>Southwest</td><td>2</td><td>2013</td><td>431230</td></tr><tr><td>Southwest</td><td>3</td><td>2013</td><td>846761</td></tr><tr><td>Southwest</td><td>4</td><td>2013</td><td>710288</td></tr><tr><td>Southwest</td><td>5</td><td>2013</td><td>848815</td></tr><tr><td>Southwest</td><td>6</td><td>2013</td><td>827496</td></tr><tr><td>Southwest</td><td>7</td><td>2013</td><td>967045</td></tr><tr><td>Southwest</td><td>8</td><td>2013</td><td>814277</td></tr><tr><td>Southwest</td><td>9</td><td>2013</td><td>787346</td></tr><tr><td>Southwest</td><td>10</td><td>2013</td><td>833388</td></tr><tr><td>Southwest</td><td>11</td><td>2013</td><td>805845</td></tr><tr><td>Southwest</td><td>12</td><td>2013</td><td>749160</td></tr><tr><td>United Kingdom</td><td>1</td><td>2013</td><td>185214</td></tr><tr><td>United Kingdom</td><td>2</td><td>2013</td><td>103892</td></tr><tr><td>United Kingdom</td><td>3</td><td>2013</td><td>166536</td></tr><tr><td>United Kingdom</td><td>4</td><td>2013</td><td>197580</td></tr><tr><td>United Kingdom</td><td>5</td><td>2013</td><td>213417</td></tr><tr><td>United Kingdom</td><td>6</td><td>2013</td><td>341642</td></tr><tr><td>United Kingdom</td><td>7</td><td>2013</td><td>618040</td></tr><tr><td>United Kingdom</td><td>8</td><td>2013</td><td>253814</td></tr><tr><td>United Kingdom</td><td>9</td><td>2013</td><td>347462</td></tr><tr><td>United Kingdom</td><td>10</td><td>2013</td><td>602234</td></tr><tr><td>United Kingdom</td><td>11</td><td>2013</td><td>297249</td></tr><tr><td>United Kingdom</td><td>12</td><td>2013</td><td>306343</td></tr></table>"
                    },
                    "metadata": {}
                }
            ],
            "execution_count": 9
        },
        {
            "cell_type": "markdown",
            "source": [
                "<span style=\"font-size: 12pt; font-family: &quot;Times New Roman&quot;, serif; color: rgb(0, 0, 0); background-color: transparent; font-variant-numeric: normal; font-variant-east-asian: normal; font-variant-alternates: normal; text-decoration-line: underline; text-decoration-skip-ink: none; vertical-align: baseline; white-space-collapse: preserve;\">Part C</span>\n",
                "\n",
                "<span style=\"font-size: 12pt; font-family: &quot;Times New Roman&quot;, serif; color: rgb(0, 0, 0); background-color: transparent; font-variant-numeric: normal; font-variant-east-asian: normal; font-variant-alternates: normal; vertical-align: baseline; white-space-collapse: preserve;\">The sales manager would like to recognize territories that had at least one month in 2013 with monthly sales over $750,000.&nbsp; Create a report listing these territories.&nbsp; It should contain a single column named AwardWinners and be sorted alphabetically.&nbsp; Territories can only win this award once, regardless of the number of months where they exceeded the threshold, so don’t include duplicate values in your list.</span>"
            ],
            "metadata": {
                "language": "sql",
                "azdata_cell_guid": "6d1b718e-37fd-4925-9bb7-0ecfc99972ec"
            },
            "attachments": {}
        },
        {
            "cell_type": "code",
            "source": [
                "SELECT DISTINCT st.Name AS AwardWinners\r\n",
                "FROM Sales.SalesOrderHeader soh\r\n",
                "INNER JOIN Sales.SalesTerritory st\r\n",
                "ON soh.TerritoryID = st.TerritoryID\r\n",
                "WHERE DATEPART(YEAR, soh.OrderDate) = 2013\r\n",
                "GROUP BY st.Name, DATEPART(MONTH, soh.OrderDate)\r\n",
                "HAVING SUM(soh.SubTotal) > 750000\r\n",
                "ORDER BY st.Name"
            ],
            "metadata": {
                "language": "sql",
                "azdata_cell_guid": "ff01a8e0-d124-4dbb-a358-40e0c86f7910"
            },
            "outputs": [
                {
                    "output_type": "display_data",
                    "data": {
                        "text/html": "(4 rows affected)"
                    },
                    "metadata": {}
                },
                {
                    "output_type": "display_data",
                    "data": {
                        "text/html": "Total execution time: 00:00:00.045"
                    },
                    "metadata": {}
                },
                {
                    "output_type": "execute_result",
                    "execution_count": 11,
                    "data": {
                        "application/vnd.dataresource+json": {
                            "schema": {
                                "fields": [
                                    {
                                        "name": "AwardWinners"
                                    }
                                ]
                            },
                            "data": [
                                {
                                    "AwardWinners": "Canada"
                                },
                                {
                                    "AwardWinners": "France"
                                },
                                {
                                    "AwardWinners": "Northwest"
                                },
                                {
                                    "AwardWinners": "Southwest"
                                }
                            ]
                        },
                        "text/html": "<table><tr><th>AwardWinners</th></tr><tr><td>Canada</td></tr><tr><td>France</td></tr><tr><td>Northwest</td></tr><tr><td>Southwest</td></tr></table>"
                    },
                    "metadata": {}
                }
            ],
            "execution_count": 11
        },
        {
            "cell_type": "markdown",
            "source": [
                "<span style=\"font-size: 12pt; font-family: &quot;Times New Roman&quot;, serif; color: rgb(0, 0, 0); background-color: transparent; font-variant-numeric: normal; font-variant-east-asian: normal; font-variant-alternates: normal; text-decoration-line: underline; text-decoration-skip-ink: none; vertical-align: baseline; white-space-collapse: preserve;\">Part D</span>\n",
                "\n",
                "<span style=\"font-size: 12pt; font-family: &quot;Times New Roman&quot;, serif; color: rgb(0, 0, 0); background-color: transparent; font-variant-numeric: normal; font-variant-east-asian: normal; font-variant-alternates: normal; vertical-align: baseline; white-space-collapse: preserve;\">The sales manager would like to offer additional training to those territories that did not achieve the $750,000 at least once in 2013.&nbsp; Create a list of territories that did not achieve their target, sorted alphabetically. </span> <span style=\"font-size: 12pt; font-family: &quot;Times New Roman&quot;, serif; color: rgb(0, 0, 0); background-color: transparent; font-weight: 700; font-variant-numeric: normal; font-variant-east-asian: normal; font-variant-alternates: normal; vertical-align: baseline; white-space-collapse: preserve;\">Do this by using set theory, adding a few lines to your query from Part C.</span>\n",
                "\n",
                "<span style=\"font-size: 12pt; font-family: &quot;Times New Roman&quot;, serif; color: rgb(0, 0, 0); background-color: transparent; font-weight: 700; font-variant-numeric: normal; font-variant-east-asian: normal; font-variant-alternates: normal; vertical-align: baseline; white-space-collapse: preserve;\"><br></span>"
            ],
            "metadata": {
                "language": "sql",
                "azdata_cell_guid": "ec97acc0-dd18-427e-800c-c499241df79c"
            },
            "attachments": {}
        },
        {
            "cell_type": "code",
            "source": [
                "SELECT st.Name AS AdditionalTrainingNeeded\r\n",
                "FROM Sales.SalesTerritory st\r\n",
                "WHERE st.Name NOT IN \r\n",
                "(SELECT DISTINCT st.Name\r\n",
                "FROM Sales.SalesOrderHeader soh\r\n",
                "INNER JOIN Sales.SalesTerritory st\r\n",
                "ON soh.TerritoryID = st.TerritoryID\r\n",
                "WHERE DATEPART(YEAR, soh.OrderDate) = 2013\r\n",
                "GROUP BY st.Name, DATEPART(MONTH, soh.OrderDate)\r\n",
                "HAVING SUM(soh.SubTotal) > 750000)\r\n",
                "ORDER BY st.Name"
            ],
            "metadata": {
                "language": "sql",
                "azdata_cell_guid": "1c984bcf-e87a-4aa5-8118-9fce61ed14ae"
            },
            "outputs": [
                {
                    "output_type": "display_data",
                    "data": {
                        "text/html": "(6 rows affected)"
                    },
                    "metadata": {}
                },
                {
                    "output_type": "display_data",
                    "data": {
                        "text/html": "Total execution time: 00:00:00.063"
                    },
                    "metadata": {}
                },
                {
                    "output_type": "execute_result",
                    "execution_count": 13,
                    "data": {
                        "application/vnd.dataresource+json": {
                            "schema": {
                                "fields": [
                                    {
                                        "name": "AdditionalTrainingNeeded"
                                    }
                                ]
                            },
                            "data": [
                                {
                                    "AdditionalTrainingNeeded": "Australia"
                                },
                                {
                                    "AdditionalTrainingNeeded": "Central"
                                },
                                {
                                    "AdditionalTrainingNeeded": "Germany"
                                },
                                {
                                    "AdditionalTrainingNeeded": "Northeast"
                                },
                                {
                                    "AdditionalTrainingNeeded": "Southeast"
                                },
                                {
                                    "AdditionalTrainingNeeded": "United Kingdom"
                                }
                            ]
                        },
                        "text/html": "<table><tr><th>AdditionalTrainingNeeded</th></tr><tr><td>Australia</td></tr><tr><td>Central</td></tr><tr><td>Germany</td></tr><tr><td>Northeast</td></tr><tr><td>Southeast</td></tr><tr><td>United Kingdom</td></tr></table>"
                    },
                    "metadata": {}
                }
            ],
            "execution_count": 13
        },
        {
            "cell_type": "markdown",
            "source": [
                "<span style=\"font-size: 12pt; font-family: &quot;Times New Roman&quot;, serif; color: rgb(0, 0, 0); background-color: transparent; font-weight: 700; font-variant-numeric: normal; font-variant-east-asian: normal; font-variant-alternates: normal; text-decoration-line: underline; text-decoration-skip-ink: none; vertical-align: baseline; white-space-collapse: preserve;\">Problem 2</span>\n",
                "\n",
                "<span style=\"font-size: 12pt; font-family: &quot;Times New Roman&quot;, serif; color: rgb(0, 0, 0); background-color: transparent; font-variant-numeric: normal; font-variant-east-asian: normal; font-variant-alternates: normal; vertical-align: baseline; white-space-collapse: preserve;\">Your next assignment is to work with the production manager on a series of questions that he has about your product catalog.</span>\n",
                "\n",
                "  \n",
                "\n",
                "<span style=\"font-size: 12pt; font-family: &quot;Times New Roman&quot;, serif; color: rgb(0, 0, 0); background-color: transparent; font-variant-numeric: normal; font-variant-east-asian: normal; font-variant-alternates: normal; text-decoration-line: underline; text-decoration-skip-ink: none; vertical-align: baseline; white-space-collapse: preserve;\">Part A</span>\n",
                "\n",
                "<span style=\"font-size: 12pt; font-family: &quot;Times New Roman&quot;, serif; color: rgb(0, 0, 0); background-color: transparent; font-variant-numeric: normal; font-variant-east-asian: normal; font-variant-alternates: normal; vertical-align: baseline; white-space-collapse: preserve;\">The production manager is considering dropping some products and would like to generate a report that lists finished goods products that have been sold, where the total sales volume is under 50 units.&nbsp; Create a report showing the product name and the total number of units ordered, showing the least units sold first.</span>\n",
                "\n",
                "<span style=\"font-size: 12pt; font-family: &quot;Times New Roman&quot;, serif; color: rgb(0, 0, 0); background-color: transparent; font-variant-numeric: normal; font-variant-east-asian: normal; font-variant-alternates: normal; vertical-align: baseline; white-space-collapse: preserve;\"><br></span>"
            ],
            "metadata": {
                "language": "sql",
                "azdata_cell_guid": "9ca7101c-7c61-4fc1-97a9-a81459ba91b4"
            },
            "attachments": {}
        },
        {
            "cell_type": "code",
            "source": [
                "SELECT \r\n",
                "p.Name AS ProductName, \r\n",
                "SUM(sod.OrderQty) AS TotalUnitsSold\r\n",
                "FROM Production.Product p\r\n",
                "INNER JOIN Sales.SalesOrderDetail sod\r\n",
                "ON p.ProductID = sod.ProductID\r\n",
                "WHERE p.FinishedGoodsFlag = 1\r\n",
                "GROUP BY p.Name\r\n",
                "HAVING SUM(sod.OrderQty) < 50\r\n",
                "ORDER BY TotalUnitsSold ASC"
            ],
            "metadata": {
                "language": "sql",
                "azdata_cell_guid": "56ef8aba-9737-4112-b3a1-c9e01a13f749",
                "tags": []
            },
            "outputs": [
                {
                    "output_type": "display_data",
                    "data": {
                        "text/html": "(10 rows affected)"
                    },
                    "metadata": {}
                },
                {
                    "output_type": "display_data",
                    "data": {
                        "text/html": "Total execution time: 00:00:00.079"
                    },
                    "metadata": {}
                },
                {
                    "output_type": "execute_result",
                    "execution_count": 8,
                    "data": {
                        "application/vnd.dataresource+json": {
                            "schema": {
                                "fields": [
                                    {
                                        "name": "ProductName"
                                    },
                                    {
                                        "name": "TotalUnitsSold"
                                    }
                                ]
                            },
                            "data": [
                                {
                                    "ProductName": "LL Touring Frame - Blue, 58",
                                    "TotalUnitsSold": "4"
                                },
                                {
                                    "ProductName": "ML Mountain Frame-W - Silver, 38",
                                    "TotalUnitsSold": "7"
                                },
                                {
                                    "ProductName": "LL Mountain Frame - Black, 40",
                                    "TotalUnitsSold": "8"
                                },
                                {
                                    "ProductName": "LL Road Seat/Saddle",
                                    "TotalUnitsSold": "10"
                                },
                                {
                                    "ProductName": "LL Touring Frame - Blue, 62",
                                    "TotalUnitsSold": "15"
                                },
                                {
                                    "ProductName": "LL Mountain Frame - Black, 52",
                                    "TotalUnitsSold": "15"
                                },
                                {
                                    "ProductName": "HL Mountain Frame - Black, 44",
                                    "TotalUnitsSold": "17"
                                },
                                {
                                    "ProductName": "LL Touring Frame - Blue, 44",
                                    "TotalUnitsSold": "25"
                                },
                                {
                                    "ProductName": "LL Touring Frame - Yellow, 58",
                                    "TotalUnitsSold": "36"
                                },
                                {
                                    "ProductName": "LL Mountain Frame - Silver, 48",
                                    "TotalUnitsSold": "44"
                                }
                            ]
                        },
                        "text/html": "<table><tr><th>ProductName</th><th>TotalUnitsSold</th></tr><tr><td>LL Touring Frame - Blue, 58</td><td>4</td></tr><tr><td>ML Mountain Frame-W - Silver, 38</td><td>7</td></tr><tr><td>LL Mountain Frame - Black, 40</td><td>8</td></tr><tr><td>LL Road Seat/Saddle</td><td>10</td></tr><tr><td>LL Touring Frame - Blue, 62</td><td>15</td></tr><tr><td>LL Mountain Frame - Black, 52</td><td>15</td></tr><tr><td>HL Mountain Frame - Black, 44</td><td>17</td></tr><tr><td>LL Touring Frame - Blue, 44</td><td>25</td></tr><tr><td>LL Touring Frame - Yellow, 58</td><td>36</td></tr><tr><td>LL Mountain Frame - Silver, 48</td><td>44</td></tr></table>"
                    },
                    "metadata": {}
                }
            ],
            "execution_count": 8
        },
        {
            "cell_type": "markdown",
            "source": [
                "<span style=\"font-size: 12pt; font-family: &quot;Times New Roman&quot;, serif; color: rgb(0, 0, 0); background-color: transparent; font-variant-numeric: normal; font-variant-east-asian: normal; font-variant-alternates: normal; text-decoration-line: underline; text-decoration-skip-ink: none; vertical-align: baseline; white-space-collapse: preserve;\">Part B</span>\n",
                "\n",
                "<span style=\"font-size: 12pt; font-family: &quot;Times New Roman&quot;, serif; color: rgb(0, 0, 0); background-color: transparent; font-variant-numeric: normal; font-variant-east-asian: normal; font-variant-alternates: normal; vertical-align: baseline; white-space-collapse: preserve;\">The production manager is working on profit projections for the coming year.&nbsp; She needs to make some assumptions about the sales tax rates in various countries and wants to use a conservatively selected single rate for each country.</span><span style=\"font-size: 12pt; font-family: &quot;Times New Roman&quot;, serif; color: rgb(0, 0, 0); background-color: transparent; font-variant-numeric: normal; font-variant-east-asian: normal; font-variant-alternates: normal; vertical-align: baseline; white-space-collapse: preserve;\"><br></span><span style=\"font-size: 12pt; font-family: &quot;Times New Roman&quot;, serif; color: rgb(0, 0, 0); background-color: transparent; font-variant-numeric: normal; font-variant-east-asian: normal; font-variant-alternates: normal; vertical-align: baseline; white-space-collapse: preserve;\"><br></span><span style=\"font-size: 12pt; font-family: &quot;Times New Roman&quot;, serif; color: rgb(0, 0, 0); background-color: transparent; font-variant-numeric: normal; font-variant-east-asian: normal; font-variant-alternates: normal; vertical-align: baseline; white-space-collapse: preserve;\">Create a report showing the maximum sales tax rate for each country AdventureWorks serves.&nbsp; Use the full country name in the report. Sort the list by tax rate with the highest tax rate first.</span>\n",
                "\n",
                "<span style=\"font-size: 12pt; font-family: &quot;Times New Roman&quot;, serif; color: rgb(0, 0, 0); background-color: transparent; font-variant-numeric: normal; font-variant-east-asian: normal; font-variant-alternates: normal; vertical-align: baseline; white-space-collapse: preserve;\"><br></span>"
            ],
            "metadata": {
                "language": "sql",
                "azdata_cell_guid": "59a86400-e83b-4bd5-8474-702ce1aea8b1"
            },
            "attachments": {}
        },
        {
            "cell_type": "code",
            "source": [
                "SELECT \r\n",
                "cn.Name AS CountryName, \r\n",
                "MAX(str.TaxRate) AS MaxSalesTaxRate\r\n",
                "FROM Sales.SalesTaxRate str\r\n",
                "INNER JOIN Person.StateProvince sp\r\n",
                "ON str.StateProvinceID = sp.StateProvinceID\r\n",
                "INNER JOIN Person.CountryRegion cn\r\n",
                "ON sp.CountryRegionCode = cn.CountryRegionCode\r\n",
                "GROUP BY cn.Name\r\n",
                "ORDER BY MaxSalesTaxRate DESC"
            ],
            "metadata": {
                "language": "sql",
                "azdata_cell_guid": "af41da36-5c33-4028-ac82-08b97c4d6ae9"
            },
            "outputs": [
                {
                    "output_type": "display_data",
                    "data": {
                        "text/html": "(6 rows affected)"
                    },
                    "metadata": {}
                },
                {
                    "output_type": "display_data",
                    "data": {
                        "text/html": "Total execution time: 00:00:00.030"
                    },
                    "metadata": {}
                },
                {
                    "output_type": "execute_result",
                    "metadata": {},
                    "execution_count": 7,
                    "data": {
                        "application/vnd.dataresource+json": {
                            "schema": {
                                "fields": [
                                    {
                                        "name": "CountryName"
                                    },
                                    {
                                        "name": "MaxSalesTaxRate"
                                    }
                                ]
                            },
                            "data": [
                                {
                                    "CountryName": "France",
                                    "MaxSalesTaxRate": "19.60"
                                },
                                {
                                    "CountryName": "United Kingdom",
                                    "MaxSalesTaxRate": "17.50"
                                },
                                {
                                    "CountryName": "Germany",
                                    "MaxSalesTaxRate": "16.00"
                                },
                                {
                                    "CountryName": "Canada",
                                    "MaxSalesTaxRate": "14.25"
                                },
                                {
                                    "CountryName": "Australia",
                                    "MaxSalesTaxRate": "10.00"
                                },
                                {
                                    "CountryName": "United States",
                                    "MaxSalesTaxRate": "8.80"
                                }
                            ]
                        },
                        "text/html": [
                            "<table>",
                            "<tr><th>CountryName</th><th>MaxSalesTaxRate</th></tr>",
                            "<tr><td>France</td><td>19.60</td></tr>",
                            "<tr><td>United Kingdom</td><td>17.50</td></tr>",
                            "<tr><td>Germany</td><td>16.00</td></tr>",
                            "<tr><td>Canada</td><td>14.25</td></tr>",
                            "<tr><td>Australia</td><td>10.00</td></tr>",
                            "<tr><td>United States</td><td>8.80</td></tr>",
                            "</table>"
                        ]
                    }
                }
            ],
            "execution_count": 7
        },
        {
            "cell_type": "markdown",
            "source": [
                "<span style=\"font-size: 12pt; font-family: &quot;Times New Roman&quot;, serif; color: rgb(0, 0, 0); background-color: transparent; font-variant-numeric: normal; font-variant-east-asian: normal; font-variant-alternates: normal; text-decoration-line: underline; text-decoration-skip-ink: none; vertical-align: baseline; white-space-collapse: preserve;\">Part C</span>\n",
                "\n",
                "<span style=\"font-size: 12pt; font-family: &quot;Times New Roman&quot;, serif; color: rgb(0, 0, 0); background-color: transparent; font-variant-numeric: normal; font-variant-east-asian: normal; font-variant-alternates: normal; vertical-align: baseline; white-space-collapse: preserve;\">The quality assurance department is issuing a recall for all helmets shipped during the first five days of February 2014 due to a safety issue.&nbsp; Stores will handle the notification of individual customers, but the sales department needs your help to follow up with stores that serve customers who received the helmets.&nbsp; Produce a listing of stores that shipped helmets during the recall period. Your result should have two columns:</span><span style=\"font-size: 12pt; font-family: &quot;Times New Roman&quot;, serif; color: rgb(0, 0, 0); background-color: transparent; font-variant-numeric: normal; font-variant-east-asian: normal; font-variant-alternates: normal; vertical-align: baseline; white-space-collapse: preserve;\"><br><br></span>\n",
                "\n",
                "1. <span style=\"font-size: 12pt; background-color: transparent; font-variant-numeric: normal; font-variant-east-asian: normal; font-variant-alternates: normal; vertical-align: baseline; text-wrap: wrap;\">StoreName</span>\n",
                "    \n",
                "2. <span style=\"font-size: 12pt; background-color: transparent; font-variant-numeric: normal; font-variant-east-asian: normal; font-variant-alternates: normal; vertical-align: baseline; text-wrap: wrap;\">TerritoryName</span>\n",
                "    \n",
                "\n",
                "  \n",
                "\n",
                "<span style=\"font-size: 12pt; font-family: &quot;Times New Roman&quot;, serif; color: rgb(0, 0, 0); background-color: transparent; font-variant-numeric: normal; font-variant-east-asian: normal; font-variant-alternates: normal; vertical-align: baseline; white-space-collapse: preserve;\">Sort the list alphabetically, first by territory name and then by store name.&nbsp; Each store should only appear once in the list, regardless of the number of orders.</span>\n",
                "\n",
                "  \n",
                "\n",
                "<span style=\"font-size: 12pt; font-family: &quot;Times New Roman&quot;, serif; color: rgb(0, 0, 0); background-color: transparent; font-variant-numeric: normal; font-variant-east-asian: normal; font-variant-alternates: normal; text-decoration-line: underline; text-decoration-skip-ink: none; vertical-align: baseline; white-space-collapse: preserve;\">Hint</span><span style=\"font-size: 12pt; font-family: &quot;Times New Roman&quot;, serif; color: rgb(0, 0, 0); background-color: transparent; font-variant-numeric: normal; font-variant-east-asian: normal; font-variant-alternates: normal; vertical-align: baseline; white-space-collapse: preserve;\">: My solution to this problem used five INNER JOINs.&nbsp; Most of the tables are ones that you’re already familiar with using.&nbsp; You will need to bring in the Sales.SalesOrderDetail table as well to link to product information.&nbsp; If you aren’t sure how to join two tables, consult the data dictionary!</span>"
            ],
            "metadata": {
                "language": "sql",
                "azdata_cell_guid": "537b8dc0-3653-42a5-8ba1-ca1fd67a18b1"
            },
            "attachments": {}
        },
        {
            "cell_type": "code",
            "source": [
                "SELECT DISTINCT\r\n",
                "s.Name AS StoreName,\r\n",
                "st.Name AS TerritoryName\r\n",
                "FROM Sales.SalesOrderHeader soh\r\n",
                "INNER JOIN Sales.SalesOrderDetail sod\r\n",
                "ON soh.SalesOrderID = sod.SalesOrderID\r\n",
                "INNER JOIN Sales.Customer c\r\n",
                "ON soh.CustomerID = c.CustomerID\r\n",
                "INNER JOIN Sales.Store s\r\n",
                "ON c.StoreID = s.BusinessEntityID\r\n",
                "INNER JOIN Production.Product p\r\n",
                "ON sod.ProductID = p.ProductID\r\n",
                "INNER JOIN Production.ProductSubcategory psc\r\n",
                "ON p.ProductSubcategoryID = psc.ProductSubcategoryID\r\n",
                "INNER JOIN Sales.SalesTerritory st\r\n",
                "ON soh.TerritoryID = st.TerritoryID\r\n",
                "WHERE psc.Name LIKE '%Helmet%' \r\n",
                "AND soh.ShipDate BETWEEN '2014-02-01' AND '2014-02-05'\r\n",
                "ORDER BY st.Name, s.Name"
            ],
            "metadata": {
                "language": "sql",
                "azdata_cell_guid": "2ab71072-ec3b-4702-a9e7-f330993ac978"
            },
            "outputs": [
                {
                    "output_type": "display_data",
                    "data": {
                        "text/html": "(36 rows affected)"
                    },
                    "metadata": {}
                },
                {
                    "output_type": "display_data",
                    "data": {
                        "text/html": "Total execution time: 00:00:00.062"
                    },
                    "metadata": {}
                },
                {
                    "output_type": "execute_result",
                    "execution_count": 20,
                    "data": {
                        "application/vnd.dataresource+json": {
                            "schema": {
                                "fields": [
                                    {
                                        "name": "StoreName"
                                    },
                                    {
                                        "name": "TerritoryName"
                                    }
                                ]
                            },
                            "data": [
                                {
                                    "StoreName": "Bike Part Wholesalers",
                                    "TerritoryName": "Australia"
                                },
                                {
                                    "StoreName": "Nationwide Supply",
                                    "TerritoryName": "Australia"
                                },
                                {
                                    "StoreName": "Popular Bike Lines",
                                    "TerritoryName": "Australia"
                                },
                                {
                                    "StoreName": "Corner Bicycle Supply",
                                    "TerritoryName": "Canada"
                                },
                                {
                                    "StoreName": "Odometers and Accessories Company",
                                    "TerritoryName": "Canada"
                                },
                                {
                                    "StoreName": "Petroleum Products Distributors",
                                    "TerritoryName": "Canada"
                                },
                                {
                                    "StoreName": "Rapid Bikes",
                                    "TerritoryName": "Canada"
                                },
                                {
                                    "StoreName": "Vigorous Exercise Company",
                                    "TerritoryName": "Canada"
                                },
                                {
                                    "StoreName": "Local Sales and Rental",
                                    "TerritoryName": "Central"
                                },
                                {
                                    "StoreName": "Riders Company",
                                    "TerritoryName": "Central"
                                },
                                {
                                    "StoreName": "Work and Play Association",
                                    "TerritoryName": "Central"
                                },
                                {
                                    "StoreName": "World of Bikes",
                                    "TerritoryName": "Central"
                                },
                                {
                                    "StoreName": "Getaway Inn",
                                    "TerritoryName": "France"
                                },
                                {
                                    "StoreName": "Neighborhood Bicycle Storehouse",
                                    "TerritoryName": "France"
                                },
                                {
                                    "StoreName": "Racing Sales and Service",
                                    "TerritoryName": "France"
                                },
                                {
                                    "StoreName": "Educational Services",
                                    "TerritoryName": "Germany"
                                },
                                {
                                    "StoreName": "Enterprise Center",
                                    "TerritoryName": "Germany"
                                },
                                {
                                    "StoreName": "Rodeway Bike Store",
                                    "TerritoryName": "Germany"
                                },
                                {
                                    "StoreName": "Fourth Bike Store",
                                    "TerritoryName": "Northeast"
                                },
                                {
                                    "StoreName": "Glossy Bikes",
                                    "TerritoryName": "Northeast"
                                },
                                {
                                    "StoreName": "Larger Cycle Shop",
                                    "TerritoryName": "Northeast"
                                },
                                {
                                    "StoreName": "Recreation Systems",
                                    "TerritoryName": "Northeast"
                                },
                                {
                                    "StoreName": "The Bike Mechanics",
                                    "TerritoryName": "Northeast"
                                },
                                {
                                    "StoreName": "Fashionable Bikes and Accessories",
                                    "TerritoryName": "Northwest"
                                },
                                {
                                    "StoreName": "Blue-Ribbon Bike Company",
                                    "TerritoryName": "Southeast"
                                },
                                {
                                    "StoreName": "Excellent Riding Supplies",
                                    "TerritoryName": "Southeast"
                                },
                                {
                                    "StoreName": "Front Runner Bikes",
                                    "TerritoryName": "Southeast"
                                },
                                {
                                    "StoreName": "Sales and Supply Company",
                                    "TerritoryName": "Southeast"
                                },
                                {
                                    "StoreName": "Advanced Bike Components",
                                    "TerritoryName": "Southwest"
                                },
                                {
                                    "StoreName": "Chic Department Stores",
                                    "TerritoryName": "Southwest"
                                },
                                {
                                    "StoreName": "Coalition Bike Company",
                                    "TerritoryName": "Southwest"
                                },
                                {
                                    "StoreName": "Eastside Department Store",
                                    "TerritoryName": "Southwest"
                                },
                                {
                                    "StoreName": "First Cycle Store",
                                    "TerritoryName": "Southwest"
                                },
                                {
                                    "StoreName": "Futuristic Bikes",
                                    "TerritoryName": "Southwest"
                                },
                                {
                                    "StoreName": "Action Bicycle Specialists",
                                    "TerritoryName": "United Kingdom"
                                },
                                {
                                    "StoreName": "Riding Cycles",
                                    "TerritoryName": "United Kingdom"
                                }
                            ]
                        },
                        "text/html": "<table><tr><th>StoreName</th><th>TerritoryName</th></tr><tr><td>Bike Part Wholesalers</td><td>Australia</td></tr><tr><td>Nationwide Supply</td><td>Australia</td></tr><tr><td>Popular Bike Lines</td><td>Australia</td></tr><tr><td>Corner Bicycle Supply</td><td>Canada</td></tr><tr><td>Odometers and Accessories Company</td><td>Canada</td></tr><tr><td>Petroleum Products Distributors</td><td>Canada</td></tr><tr><td>Rapid Bikes</td><td>Canada</td></tr><tr><td>Vigorous Exercise Company</td><td>Canada</td></tr><tr><td>Local Sales and Rental</td><td>Central</td></tr><tr><td>Riders Company</td><td>Central</td></tr><tr><td>Work and Play Association</td><td>Central</td></tr><tr><td>World of Bikes</td><td>Central</td></tr><tr><td>Getaway Inn</td><td>France</td></tr><tr><td>Neighborhood Bicycle Storehouse</td><td>France</td></tr><tr><td>Racing Sales and Service</td><td>France</td></tr><tr><td>Educational Services</td><td>Germany</td></tr><tr><td>Enterprise Center</td><td>Germany</td></tr><tr><td>Rodeway Bike Store</td><td>Germany</td></tr><tr><td>Fourth Bike Store</td><td>Northeast</td></tr><tr><td>Glossy Bikes</td><td>Northeast</td></tr><tr><td>Larger Cycle Shop</td><td>Northeast</td></tr><tr><td>Recreation Systems</td><td>Northeast</td></tr><tr><td>The Bike Mechanics</td><td>Northeast</td></tr><tr><td>Fashionable Bikes and Accessories</td><td>Northwest</td></tr><tr><td>Blue-Ribbon Bike Company</td><td>Southeast</td></tr><tr><td>Excellent Riding Supplies</td><td>Southeast</td></tr><tr><td>Front Runner Bikes</td><td>Southeast</td></tr><tr><td>Sales and Supply Company</td><td>Southeast</td></tr><tr><td>Advanced Bike Components</td><td>Southwest</td></tr><tr><td>Chic Department Stores</td><td>Southwest</td></tr><tr><td>Coalition Bike Company</td><td>Southwest</td></tr><tr><td>Eastside Department Store</td><td>Southwest</td></tr><tr><td>First Cycle Store</td><td>Southwest</td></tr><tr><td>Futuristic Bikes</td><td>Southwest</td></tr><tr><td>Action Bicycle Specialists</td><td>United Kingdom</td></tr><tr><td>Riding Cycles</td><td>United Kingdom</td></tr></table>"
                    },
                    "metadata": {}
                }
            ],
            "execution_count": 20
        }
    ]
}