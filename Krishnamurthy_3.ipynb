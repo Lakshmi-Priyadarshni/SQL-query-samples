{
    "metadata": {
        "kernelspec": {
            "name": "SQL",
            "display_name": "SQL",
            "language": "sql"
        },
        "language_info": {
            "name": "sql",
            "version": ""
        }
    },
    "nbformat_minor": 2,
    "nbformat": 4,
    "cells": [
        {
            "cell_type": "markdown",
            "source": [
                "## Assignment 3\n",
                "\n",
                "**Lakshmi Priyadarshni Krishnamurthy**"
            ],
            "metadata": {
                "language": "sql",
                "azdata_cell_guid": "21bd41c2-caf5-4974-8bc3-ce50ae3e9fdc"
            },
            "attachments": {}
        },
        {
            "cell_type": "markdown",
            "source": [
                "<span style=\"font-size: 12pt; font-family: &quot;Times New Roman&quot;, serif; color: rgb(0, 0, 0); background-color: transparent; font-variant-numeric: normal; font-variant-east-asian: normal; font-variant-alternates: normal; vertical-align: baseline; white-space-collapse: preserve;\">In this assignment, you will write some database queries based on the AdventureWorks database we use in class.&nbsp; You’ll want to refer to both the schema diagram and the data dictionary.&nbsp; You also should use SQL Server Management Studio to explore the database.&nbsp; Remember, it’s not unusual for database administrators to change the database structure and forget to update the documentation!&nbsp; Check your results carefully.&nbsp;&nbsp;</span>  \n",
                "\n",
                "  \n",
                "\n",
                "<span style=\"font-size: 12pt; font-family: &quot;Times New Roman&quot;, serif; color: rgb(0, 0, 0); background-color: transparent; font-weight: 700; font-variant-numeric: normal; font-variant-east-asian: normal; font-variant-alternates: normal; text-decoration-line: underline; text-decoration-skip-ink: none; vertical-align: baseline; white-space-collapse: preserve;\">Problem 1</span>\n",
                "\n",
                "<span style=\"font-size: 12pt; font-family: &quot;Times New Roman&quot;, serif; color: rgb(0, 0, 0); background-color: transparent; font-variant-numeric: normal; font-variant-east-asian: normal; font-variant-alternates: normal; vertical-align: baseline; white-space-collapse: preserve;\">In the last homework assignment, you created a list of territories that required training because they did not have at least one month during 2013 with sales of more than $750,000. Working with this sample principle, use a CASE statement to create a list of all territories in alphabetical order, with a new column called \"TrainingRequired\" that has a value of either \"Yes\" or \"No.\"</span>\n",
                "\n",
                "<span style=\"font-size: 12pt; font-family: &quot;Times New Roman&quot;, serif; color: rgb(0, 0, 0); background-color: transparent; font-variant-numeric: normal; font-variant-east-asian: normal; font-variant-alternates: normal; vertical-align: baseline; white-space-collapse: preserve;\"><br></span>"
            ],
            "metadata": {
                "language": "sql",
                "azdata_cell_guid": "a8b11a2c-1854-4c91-8b34-2925865eb076"
            },
            "attachments": {}
        },
        {
            "cell_type": "code",
            "source": [
                "SELECT \r\n",
                "st.Name AS TerritoryName,\r\n",
                "CASE WHEN st.Name NOT IN (\r\n",
                "SELECT DISTINCT st2.Name \r\n",
                "FROM Sales.SalesOrderHeader AS soh\r\n",
                "INNER JOIN Sales.SalesTerritory AS st2\r\n",
                "ON soh.TerritoryID = st2.TerritoryID\r\n",
                "WHERE YEAR(SOH.OrderDate) = 2013\r\n",
                "GROUP BY st2.Name, MONTH(soh.OrderDate)\r\n",
                "HAVING SUM(soh.SubTotal) > 750000\r\n",
                ") THEN 'Yes'\r\n",
                "ELSE 'No'\r\n",
                "END AS TrainingRequired\r\n",
                "FROM \r\n",
                "Sales.SalesTerritory AS st\r\n",
                "ORDER BY TerritoryName"
            ],
            "metadata": {
                "azdata_cell_guid": "f3811581-299f-457f-bfcc-b19dc3c8d03f",
                "language": "sql",
                "tags": []
            },
            "outputs": [
                {
                    "output_type": "display_data",
                    "data": {
                        "text/html": "(10 rows affected)"
                    },
                    "metadata": {}
                },
                {
                    "output_type": "display_data",
                    "data": {
                        "text/html": "Total execution time: 00:00:00.111"
                    },
                    "metadata": {}
                },
                {
                    "output_type": "execute_result",
                    "execution_count": 5,
                    "data": {
                        "application/vnd.dataresource+json": {
                            "schema": {
                                "fields": [
                                    {
                                        "name": "TerritoryName"
                                    },
                                    {
                                        "name": "TrainingRequired"
                                    }
                                ]
                            },
                            "data": [
                                {
                                    "TerritoryName": "Australia",
                                    "TrainingRequired": "Yes"
                                },
                                {
                                    "TerritoryName": "Canada",
                                    "TrainingRequired": "No"
                                },
                                {
                                    "TerritoryName": "Central",
                                    "TrainingRequired": "Yes"
                                },
                                {
                                    "TerritoryName": "France",
                                    "TrainingRequired": "No"
                                },
                                {
                                    "TerritoryName": "Germany",
                                    "TrainingRequired": "Yes"
                                },
                                {
                                    "TerritoryName": "Northeast",
                                    "TrainingRequired": "Yes"
                                },
                                {
                                    "TerritoryName": "Northwest",
                                    "TrainingRequired": "No"
                                },
                                {
                                    "TerritoryName": "Southeast",
                                    "TrainingRequired": "Yes"
                                },
                                {
                                    "TerritoryName": "Southwest",
                                    "TrainingRequired": "No"
                                },
                                {
                                    "TerritoryName": "United Kingdom",
                                    "TrainingRequired": "Yes"
                                }
                            ]
                        },
                        "text/html": "<table><tr><th>TerritoryName</th><th>TrainingRequired</th></tr><tr><td>Australia</td><td>Yes</td></tr><tr><td>Canada</td><td>No</td></tr><tr><td>Central</td><td>Yes</td></tr><tr><td>France</td><td>No</td></tr><tr><td>Germany</td><td>Yes</td></tr><tr><td>Northeast</td><td>Yes</td></tr><tr><td>Northwest</td><td>No</td></tr><tr><td>Southeast</td><td>Yes</td></tr><tr><td>Southwest</td><td>No</td></tr><tr><td>United Kingdom</td><td>Yes</td></tr></table>"
                    },
                    "metadata": {}
                }
            ],
            "execution_count": 5
        },
        {
            "cell_type": "markdown",
            "source": [
                "<span style=\"font-size: 12pt; font-family: &quot;Times New Roman&quot;, serif; color: rgb(0, 0, 0); background-color: transparent; font-weight: 700; font-variant-numeric: normal; font-variant-east-asian: normal; font-variant-alternates: normal; text-decoration-line: underline; text-decoration-skip-ink: none; vertical-align: baseline; white-space-collapse: preserve;\">Problem 2</span>\n",
                "\n",
                "<span style=\"font-size: 12pt; font-family: &quot;Times New Roman&quot;, serif; color: rgb(0, 0, 0); background-color: transparent; font-variant-numeric: normal; font-variant-east-asian: normal; font-variant-alternates: normal; vertical-align: baseline; white-space-collapse: preserve;\">The sales manager wants to know how many sales orders were shipped to each country and state/province.&nbsp; Your result set should contain three columns: Country, StateProvince, and TotalOrders in alphabetical order by country, then showing the greatest number of TotalOrders.</span>\n",
                "\n",
                "  \n",
                "\n",
                "<span style=\"font-size: 12pt; font-family: &quot;Times New Roman&quot;, serif; color: rgb(0, 0, 0); background-color: transparent; font-variant-numeric: normal; font-variant-east-asian: normal; font-variant-alternates: normal; text-decoration-line: underline; text-decoration-skip-ink: none; vertical-align: baseline; white-space-collapse: preserve;\">Part A</span>\n",
                "\n",
                "<span style=\"font-size: 12pt; font-family: &quot;Times New Roman&quot;, serif; color: rgb(0, 0, 0); background-color: transparent; font-variant-numeric: normal; font-variant-east-asian: normal; font-variant-alternates: normal; vertical-align: baseline; white-space-collapse: preserve;\">Write a single query that shows the total number of sales orders from each country and each state/province within each country. Use the full name of each country and state/province.</span>"
            ],
            "metadata": {
                "language": "sql",
                "azdata_cell_guid": "48bdf3f5-24f3-47db-a69d-325eee330973"
            },
            "attachments": {}
        },
        {
            "cell_type": "code",
            "source": [
                "SELECT\r\n",
                "cr.Name AS Country,\r\n",
                "sp.Name AS StateProvince,\r\n",
                "COUNT(soh.SalesOrderNumber) AS TotalOrders\r\n",
                "FROM\r\n",
                "Person.CountryRegion cr\r\n",
                "INNER JOIN \r\n",
                "Person.StateProvince sp\r\n",
                "ON\r\n",
                "cr.CountryRegionCode = sp.CountryRegionCode\r\n",
                "INNER JOIN \r\n",
                "Person.Address a\r\n",
                "ON\r\n",
                "sp.StateProvinceID = a.StateProvinceID\r\n",
                "INNER JOIN\r\n",
                "Sales.SalesOrderHeader soh\r\n",
                "ON\r\n",
                "soh.ShipToAddressID = a.AddressID\r\n",
                "WHERE soh.Status = 5\r\n",
                "GROUP BY ROLLUP(cr.Name, sp.Name)\r\n",
                "HAVING cr.Name IS NOT NULL\r\n",
                "AND sp.Name IS NOT NULL\r\n",
                "ORDER BY Country ASC, TotalOrders DESC"
            ],
            "metadata": {
                "language": "sql",
                "azdata_cell_guid": "56176bc4-3d62-4b6f-a83b-e33ca695ed38"
            },
            "outputs": [
                {
                    "output_type": "display_data",
                    "data": {
                        "text/html": "(70 rows affected)"
                    },
                    "metadata": {}
                },
                {
                    "output_type": "display_data",
                    "data": {
                        "text/html": "Total execution time: 00:00:00.095"
                    },
                    "metadata": {}
                },
                {
                    "output_type": "execute_result",
                    "execution_count": 17,
                    "data": {
                        "application/vnd.dataresource+json": {
                            "schema": {
                                "fields": [
                                    {
                                        "name": "Country"
                                    },
                                    {
                                        "name": "StateProvince"
                                    },
                                    {
                                        "name": "TotalOrders"
                                    }
                                ]
                            },
                            "data": [
                                {
                                    "Country": "Australia",
                                    "StateProvince": "New South Wales",
                                    "TotalOrders": "3009"
                                },
                                {
                                    "Country": "Australia",
                                    "StateProvince": "Victoria",
                                    "TotalOrders": "1710"
                                },
                                {
                                    "Country": "Australia",
                                    "StateProvince": "Queensland",
                                    "TotalOrders": "1461"
                                },
                                {
                                    "Country": "Australia",
                                    "StateProvince": "South Australia",
                                    "TotalOrders": "466"
                                },
                                {
                                    "Country": "Australia",
                                    "StateProvince": "Tasmania",
                                    "TotalOrders": "197"
                                },
                                {
                                    "Country": "Canada",
                                    "StateProvince": "British Columbia",
                                    "TotalOrders": "3472"
                                },
                                {
                                    "Country": "Canada",
                                    "StateProvince": "Ontario",
                                    "TotalOrders": "339"
                                },
                                {
                                    "Country": "Canada",
                                    "StateProvince": "Quebec",
                                    "TotalOrders": "146"
                                },
                                {
                                    "Country": "Canada",
                                    "StateProvince": "Alberta",
                                    "TotalOrders": "90"
                                },
                                {
                                    "Country": "Canada",
                                    "StateProvince": "Manitoba",
                                    "TotalOrders": "12"
                                },
                                {
                                    "Country": "Canada",
                                    "StateProvince": "Brunswick",
                                    "TotalOrders": "8"
                                },
                                {
                                    "Country": "France",
                                    "StateProvince": "Seine (Paris)",
                                    "TotalOrders": "575"
                                },
                                {
                                    "Country": "France",
                                    "StateProvince": "Seine Saint Denis",
                                    "TotalOrders": "391"
                                },
                                {
                                    "Country": "France",
                                    "StateProvince": "Nord",
                                    "TotalOrders": "387"
                                },
                                {
                                    "Country": "France",
                                    "StateProvince": "Hauts de Seine",
                                    "TotalOrders": "295"
                                },
                                {
                                    "Country": "France",
                                    "StateProvince": "Essonne",
                                    "TotalOrders": "236"
                                },
                                {
                                    "Country": "France",
                                    "StateProvince": "Yveline",
                                    "TotalOrders": "224"
                                },
                                {
                                    "Country": "France",
                                    "StateProvince": "Loiret",
                                    "TotalOrders": "99"
                                },
                                {
                                    "Country": "France",
                                    "StateProvince": "Seine et Marne",
                                    "TotalOrders": "98"
                                },
                                {
                                    "Country": "France",
                                    "StateProvince": "Moselle",
                                    "TotalOrders": "82"
                                },
                                {
                                    "Country": "France",
                                    "StateProvince": "Val d'Oise",
                                    "TotalOrders": "71"
                                },
                                {
                                    "Country": "France",
                                    "StateProvince": "Garonne (Haute)",
                                    "TotalOrders": "46"
                                },
                                {
                                    "Country": "France",
                                    "StateProvince": "Val de Marne",
                                    "TotalOrders": "43"
                                },
                                {
                                    "Country": "France",
                                    "StateProvince": "Loir et Cher",
                                    "TotalOrders": "38"
                                },
                                {
                                    "Country": "France",
                                    "StateProvince": "Charente-Maritime",
                                    "TotalOrders": "31"
                                },
                                {
                                    "Country": "France",
                                    "StateProvince": "Somme",
                                    "TotalOrders": "30"
                                },
                                {
                                    "Country": "France",
                                    "StateProvince": "Pas de Calais",
                                    "TotalOrders": "26"
                                },
                                {
                                    "Country": "Germany",
                                    "StateProvince": "Saarland",
                                    "TotalOrders": "658"
                                },
                                {
                                    "Country": "Germany",
                                    "StateProvince": "Nordrhein-Westfalen",
                                    "TotalOrders": "570"
                                },
                                {
                                    "Country": "Germany",
                                    "StateProvince": "Hessen",
                                    "TotalOrders": "560"
                                },
                                {
                                    "Country": "Germany",
                                    "StateProvince": "Hamburg",
                                    "TotalOrders": "441"
                                },
                                {
                                    "Country": "Germany",
                                    "StateProvince": "Bayern",
                                    "TotalOrders": "344"
                                },
                                {
                                    "Country": "Germany",
                                    "StateProvince": "Brandenburg",
                                    "TotalOrders": "50"
                                },
                                {
                                    "Country": "United Kingdom",
                                    "StateProvince": "England",
                                    "TotalOrders": "3219"
                                },
                                {
                                    "Country": "United States",
                                    "StateProvince": "California",
                                    "TotalOrders": "5884"
                                },
                                {
                                    "Country": "United States",
                                    "StateProvince": "Washington",
                                    "TotalOrders": "3042"
                                },
                                {
                                    "Country": "United States",
                                    "StateProvince": "Oregon",
                                    "TotalOrders": "1380"
                                },
                                {
                                    "Country": "United States",
                                    "StateProvince": "Texas",
                                    "TotalOrders": "253"
                                },
                                {
                                    "Country": "United States",
                                    "StateProvince": "Florida",
                                    "TotalOrders": "159"
                                },
                                {
                                    "Country": "United States",
                                    "StateProvince": "Michigan",
                                    "TotalOrders": "104"
                                },
                                {
                                    "Country": "United States",
                                    "StateProvince": "Tennessee",
                                    "TotalOrders": "92"
                                },
                                {
                                    "Country": "United States",
                                    "StateProvince": "Ohio",
                                    "TotalOrders": "83"
                                },
                                {
                                    "Country": "United States",
                                    "StateProvince": "Georgia",
                                    "TotalOrders": "76"
                                },
                                {
                                    "Country": "United States",
                                    "StateProvince": "Illinois",
                                    "TotalOrders": "73"
                                },
                                {
                                    "Country": "United States",
                                    "StateProvince": "Missouri",
                                    "TotalOrders": "68"
                                },
                                {
                                    "Country": "United States",
                                    "StateProvince": "Arizona",
                                    "TotalOrders": "67"
                                },
                                {
                                    "Country": "United States",
                                    "StateProvince": "Indiana",
                                    "TotalOrders": "65"
                                },
                                {
                                    "Country": "United States",
                                    "StateProvince": "Colorado",
                                    "TotalOrders": "64"
                                },
                                {
                                    "Country": "United States",
                                    "StateProvince": "Utah",
                                    "TotalOrders": "60"
                                },
                                {
                                    "Country": "United States",
                                    "StateProvince": "Connecticut",
                                    "TotalOrders": "59"
                                },
                                {
                                    "Country": "United States",
                                    "StateProvince": "New York",
                                    "TotalOrders": "53"
                                },
                                {
                                    "Country": "United States",
                                    "StateProvince": "Nevada",
                                    "TotalOrders": "49"
                                },
                                {
                                    "Country": "United States",
                                    "StateProvince": "New Hampshire",
                                    "TotalOrders": "48"
                                },
                                {
                                    "Country": "United States",
                                    "StateProvince": "North Carolina",
                                    "TotalOrders": "42"
                                },
                                {
                                    "Country": "United States",
                                    "StateProvince": "Minnesota",
                                    "TotalOrders": "38"
                                },
                                {
                                    "Country": "United States",
                                    "StateProvince": "Virginia",
                                    "TotalOrders": "34"
                                },
                                {
                                    "Country": "United States",
                                    "StateProvince": "Wyoming",
                                    "TotalOrders": "34"
                                },
                                {
                                    "Country": "United States",
                                    "StateProvince": "Massachusetts",
                                    "TotalOrders": "25"
                                },
                                {
                                    "Country": "United States",
                                    "StateProvince": "Wisconsin",
                                    "TotalOrders": "24"
                                },
                                {
                                    "Country": "United States",
                                    "StateProvince": "Kentucky",
                                    "TotalOrders": "23"
                                },
                                {
                                    "Country": "United States",
                                    "StateProvince": "South Carolina",
                                    "TotalOrders": "22"
                                },
                                {
                                    "Country": "United States",
                                    "StateProvince": "Alabama",
                                    "TotalOrders": "22"
                                },
                                {
                                    "Country": "United States",
                                    "StateProvince": "New Mexico",
                                    "TotalOrders": "20"
                                },
                                {
                                    "Country": "United States",
                                    "StateProvince": "Montana",
                                    "TotalOrders": "16"
                                },
                                {
                                    "Country": "United States",
                                    "StateProvince": "Mississippi",
                                    "TotalOrders": "16"
                                },
                                {
                                    "Country": "United States",
                                    "StateProvince": "South Dakota",
                                    "TotalOrders": "14"
                                },
                                {
                                    "Country": "United States",
                                    "StateProvince": "Idaho",
                                    "TotalOrders": "13"
                                },
                                {
                                    "Country": "United States",
                                    "StateProvince": "Maine",
                                    "TotalOrders": "12"
                                },
                                {
                                    "Country": "United States",
                                    "StateProvince": "Rhode Island",
                                    "TotalOrders": "6"
                                },
                                {
                                    "Country": "United States",
                                    "StateProvince": "Maryland",
                                    "TotalOrders": "1"
                                }
                            ]
                        },
                        "text/html": "<table><tr><th>Country</th><th>StateProvince</th><th>TotalOrders</th></tr><tr><td>Australia</td><td>New South Wales</td><td>3009</td></tr><tr><td>Australia</td><td>Victoria</td><td>1710</td></tr><tr><td>Australia</td><td>Queensland</td><td>1461</td></tr><tr><td>Australia</td><td>South Australia</td><td>466</td></tr><tr><td>Australia</td><td>Tasmania</td><td>197</td></tr><tr><td>Canada</td><td>British Columbia</td><td>3472</td></tr><tr><td>Canada</td><td>Ontario</td><td>339</td></tr><tr><td>Canada</td><td>Quebec</td><td>146</td></tr><tr><td>Canada</td><td>Alberta</td><td>90</td></tr><tr><td>Canada</td><td>Manitoba</td><td>12</td></tr><tr><td>Canada</td><td>Brunswick</td><td>8</td></tr><tr><td>France</td><td>Seine (Paris)</td><td>575</td></tr><tr><td>France</td><td>Seine Saint Denis</td><td>391</td></tr><tr><td>France</td><td>Nord</td><td>387</td></tr><tr><td>France</td><td>Hauts de Seine</td><td>295</td></tr><tr><td>France</td><td>Essonne</td><td>236</td></tr><tr><td>France</td><td>Yveline</td><td>224</td></tr><tr><td>France</td><td>Loiret</td><td>99</td></tr><tr><td>France</td><td>Seine et Marne</td><td>98</td></tr><tr><td>France</td><td>Moselle</td><td>82</td></tr><tr><td>France</td><td>Val d&#39;Oise</td><td>71</td></tr><tr><td>France</td><td>Garonne (Haute)</td><td>46</td></tr><tr><td>France</td><td>Val de Marne</td><td>43</td></tr><tr><td>France</td><td>Loir et Cher</td><td>38</td></tr><tr><td>France</td><td>Charente-Maritime</td><td>31</td></tr><tr><td>France</td><td>Somme</td><td>30</td></tr><tr><td>France</td><td>Pas de Calais</td><td>26</td></tr><tr><td>Germany</td><td>Saarland</td><td>658</td></tr><tr><td>Germany</td><td>Nordrhein-Westfalen</td><td>570</td></tr><tr><td>Germany</td><td>Hessen</td><td>560</td></tr><tr><td>Germany</td><td>Hamburg</td><td>441</td></tr><tr><td>Germany</td><td>Bayern</td><td>344</td></tr><tr><td>Germany</td><td>Brandenburg</td><td>50</td></tr><tr><td>United Kingdom</td><td>England</td><td>3219</td></tr><tr><td>United States</td><td>California</td><td>5884</td></tr><tr><td>United States</td><td>Washington</td><td>3042</td></tr><tr><td>United States</td><td>Oregon</td><td>1380</td></tr><tr><td>United States</td><td>Texas</td><td>253</td></tr><tr><td>United States</td><td>Florida</td><td>159</td></tr><tr><td>United States</td><td>Michigan</td><td>104</td></tr><tr><td>United States</td><td>Tennessee</td><td>92</td></tr><tr><td>United States</td><td>Ohio</td><td>83</td></tr><tr><td>United States</td><td>Georgia</td><td>76</td></tr><tr><td>United States</td><td>Illinois</td><td>73</td></tr><tr><td>United States</td><td>Missouri</td><td>68</td></tr><tr><td>United States</td><td>Arizona</td><td>67</td></tr><tr><td>United States</td><td>Indiana</td><td>65</td></tr><tr><td>United States</td><td>Colorado</td><td>64</td></tr><tr><td>United States</td><td>Utah</td><td>60</td></tr><tr><td>United States</td><td>Connecticut</td><td>59</td></tr><tr><td>United States</td><td>New York</td><td>53</td></tr><tr><td>United States</td><td>Nevada</td><td>49</td></tr><tr><td>United States</td><td>New Hampshire</td><td>48</td></tr><tr><td>United States</td><td>North Carolina</td><td>42</td></tr><tr><td>United States</td><td>Minnesota</td><td>38</td></tr><tr><td>United States</td><td>Virginia</td><td>34</td></tr><tr><td>United States</td><td>Wyoming</td><td>34</td></tr><tr><td>United States</td><td>Massachusetts</td><td>25</td></tr><tr><td>United States</td><td>Wisconsin</td><td>24</td></tr><tr><td>United States</td><td>Kentucky</td><td>23</td></tr><tr><td>United States</td><td>South Carolina</td><td>22</td></tr><tr><td>United States</td><td>Alabama</td><td>22</td></tr><tr><td>United States</td><td>New Mexico</td><td>20</td></tr><tr><td>United States</td><td>Montana</td><td>16</td></tr><tr><td>United States</td><td>Mississippi</td><td>16</td></tr><tr><td>United States</td><td>South Dakota</td><td>14</td></tr><tr><td>United States</td><td>Idaho</td><td>13</td></tr><tr><td>United States</td><td>Maine</td><td>12</td></tr><tr><td>United States</td><td>Rhode Island</td><td>6</td></tr><tr><td>United States</td><td>Maryland</td><td>1</td></tr></table>"
                    },
                    "metadata": {}
                }
            ],
            "execution_count": 17
        },
        {
            "cell_type": "markdown",
            "source": [
                "**<u>Problem 2</u>** \n",
                "\n",
                "<span style=\"font-size: 12pt; font-family: &quot;Times New Roman&quot;, serif; color: rgb(0, 0, 0); background-color: transparent; font-variant-numeric: normal; font-variant-east-asian: normal; font-variant-alternates: normal; text-decoration-line: underline; text-decoration-skip-ink: none; vertical-align: baseline; white-space-collapse: preserve;\">Part B</span>\n",
                "\n",
                "<span style=\"font-size: 12pt; font-family: &quot;Times New Roman&quot;, serif; color: rgb(0, 0, 0); background-color: transparent; font-variant-numeric: normal; font-variant-east-asian: normal; font-variant-alternates: normal; vertical-align: baseline; white-space-collapse: preserve;\">Modify your query to only show cases with 100 or more orders, sorted in the same fashion as Part A.</span>"
            ],
            "metadata": {
                "language": "sql",
                "azdata_cell_guid": "671bcd23-9dc5-4218-a560-fa3f0f4d1130"
            },
            "attachments": {}
        },
        {
            "cell_type": "code",
            "source": [
                "SELECT\r\n",
                "cr.Name AS Country,\r\n",
                "sp.Name AS StateProvince,\r\n",
                "COUNT(soh.SalesOrderNumber) AS TotalOrders\r\n",
                "FROM\r\n",
                "Person.CountryRegion cr\r\n",
                "INNER JOIN \r\n",
                "Person.StateProvince sp\r\n",
                "ON\r\n",
                "cr.CountryRegionCode = sp.CountryRegionCode\r\n",
                "INNER JOIN \r\n",
                "Person.Address a\r\n",
                "ON\r\n",
                "sp.StateProvinceID = a.StateProvinceID\r\n",
                "INNER JOIN\r\n",
                "Sales.SalesOrderHeader soh\r\n",
                "ON\r\n",
                "soh.ShipToAddressID = a.AddressID\r\n",
                "WHERE soh.Status = 5\r\n",
                "GROUP BY ROLLUP(cr.Name, sp.Name)\r\n",
                "HAVING cr.Name IS NOT NULL\r\n",
                "AND sp.Name IS NOT NULL\r\n",
                "AND COUNT(soh.SalesOrderNumber) >= 100\r\n",
                "ORDER BY Country ASC, TotalOrders DESC\r\n",
                "\r\n",
                "-- A better approach\r\n",
                "SELECT CountryRegion as Country\r\n",
                "      ,StateProvince\r\n",
                "      ,SUM(quantity) AS Quantity\r\n",
                "FROM (SELECT cr.Name AS CountryRegion,\r\n",
                "              sp.Name AS StateProvince,\r\n",
                "              COUNT(soh.SalesOrderID) AS quantity\r\n",
                "              FROM Sales.SalesOrderHeader soh\r\n",
                "              INNER JOIN Person.Address a\r\n",
                "              ON soh.ShipToAddressID = a.AddressID\r\n",
                "              INNER JOIN Person.StateProvince sp\r\n",
                "              ON sp.StateProvinceID = a.StateProvinceID\r\n",
                "              INNER JOIN Person.CountryRegion cr\r\n",
                "              ON sp.CountryRegionCode = cr.CountryRegionCode\r\n",
                "              WHERE soh.Status = 5    -- these are the orders that were actually shipped\r\n",
                "              GROUP BY cr.Name, sp.Name\r\n",
                "              HAVING COUNT(soh.SalesOrderID) > 100) AS Sales\r\n",
                "GROUP BY ROLLUP(CountryRegion, StateProvince)\r\n",
                "ORDER BY Country, Quantity DESC --"
            ],
            "metadata": {
                "language": "sql",
                "azdata_cell_guid": "d5fc2b1c-7796-4b05-a1b8-21642106dd65"
            },
            "outputs": [
                {
                    "output_type": "display_data",
                    "data": {
                        "text/html": "(26 rows affected)"
                    },
                    "metadata": {}
                },
                {
                    "output_type": "display_data",
                    "data": {
                        "text/html": "(33 rows affected)"
                    },
                    "metadata": {}
                },
                {
                    "output_type": "display_data",
                    "data": {
                        "text/html": "Total execution time: 00:00:00.133"
                    },
                    "metadata": {}
                },
                {
                    "output_type": "execute_result",
                    "metadata": {},
                    "execution_count": 2,
                    "data": {
                        "application/vnd.dataresource+json": {
                            "schema": {
                                "fields": [
                                    {
                                        "name": "Country"
                                    },
                                    {
                                        "name": "StateProvince"
                                    },
                                    {
                                        "name": "TotalOrders"
                                    }
                                ]
                            },
                            "data": [
                                {
                                    "Country": "Australia",
                                    "StateProvince": "New South Wales",
                                    "TotalOrders": "3009"
                                },
                                {
                                    "Country": "Australia",
                                    "StateProvince": "Victoria",
                                    "TotalOrders": "1710"
                                },
                                {
                                    "Country": "Australia",
                                    "StateProvince": "Queensland",
                                    "TotalOrders": "1461"
                                },
                                {
                                    "Country": "Australia",
                                    "StateProvince": "South Australia",
                                    "TotalOrders": "466"
                                },
                                {
                                    "Country": "Australia",
                                    "StateProvince": "Tasmania",
                                    "TotalOrders": "197"
                                },
                                {
                                    "Country": "Canada",
                                    "StateProvince": "British Columbia",
                                    "TotalOrders": "3472"
                                },
                                {
                                    "Country": "Canada",
                                    "StateProvince": "Ontario",
                                    "TotalOrders": "339"
                                },
                                {
                                    "Country": "Canada",
                                    "StateProvince": "Quebec",
                                    "TotalOrders": "146"
                                },
                                {
                                    "Country": "France",
                                    "StateProvince": "Seine (Paris)",
                                    "TotalOrders": "575"
                                },
                                {
                                    "Country": "France",
                                    "StateProvince": "Seine Saint Denis",
                                    "TotalOrders": "391"
                                },
                                {
                                    "Country": "France",
                                    "StateProvince": "Nord",
                                    "TotalOrders": "387"
                                },
                                {
                                    "Country": "France",
                                    "StateProvince": "Hauts de Seine",
                                    "TotalOrders": "295"
                                },
                                {
                                    "Country": "France",
                                    "StateProvince": "Essonne",
                                    "TotalOrders": "236"
                                },
                                {
                                    "Country": "France",
                                    "StateProvince": "Yveline",
                                    "TotalOrders": "224"
                                },
                                {
                                    "Country": "Germany",
                                    "StateProvince": "Saarland",
                                    "TotalOrders": "658"
                                },
                                {
                                    "Country": "Germany",
                                    "StateProvince": "Nordrhein-Westfalen",
                                    "TotalOrders": "570"
                                },
                                {
                                    "Country": "Germany",
                                    "StateProvince": "Hessen",
                                    "TotalOrders": "560"
                                },
                                {
                                    "Country": "Germany",
                                    "StateProvince": "Hamburg",
                                    "TotalOrders": "441"
                                },
                                {
                                    "Country": "Germany",
                                    "StateProvince": "Bayern",
                                    "TotalOrders": "344"
                                },
                                {
                                    "Country": "United Kingdom",
                                    "StateProvince": "England",
                                    "TotalOrders": "3219"
                                },
                                {
                                    "Country": "United States",
                                    "StateProvince": "California",
                                    "TotalOrders": "5884"
                                },
                                {
                                    "Country": "United States",
                                    "StateProvince": "Washington",
                                    "TotalOrders": "3042"
                                },
                                {
                                    "Country": "United States",
                                    "StateProvince": "Oregon",
                                    "TotalOrders": "1380"
                                },
                                {
                                    "Country": "United States",
                                    "StateProvince": "Texas",
                                    "TotalOrders": "253"
                                },
                                {
                                    "Country": "United States",
                                    "StateProvince": "Florida",
                                    "TotalOrders": "159"
                                },
                                {
                                    "Country": "United States",
                                    "StateProvince": "Michigan",
                                    "TotalOrders": "104"
                                }
                            ]
                        },
                        "text/html": [
                            "<table>",
                            "<tr><th>Country</th><th>StateProvince</th><th>TotalOrders</th></tr>",
                            "<tr><td>Australia</td><td>New South Wales</td><td>3009</td></tr>",
                            "<tr><td>Australia</td><td>Victoria</td><td>1710</td></tr>",
                            "<tr><td>Australia</td><td>Queensland</td><td>1461</td></tr>",
                            "<tr><td>Australia</td><td>South Australia</td><td>466</td></tr>",
                            "<tr><td>Australia</td><td>Tasmania</td><td>197</td></tr>",
                            "<tr><td>Canada</td><td>British Columbia</td><td>3472</td></tr>",
                            "<tr><td>Canada</td><td>Ontario</td><td>339</td></tr>",
                            "<tr><td>Canada</td><td>Quebec</td><td>146</td></tr>",
                            "<tr><td>France</td><td>Seine (Paris)</td><td>575</td></tr>",
                            "<tr><td>France</td><td>Seine Saint Denis</td><td>391</td></tr>",
                            "<tr><td>France</td><td>Nord</td><td>387</td></tr>",
                            "<tr><td>France</td><td>Hauts de Seine</td><td>295</td></tr>",
                            "<tr><td>France</td><td>Essonne</td><td>236</td></tr>",
                            "<tr><td>France</td><td>Yveline</td><td>224</td></tr>",
                            "<tr><td>Germany</td><td>Saarland</td><td>658</td></tr>",
                            "<tr><td>Germany</td><td>Nordrhein-Westfalen</td><td>570</td></tr>",
                            "<tr><td>Germany</td><td>Hessen</td><td>560</td></tr>",
                            "<tr><td>Germany</td><td>Hamburg</td><td>441</td></tr>",
                            "<tr><td>Germany</td><td>Bayern</td><td>344</td></tr>",
                            "<tr><td>United Kingdom</td><td>England</td><td>3219</td></tr>",
                            "<tr><td>United States</td><td>California</td><td>5884</td></tr>",
                            "<tr><td>United States</td><td>Washington</td><td>3042</td></tr>",
                            "<tr><td>United States</td><td>Oregon</td><td>1380</td></tr>",
                            "<tr><td>United States</td><td>Texas</td><td>253</td></tr>",
                            "<tr><td>United States</td><td>Florida</td><td>159</td></tr>",
                            "<tr><td>United States</td><td>Michigan</td><td>104</td></tr>",
                            "</table>"
                        ]
                    }
                },
                {
                    "output_type": "execute_result",
                    "metadata": {},
                    "execution_count": 2,
                    "data": {
                        "application/vnd.dataresource+json": {
                            "schema": {
                                "fields": [
                                    {
                                        "name": "Country"
                                    },
                                    {
                                        "name": "StateProvince"
                                    },
                                    {
                                        "name": "Quantity"
                                    }
                                ]
                            },
                            "data": [
                                {
                                    "Country": "NULL",
                                    "StateProvince": "NULL",
                                    "Quantity": "29522"
                                },
                                {
                                    "Country": "Australia",
                                    "StateProvince": "NULL",
                                    "Quantity": "6843"
                                },
                                {
                                    "Country": "Australia",
                                    "StateProvince": "New South Wales",
                                    "Quantity": "3009"
                                },
                                {
                                    "Country": "Australia",
                                    "StateProvince": "Victoria",
                                    "Quantity": "1710"
                                },
                                {
                                    "Country": "Australia",
                                    "StateProvince": "Queensland",
                                    "Quantity": "1461"
                                },
                                {
                                    "Country": "Australia",
                                    "StateProvince": "South Australia",
                                    "Quantity": "466"
                                },
                                {
                                    "Country": "Australia",
                                    "StateProvince": "Tasmania",
                                    "Quantity": "197"
                                },
                                {
                                    "Country": "Canada",
                                    "StateProvince": "NULL",
                                    "Quantity": "3957"
                                },
                                {
                                    "Country": "Canada",
                                    "StateProvince": "British Columbia",
                                    "Quantity": "3472"
                                },
                                {
                                    "Country": "Canada",
                                    "StateProvince": "Ontario",
                                    "Quantity": "339"
                                },
                                {
                                    "Country": "Canada",
                                    "StateProvince": "Quebec",
                                    "Quantity": "146"
                                },
                                {
                                    "Country": "France",
                                    "StateProvince": "NULL",
                                    "Quantity": "2108"
                                },
                                {
                                    "Country": "France",
                                    "StateProvince": "Seine (Paris)",
                                    "Quantity": "575"
                                },
                                {
                                    "Country": "France",
                                    "StateProvince": "Seine Saint Denis",
                                    "Quantity": "391"
                                },
                                {
                                    "Country": "France",
                                    "StateProvince": "Nord",
                                    "Quantity": "387"
                                },
                                {
                                    "Country": "France",
                                    "StateProvince": "Hauts de Seine",
                                    "Quantity": "295"
                                },
                                {
                                    "Country": "France",
                                    "StateProvince": "Essonne",
                                    "Quantity": "236"
                                },
                                {
                                    "Country": "France",
                                    "StateProvince": "Yveline",
                                    "Quantity": "224"
                                },
                                {
                                    "Country": "Germany",
                                    "StateProvince": "NULL",
                                    "Quantity": "2573"
                                },
                                {
                                    "Country": "Germany",
                                    "StateProvince": "Saarland",
                                    "Quantity": "658"
                                },
                                {
                                    "Country": "Germany",
                                    "StateProvince": "Nordrhein-Westfalen",
                                    "Quantity": "570"
                                },
                                {
                                    "Country": "Germany",
                                    "StateProvince": "Hessen",
                                    "Quantity": "560"
                                },
                                {
                                    "Country": "Germany",
                                    "StateProvince": "Hamburg",
                                    "Quantity": "441"
                                },
                                {
                                    "Country": "Germany",
                                    "StateProvince": "Bayern",
                                    "Quantity": "344"
                                },
                                {
                                    "Country": "United Kingdom",
                                    "StateProvince": "England",
                                    "Quantity": "3219"
                                },
                                {
                                    "Country": "United Kingdom",
                                    "StateProvince": "NULL",
                                    "Quantity": "3219"
                                },
                                {
                                    "Country": "United States",
                                    "StateProvince": "NULL",
                                    "Quantity": "10822"
                                },
                                {
                                    "Country": "United States",
                                    "StateProvince": "California",
                                    "Quantity": "5884"
                                },
                                {
                                    "Country": "United States",
                                    "StateProvince": "Washington",
                                    "Quantity": "3042"
                                },
                                {
                                    "Country": "United States",
                                    "StateProvince": "Oregon",
                                    "Quantity": "1380"
                                },
                                {
                                    "Country": "United States",
                                    "StateProvince": "Texas",
                                    "Quantity": "253"
                                },
                                {
                                    "Country": "United States",
                                    "StateProvince": "Florida",
                                    "Quantity": "159"
                                },
                                {
                                    "Country": "United States",
                                    "StateProvince": "Michigan",
                                    "Quantity": "104"
                                }
                            ]
                        },
                        "text/html": [
                            "<table>",
                            "<tr><th>Country</th><th>StateProvince</th><th>Quantity</th></tr>",
                            "<tr><td>NULL</td><td>NULL</td><td>29522</td></tr>",
                            "<tr><td>Australia</td><td>NULL</td><td>6843</td></tr>",
                            "<tr><td>Australia</td><td>New South Wales</td><td>3009</td></tr>",
                            "<tr><td>Australia</td><td>Victoria</td><td>1710</td></tr>",
                            "<tr><td>Australia</td><td>Queensland</td><td>1461</td></tr>",
                            "<tr><td>Australia</td><td>South Australia</td><td>466</td></tr>",
                            "<tr><td>Australia</td><td>Tasmania</td><td>197</td></tr>",
                            "<tr><td>Canada</td><td>NULL</td><td>3957</td></tr>",
                            "<tr><td>Canada</td><td>British Columbia</td><td>3472</td></tr>",
                            "<tr><td>Canada</td><td>Ontario</td><td>339</td></tr>",
                            "<tr><td>Canada</td><td>Quebec</td><td>146</td></tr>",
                            "<tr><td>France</td><td>NULL</td><td>2108</td></tr>",
                            "<tr><td>France</td><td>Seine (Paris)</td><td>575</td></tr>",
                            "<tr><td>France</td><td>Seine Saint Denis</td><td>391</td></tr>",
                            "<tr><td>France</td><td>Nord</td><td>387</td></tr>",
                            "<tr><td>France</td><td>Hauts de Seine</td><td>295</td></tr>",
                            "<tr><td>France</td><td>Essonne</td><td>236</td></tr>",
                            "<tr><td>France</td><td>Yveline</td><td>224</td></tr>",
                            "<tr><td>Germany</td><td>NULL</td><td>2573</td></tr>",
                            "<tr><td>Germany</td><td>Saarland</td><td>658</td></tr>",
                            "<tr><td>Germany</td><td>Nordrhein-Westfalen</td><td>570</td></tr>",
                            "<tr><td>Germany</td><td>Hessen</td><td>560</td></tr>",
                            "<tr><td>Germany</td><td>Hamburg</td><td>441</td></tr>",
                            "<tr><td>Germany</td><td>Bayern</td><td>344</td></tr>",
                            "<tr><td>United Kingdom</td><td>England</td><td>3219</td></tr>",
                            "<tr><td>United Kingdom</td><td>NULL</td><td>3219</td></tr>",
                            "<tr><td>United States</td><td>NULL</td><td>10822</td></tr>",
                            "<tr><td>United States</td><td>California</td><td>5884</td></tr>",
                            "<tr><td>United States</td><td>Washington</td><td>3042</td></tr>",
                            "<tr><td>United States</td><td>Oregon</td><td>1380</td></tr>",
                            "<tr><td>United States</td><td>Texas</td><td>253</td></tr>",
                            "<tr><td>United States</td><td>Florida</td><td>159</td></tr>",
                            "<tr><td>United States</td><td>Michigan</td><td>104</td></tr>",
                            "</table>"
                        ]
                    }
                }
            ],
            "execution_count": 2
        },
        {
            "cell_type": "markdown",
            "source": [
                "<span style=\"font-size: 12pt; font-family: &quot;Times New Roman&quot;, serif; color: rgb(0, 0, 0); background-color: transparent; font-weight: 700; font-variant-numeric: normal; font-variant-east-asian: normal; font-variant-alternates: normal; text-decoration-line: underline; text-decoration-skip-ink: none; vertical-align: baseline; white-space-collapse: preserve;\">Problem 3</span>\n",
                "\n",
                "<span style=\"font-size: 12pt; font-family: &quot;Times New Roman&quot;, serif; color: rgb(0, 0, 0); background-color: transparent; font-variant-numeric: normal; font-variant-east-asian: normal; font-variant-alternates: normal; vertical-align: baseline; white-space-collapse: preserve;\">Produce a report showing the total number of units for each product sold by AdventureWorks that also includes the category of each product and each product's sales rank and quintile within the category.&nbsp; Make sure the result set is alphabetical by category and in the appropriate rank order.</span>"
            ],
            "metadata": {
                "language": "sql",
                "azdata_cell_guid": "42c089a5-2d41-4a6b-aad5-7723e2f6cb32"
            },
            "attachments": {}
        },
        {
            "cell_type": "code",
            "source": [
                "SELECT\r\n",
                "p.Name AS ProductName,\r\n",
                "pc.Name AS ProductCategory,\r\n",
                "SUM(sod.OrderQty) AS TotalUnitsSold,\r\n",
                "RANK () OVER\r\n",
                "(PARTITION BY pc.Name ORDER BY SUM(sod.OrderQty) DESC) AS Rank,\r\n",
                "NTILE(5) OVER \r\n",
                "(PARTITION BY pc.Name ORDER BY SUM(sod.OrderQty) DESC) AS Quintile\r\n",
                "FROM \r\n",
                "Production.Product p\r\n",
                "INNER JOIN\r\n",
                "Production.ProductSubcategory psc\r\n",
                "ON psc.ProductSubcategoryID = p.ProductSubcategoryID\r\n",
                "INNER JOIN\r\n",
                "Production.ProductCategory pc\r\n",
                "ON psc.ProductCategoryID = pc.ProductCategoryID\r\n",
                "INNER JOIN\r\n",
                "Sales.SalesOrderDetail sod\r\n",
                "ON\r\n",
                "p.ProductID = sod.ProductID\r\n",
                "GROUP BY p.Name, pc.Name \r\n",
                "ORDER BY ProductCategory"
            ],
            "metadata": {
                "language": "sql",
                "azdata_cell_guid": "55e625b0-cdb4-4f1f-9165-1f17720abaa2"
            },
            "outputs": [
                {
                    "output_type": "display_data",
                    "data": {
                        "text/html": "(266 rows affected)"
                    },
                    "metadata": {}
                },
                {
                    "output_type": "display_data",
                    "data": {
                        "text/html": "Total execution time: 00:00:00.694"
                    },
                    "metadata": {}
                },
                {
                    "output_type": "execute_result",
                    "execution_count": 3,
                    "data": {
                        "application/vnd.dataresource+json": {
                            "schema": {
                                "fields": [
                                    {
                                        "name": "ProductName"
                                    },
                                    {
                                        "name": "ProductCategory"
                                    },
                                    {
                                        "name": "TotalUnitsSold"
                                    },
                                    {
                                        "name": "Rank"
                                    },
                                    {
                                        "name": "Quintile"
                                    }
                                ]
                            },
                            "data": [
                                {
                                    "ProductName": "Water Bottle - 30 oz.",
                                    "ProductCategory": "Accessories",
                                    "TotalUnitsSold": "6815",
                                    "Rank": "1",
                                    "Quintile": "1"
                                },
                                {
                                    "ProductName": "Sport-100 Helmet, Blue",
                                    "ProductCategory": "Accessories",
                                    "TotalUnitsSold": "6743",
                                    "Rank": "2",
                                    "Quintile": "1"
                                },
                                {
                                    "ProductName": "Sport-100 Helmet, Black",
                                    "ProductCategory": "Accessories",
                                    "TotalUnitsSold": "6532",
                                    "Rank": "3",
                                    "Quintile": "1"
                                },
                                {
                                    "ProductName": "Sport-100 Helmet, Red",
                                    "ProductCategory": "Accessories",
                                    "TotalUnitsSold": "6266",
                                    "Rank": "4",
                                    "Quintile": "1"
                                },
                                {
                                    "ProductName": "Patch Kit/8 Patches",
                                    "ProductCategory": "Accessories",
                                    "TotalUnitsSold": "3865",
                                    "Rank": "5",
                                    "Quintile": "1"
                                },
                                {
                                    "ProductName": "Bike Wash - Dissolver",
                                    "ProductCategory": "Accessories",
                                    "TotalUnitsSold": "3319",
                                    "Rank": "6",
                                    "Quintile": "2"
                                },
                                {
                                    "ProductName": "Hitch Rack - 4-Bike",
                                    "ProductCategory": "Accessories",
                                    "TotalUnitsSold": "3166",
                                    "Rank": "7",
                                    "Quintile": "2"
                                },
                                {
                                    "ProductName": "Mountain Tire Tube",
                                    "ProductCategory": "Accessories",
                                    "TotalUnitsSold": "3095",
                                    "Rank": "8",
                                    "Quintile": "2"
                                },
                                {
                                    "ProductName": "Hydration Pack - 70 oz.",
                                    "ProductCategory": "Accessories",
                                    "TotalUnitsSold": "2761",
                                    "Rank": "9",
                                    "Quintile": "2"
                                },
                                {
                                    "ProductName": "Road Tire Tube",
                                    "ProductCategory": "Accessories",
                                    "TotalUnitsSold": "2376",
                                    "Rank": "10",
                                    "Quintile": "2"
                                },
                                {
                                    "ProductName": "Fender Set - Mountain",
                                    "ProductCategory": "Accessories",
                                    "TotalUnitsSold": "2121",
                                    "Rank": "11",
                                    "Quintile": "3"
                                },
                                {
                                    "ProductName": "Mountain Bottle Cage",
                                    "ProductCategory": "Accessories",
                                    "TotalUnitsSold": "2025",
                                    "Rank": "12",
                                    "Quintile": "3"
                                },
                                {
                                    "ProductName": "Road Bottle Cage",
                                    "ProductCategory": "Accessories",
                                    "TotalUnitsSold": "1712",
                                    "Rank": "13",
                                    "Quintile": "3"
                                },
                                {
                                    "ProductName": "Touring Tire Tube",
                                    "ProductCategory": "Accessories",
                                    "TotalUnitsSold": "1488",
                                    "Rank": "14",
                                    "Quintile": "3"
                                },
                                {
                                    "ProductName": "HL Mountain Tire",
                                    "ProductCategory": "Accessories",
                                    "TotalUnitsSold": "1396",
                                    "Rank": "15",
                                    "Quintile": "3"
                                },
                                {
                                    "ProductName": "ML Mountain Tire",
                                    "ProductCategory": "Accessories",
                                    "TotalUnitsSold": "1161",
                                    "Rank": "16",
                                    "Quintile": "4"
                                },
                                {
                                    "ProductName": "Minipump",
                                    "ProductCategory": "Accessories",
                                    "TotalUnitsSold": "1130",
                                    "Rank": "17",
                                    "Quintile": "4"
                                },
                                {
                                    "ProductName": "Cable Lock",
                                    "ProductCategory": "Accessories",
                                    "TotalUnitsSold": "1087",
                                    "Rank": "18",
                                    "Quintile": "4"
                                },
                                {
                                    "ProductName": "LL Road Tire",
                                    "ProductCategory": "Accessories",
                                    "TotalUnitsSold": "1044",
                                    "Rank": "19",
                                    "Quintile": "4"
                                },
                                {
                                    "ProductName": "Touring Tire",
                                    "ProductCategory": "Accessories",
                                    "TotalUnitsSold": "935",
                                    "Rank": "20",
                                    "Quintile": "4"
                                },
                                {
                                    "ProductName": "ML Road Tire",
                                    "ProductCategory": "Accessories",
                                    "TotalUnitsSold": "926",
                                    "Rank": "21",
                                    "Quintile": "5"
                                },
                                {
                                    "ProductName": "LL Mountain Tire",
                                    "ProductCategory": "Accessories",
                                    "TotalUnitsSold": "862",
                                    "Rank": "22",
                                    "Quintile": "5"
                                },
                                {
                                    "ProductName": "HL Road Tire",
                                    "ProductCategory": "Accessories",
                                    "TotalUnitsSold": "858",
                                    "Rank": "23",
                                    "Quintile": "5"
                                },
                                {
                                    "ProductName": "All-Purpose Bike Stand",
                                    "ProductCategory": "Accessories",
                                    "TotalUnitsSold": "249",
                                    "Rank": "24",
                                    "Quintile": "5"
                                },
                                {
                                    "ProductName": "Mountain-200 Black, 38",
                                    "ProductCategory": "Bikes",
                                    "TotalUnitsSold": "2977",
                                    "Rank": "1",
                                    "Quintile": "1"
                                },
                                {
                                    "ProductName": "Mountain-200 Black, 42",
                                    "ProductCategory": "Bikes",
                                    "TotalUnitsSold": "2664",
                                    "Rank": "2",
                                    "Quintile": "1"
                                },
                                {
                                    "ProductName": "Mountain-200 Silver, 38",
                                    "ProductCategory": "Bikes",
                                    "TotalUnitsSold": "2394",
                                    "Rank": "3",
                                    "Quintile": "1"
                                },
                                {
                                    "ProductName": "Road-650 Black, 52",
                                    "ProductCategory": "Bikes",
                                    "TotalUnitsSold": "2270",
                                    "Rank": "4",
                                    "Quintile": "1"
                                },
                                {
                                    "ProductName": "Road-650 Red, 44",
                                    "ProductCategory": "Bikes",
                                    "TotalUnitsSold": "2254",
                                    "Rank": "5",
                                    "Quintile": "1"
                                },
                                {
                                    "ProductName": "Mountain-200 Silver, 42",
                                    "ProductCategory": "Bikes",
                                    "TotalUnitsSold": "2234",
                                    "Rank": "6",
                                    "Quintile": "1"
                                },
                                {
                                    "ProductName": "Road-650 Red, 60",
                                    "ProductCategory": "Bikes",
                                    "TotalUnitsSold": "2232",
                                    "Rank": "7",
                                    "Quintile": "1"
                                },
                                {
                                    "ProductName": "Mountain-200 Silver, 46",
                                    "ProductCategory": "Bikes",
                                    "TotalUnitsSold": "2216",
                                    "Rank": "8",
                                    "Quintile": "1"
                                },
                                {
                                    "ProductName": "Mountain-200 Black, 46",
                                    "ProductCategory": "Bikes",
                                    "TotalUnitsSold": "2111",
                                    "Rank": "9",
                                    "Quintile": "1"
                                },
                                {
                                    "ProductName": "Road-650 Red, 62",
                                    "ProductCategory": "Bikes",
                                    "TotalUnitsSold": "1896",
                                    "Rank": "10",
                                    "Quintile": "1"
                                },
                                {
                                    "ProductName": "Road-650 Red, 48",
                                    "ProductCategory": "Bikes",
                                    "TotalUnitsSold": "1888",
                                    "Rank": "11",
                                    "Quintile": "1"
                                },
                                {
                                    "ProductName": "Road-650 Black, 58",
                                    "ProductCategory": "Bikes",
                                    "TotalUnitsSold": "1871",
                                    "Rank": "12",
                                    "Quintile": "1"
                                },
                                {
                                    "ProductName": "Road-550-W Yellow, 48",
                                    "ProductCategory": "Bikes",
                                    "TotalUnitsSold": "1763",
                                    "Rank": "13",
                                    "Quintile": "1"
                                },
                                {
                                    "ProductName": "Road-550-W Yellow, 38",
                                    "ProductCategory": "Bikes",
                                    "TotalUnitsSold": "1744",
                                    "Rank": "14",
                                    "Quintile": "1"
                                },
                                {
                                    "ProductName": "Road-250 Black, 44",
                                    "ProductCategory": "Bikes",
                                    "TotalUnitsSold": "1642",
                                    "Rank": "15",
                                    "Quintile": "1"
                                },
                                {
                                    "ProductName": "Road-350-W Yellow, 48",
                                    "ProductCategory": "Bikes",
                                    "TotalUnitsSold": "1622",
                                    "Rank": "16",
                                    "Quintile": "1"
                                },
                                {
                                    "ProductName": "Road-750 Black, 48",
                                    "ProductCategory": "Bikes",
                                    "TotalUnitsSold": "1556",
                                    "Rank": "17",
                                    "Quintile": "1"
                                },
                                {
                                    "ProductName": "Road-550-W Yellow, 40",
                                    "ProductCategory": "Bikes",
                                    "TotalUnitsSold": "1500",
                                    "Rank": "18",
                                    "Quintile": "1"
                                },
                                {
                                    "ProductName": "Road-250 Black, 48",
                                    "ProductCategory": "Bikes",
                                    "TotalUnitsSold": "1498",
                                    "Rank": "19",
                                    "Quintile": "1"
                                },
                                {
                                    "ProductName": "Road-350-W Yellow, 40",
                                    "ProductCategory": "Bikes",
                                    "TotalUnitsSold": "1477",
                                    "Rank": "20",
                                    "Quintile": "1"
                                },
                                {
                                    "ProductName": "Road-750 Black, 52",
                                    "ProductCategory": "Bikes",
                                    "TotalUnitsSold": "1338",
                                    "Rank": "21",
                                    "Quintile": "2"
                                },
                                {
                                    "ProductName": "Road-550-W Yellow, 42",
                                    "ProductCategory": "Bikes",
                                    "TotalUnitsSold": "1249",
                                    "Rank": "22",
                                    "Quintile": "2"
                                },
                                {
                                    "ProductName": "Road-250 Black, 52",
                                    "ProductCategory": "Bikes",
                                    "TotalUnitsSold": "1245",
                                    "Rank": "23",
                                    "Quintile": "2"
                                },
                                {
                                    "ProductName": "Touring-1000 Blue, 60",
                                    "ProductCategory": "Bikes",
                                    "TotalUnitsSold": "1120",
                                    "Rank": "24",
                                    "Quintile": "2"
                                },
                                {
                                    "ProductName": "Touring-1000 Yellow, 60",
                                    "ProductCategory": "Bikes",
                                    "TotalUnitsSold": "1114",
                                    "Rank": "25",
                                    "Quintile": "2"
                                },
                                {
                                    "ProductName": "Road-650 Red, 52",
                                    "ProductCategory": "Bikes",
                                    "TotalUnitsSold": "1112",
                                    "Rank": "26",
                                    "Quintile": "2"
                                },
                                {
                                    "ProductName": "Road-650 Black, 60",
                                    "ProductCategory": "Bikes",
                                    "TotalUnitsSold": "1100",
                                    "Rank": "27",
                                    "Quintile": "2"
                                },
                                {
                                    "ProductName": "Road-650 Black, 44",
                                    "ProductCategory": "Bikes",
                                    "TotalUnitsSold": "1080",
                                    "Rank": "28",
                                    "Quintile": "2"
                                },
                                {
                                    "ProductName": "Touring-2000 Blue, 54",
                                    "ProductCategory": "Bikes",
                                    "TotalUnitsSold": "1010",
                                    "Rank": "29",
                                    "Quintile": "2"
                                },
                                {
                                    "ProductName": "Touring-1000 Yellow, 46",
                                    "ProductCategory": "Bikes",
                                    "TotalUnitsSold": "1005",
                                    "Rank": "30",
                                    "Quintile": "2"
                                },
                                {
                                    "ProductName": "Touring-1000 Blue, 46",
                                    "ProductCategory": "Bikes",
                                    "TotalUnitsSold": "1002",
                                    "Rank": "31",
                                    "Quintile": "2"
                                },
                                {
                                    "ProductName": "Road-250 Red, 58",
                                    "ProductCategory": "Bikes",
                                    "TotalUnitsSold": "946",
                                    "Rank": "32",
                                    "Quintile": "2"
                                },
                                {
                                    "ProductName": "Road-350-W Yellow, 42",
                                    "ProductCategory": "Bikes",
                                    "TotalUnitsSold": "944",
                                    "Rank": "33",
                                    "Quintile": "2"
                                },
                                {
                                    "ProductName": "Road-550-W Yellow, 44",
                                    "ProductCategory": "Bikes",
                                    "TotalUnitsSold": "927",
                                    "Rank": "34",
                                    "Quintile": "2"
                                },
                                {
                                    "ProductName": "Road-250 Black, 58",
                                    "ProductCategory": "Bikes",
                                    "TotalUnitsSold": "910",
                                    "Rank": "35",
                                    "Quintile": "2"
                                },
                                {
                                    "ProductName": "Road-250 Red, 44",
                                    "ProductCategory": "Bikes",
                                    "TotalUnitsSold": "895",
                                    "Rank": "36",
                                    "Quintile": "2"
                                },
                                {
                                    "ProductName": "Road-750 Black, 58",
                                    "ProductCategory": "Bikes",
                                    "TotalUnitsSold": "892",
                                    "Rank": "37",
                                    "Quintile": "2"
                                },
                                {
                                    "ProductName": "Touring-3000 Yellow, 44",
                                    "ProductCategory": "Bikes",
                                    "TotalUnitsSold": "851",
                                    "Rank": "38",
                                    "Quintile": "2"
                                },
                                {
                                    "ProductName": "Touring-3000 Yellow, 62",
                                    "ProductCategory": "Bikes",
                                    "TotalUnitsSold": "844",
                                    "Rank": "39",
                                    "Quintile": "2"
                                },
                                {
                                    "ProductName": "Touring-3000 Blue, 50",
                                    "ProductCategory": "Bikes",
                                    "TotalUnitsSold": "841",
                                    "Rank": "40",
                                    "Quintile": "2"
                                },
                                {
                                    "ProductName": "Touring-2000 Blue, 60",
                                    "ProductCategory": "Bikes",
                                    "TotalUnitsSold": "820",
                                    "Rank": "41",
                                    "Quintile": "3"
                                },
                                {
                                    "ProductName": "Road-250 Red, 48",
                                    "ProductCategory": "Bikes",
                                    "TotalUnitsSold": "812",
                                    "Rank": "42",
                                    "Quintile": "3"
                                },
                                {
                                    "ProductName": "Mountain-300 Black, 40",
                                    "ProductCategory": "Bikes",
                                    "TotalUnitsSold": "776",
                                    "Rank": "43",
                                    "Quintile": "3"
                                },
                                {
                                    "ProductName": "Mountain-300 Black, 44",
                                    "ProductCategory": "Bikes",
                                    "TotalUnitsSold": "747",
                                    "Rank": "44",
                                    "Quintile": "3"
                                },
                                {
                                    "ProductName": "Mountain-300 Black, 48",
                                    "ProductCategory": "Bikes",
                                    "TotalUnitsSold": "740",
                                    "Rank": "45",
                                    "Quintile": "3"
                                },
                                {
                                    "ProductName": "Road-450 Red, 52",
                                    "ProductCategory": "Bikes",
                                    "TotalUnitsSold": "710",
                                    "Rank": "46",
                                    "Quintile": "3"
                                },
                                {
                                    "ProductName": "Touring-3000 Yellow, 50",
                                    "ProductCategory": "Bikes",
                                    "TotalUnitsSold": "686",
                                    "Rank": "47",
                                    "Quintile": "3"
                                },
                                {
                                    "ProductName": "Touring-3000 Blue, 54",
                                    "ProductCategory": "Bikes",
                                    "TotalUnitsSold": "686",
                                    "Rank": "47",
                                    "Quintile": "3"
                                },
                                {
                                    "ProductName": "Mountain-300 Black, 38",
                                    "ProductCategory": "Bikes",
                                    "TotalUnitsSold": "684",
                                    "Rank": "49",
                                    "Quintile": "3"
                                },
                                {
                                    "ProductName": "Mountain-100 Black, 38",
                                    "ProductCategory": "Bikes",
                                    "TotalUnitsSold": "682",
                                    "Rank": "50",
                                    "Quintile": "3"
                                },
                                {
                                    "ProductName": "Mountain-100 Black, 44",
                                    "ProductCategory": "Bikes",
                                    "TotalUnitsSold": "678",
                                    "Rank": "51",
                                    "Quintile": "3"
                                },
                                {
                                    "ProductName": "Road-150 Red, 56",
                                    "ProductCategory": "Bikes",
                                    "TotalUnitsSold": "664",
                                    "Rank": "52",
                                    "Quintile": "3"
                                },
                                {
                                    "ProductName": "Road-750 Black, 44",
                                    "ProductCategory": "Bikes",
                                    "TotalUnitsSold": "656",
                                    "Rank": "53",
                                    "Quintile": "3"
                                },
                                {
                                    "ProductName": "Touring-1000 Yellow, 50",
                                    "ProductCategory": "Bikes",
                                    "TotalUnitsSold": "652",
                                    "Rank": "54",
                                    "Quintile": "3"
                                },
                                {
                                    "ProductName": "Touring-1000 Blue, 50",
                                    "ProductCategory": "Bikes",
                                    "TotalUnitsSold": "649",
                                    "Rank": "55",
                                    "Quintile": "3"
                                },
                                {
                                    "ProductName": "Road-650 Black, 48",
                                    "ProductCategory": "Bikes",
                                    "TotalUnitsSold": "644",
                                    "Rank": "56",
                                    "Quintile": "3"
                                },
                                {
                                    "ProductName": "Road-650 Black, 62",
                                    "ProductCategory": "Bikes",
                                    "TotalUnitsSold": "644",
                                    "Rank": "56",
                                    "Quintile": "3"
                                },
                                {
                                    "ProductName": "Mountain-100 Silver, 38",
                                    "ProductCategory": "Bikes",
                                    "TotalUnitsSold": "642",
                                    "Rank": "58",
                                    "Quintile": "3"
                                },
                                {
                                    "ProductName": "Road-250 Red, 52",
                                    "ProductCategory": "Bikes",
                                    "TotalUnitsSold": "639",
                                    "Rank": "59",
                                    "Quintile": "3"
                                },
                                {
                                    "ProductName": "Mountain-100 Black, 42",
                                    "ProductCategory": "Bikes",
                                    "TotalUnitsSold": "634",
                                    "Rank": "60",
                                    "Quintile": "4"
                                },
                                {
                                    "ProductName": "Road-650 Red, 58",
                                    "ProductCategory": "Bikes",
                                    "TotalUnitsSold": "618",
                                    "Rank": "61",
                                    "Quintile": "4"
                                },
                                {
                                    "ProductName": "Mountain-400-W Silver, 40",
                                    "ProductCategory": "Bikes",
                                    "TotalUnitsSold": "617",
                                    "Rank": "62",
                                    "Quintile": "4"
                                },
                                {
                                    "ProductName": "Mountain-100 Black, 48",
                                    "ProductCategory": "Bikes",
                                    "TotalUnitsSold": "616",
                                    "Rank": "63",
                                    "Quintile": "4"
                                },
                                {
                                    "ProductName": "Mountain-100 Silver, 44",
                                    "ProductCategory": "Bikes",
                                    "TotalUnitsSold": "601",
                                    "Rank": "64",
                                    "Quintile": "4"
                                },
                                {
                                    "ProductName": "Road-150 Red, 62",
                                    "ProductCategory": "Bikes",
                                    "TotalUnitsSold": "600",
                                    "Rank": "65",
                                    "Quintile": "4"
                                },
                                {
                                    "ProductName": "Mountain-100 Silver, 42",
                                    "ProductCategory": "Bikes",
                                    "TotalUnitsSold": "593",
                                    "Rank": "66",
                                    "Quintile": "4"
                                },
                                {
                                    "ProductName": "Road-450 Red, 58",
                                    "ProductCategory": "Bikes",
                                    "TotalUnitsSold": "582",
                                    "Rank": "67",
                                    "Quintile": "4"
                                },
                                {
                                    "ProductName": "Touring-2000 Blue, 46",
                                    "ProductCategory": "Bikes",
                                    "TotalUnitsSold": "538",
                                    "Rank": "68",
                                    "Quintile": "4"
                                },
                                {
                                    "ProductName": "Road-350-W Yellow, 44",
                                    "ProductCategory": "Bikes",
                                    "TotalUnitsSold": "536",
                                    "Rank": "69",
                                    "Quintile": "4"
                                },
                                {
                                    "ProductName": "Mountain-500 Silver, 52",
                                    "ProductCategory": "Bikes",
                                    "TotalUnitsSold": "515",
                                    "Rank": "70",
                                    "Quintile": "4"
                                },
                                {
                                    "ProductName": "Mountain-100 Silver, 48",
                                    "ProductCategory": "Bikes",
                                    "TotalUnitsSold": "505",
                                    "Rank": "71",
                                    "Quintile": "4"
                                },
                                {
                                    "ProductName": "Road-150 Red, 48",
                                    "ProductCategory": "Bikes",
                                    "TotalUnitsSold": "493",
                                    "Rank": "72",
                                    "Quintile": "4"
                                },
                                {
                                    "ProductName": "Touring-3000 Blue, 58",
                                    "ProductCategory": "Bikes",
                                    "TotalUnitsSold": "482",
                                    "Rank": "73",
                                    "Quintile": "4"
                                },
                                {
                                    "ProductName": "Road-150 Red, 52",
                                    "ProductCategory": "Bikes",
                                    "TotalUnitsSold": "458",
                                    "Rank": "74",
                                    "Quintile": "4"
                                },
                                {
                                    "ProductName": "Mountain-500 Silver, 48",
                                    "ProductCategory": "Bikes",
                                    "TotalUnitsSold": "457",
                                    "Rank": "75",
                                    "Quintile": "4"
                                },
                                {
                                    "ProductName": "Mountain-500 Silver, 42",
                                    "ProductCategory": "Bikes",
                                    "TotalUnitsSold": "455",
                                    "Rank": "76",
                                    "Quintile": "4"
                                },
                                {
                                    "ProductName": "Touring-3000 Yellow, 54",
                                    "ProductCategory": "Bikes",
                                    "TotalUnitsSold": "453",
                                    "Rank": "77",
                                    "Quintile": "4"
                                },
                                {
                                    "ProductName": "Mountain-500 Silver, 40",
                                    "ProductCategory": "Bikes",
                                    "TotalUnitsSold": "450",
                                    "Rank": "78",
                                    "Quintile": "4"
                                },
                                {
                                    "ProductName": "Mountain-500 Black, 48",
                                    "ProductCategory": "Bikes",
                                    "TotalUnitsSold": "449",
                                    "Rank": "79",
                                    "Quintile": "5"
                                },
                                {
                                    "ProductName": "Road-150 Red, 44",
                                    "ProductCategory": "Bikes",
                                    "TotalUnitsSold": "437",
                                    "Rank": "80",
                                    "Quintile": "5"
                                },
                                {
                                    "ProductName": "Mountain-400-W Silver, 38",
                                    "ProductCategory": "Bikes",
                                    "TotalUnitsSold": "425",
                                    "Rank": "81",
                                    "Quintile": "5"
                                },
                                {
                                    "ProductName": "Touring-1000 Blue, 54",
                                    "ProductCategory": "Bikes",
                                    "TotalUnitsSold": "413",
                                    "Rank": "82",
                                    "Quintile": "5"
                                },
                                {
                                    "ProductName": "Mountain-400-W Silver, 46",
                                    "ProductCategory": "Bikes",
                                    "TotalUnitsSold": "401",
                                    "Rank": "83",
                                    "Quintile": "5"
                                },
                                {
                                    "ProductName": "Touring-1000 Yellow, 54",
                                    "ProductCategory": "Bikes",
                                    "TotalUnitsSold": "397",
                                    "Rank": "84",
                                    "Quintile": "5"
                                },
                                {
                                    "ProductName": "Mountain-500 Black, 42",
                                    "ProductCategory": "Bikes",
                                    "TotalUnitsSold": "388",
                                    "Rank": "85",
                                    "Quintile": "5"
                                },
                                {
                                    "ProductName": "Mountain-400-W Silver, 42",
                                    "ProductCategory": "Bikes",
                                    "TotalUnitsSold": "385",
                                    "Rank": "86",
                                    "Quintile": "5"
                                },
                                {
                                    "ProductName": "Mountain-500 Silver, 44",
                                    "ProductCategory": "Bikes",
                                    "TotalUnitsSold": "381",
                                    "Rank": "87",
                                    "Quintile": "5"
                                },
                                {
                                    "ProductName": "Mountain-500 Black, 44",
                                    "ProductCategory": "Bikes",
                                    "TotalUnitsSold": "350",
                                    "Rank": "88",
                                    "Quintile": "5"
                                },
                                {
                                    "ProductName": "Road-450 Red, 60",
                                    "ProductCategory": "Bikes",
                                    "TotalUnitsSold": "350",
                                    "Rank": "88",
                                    "Quintile": "5"
                                },
                                {
                                    "ProductName": "Road-450 Red, 44",
                                    "ProductCategory": "Bikes",
                                    "TotalUnitsSold": "346",
                                    "Rank": "90",
                                    "Quintile": "5"
                                },
                                {
                                    "ProductName": "Touring-2000 Blue, 50",
                                    "ProductCategory": "Bikes",
                                    "TotalUnitsSold": "322",
                                    "Rank": "91",
                                    "Quintile": "5"
                                },
                                {
                                    "ProductName": "Touring-3000 Yellow, 58",
                                    "ProductCategory": "Bikes",
                                    "TotalUnitsSold": "293",
                                    "Rank": "92",
                                    "Quintile": "5"
                                },
                                {
                                    "ProductName": "Touring-3000 Blue, 44",
                                    "ProductCategory": "Bikes",
                                    "TotalUnitsSold": "292",
                                    "Rank": "93",
                                    "Quintile": "5"
                                },
                                {
                                    "ProductName": "Mountain-500 Black, 40",
                                    "ProductCategory": "Bikes",
                                    "TotalUnitsSold": "282",
                                    "Rank": "94",
                                    "Quintile": "5"
                                },
                                {
                                    "ProductName": "Touring-3000 Blue, 62",
                                    "ProductCategory": "Bikes",
                                    "TotalUnitsSold": "281",
                                    "Rank": "95",
                                    "Quintile": "5"
                                },
                                {
                                    "ProductName": "Mountain-500 Black, 52",
                                    "ProductCategory": "Bikes",
                                    "TotalUnitsSold": "272",
                                    "Rank": "96",
                                    "Quintile": "5"
                                },
                                {
                                    "ProductName": "Road-450 Red, 48",
                                    "ProductCategory": "Bikes",
                                    "TotalUnitsSold": "156",
                                    "Rank": "97",
                                    "Quintile": "5"
                                },
                                {
                                    "ProductName": "AWC Logo Cap",
                                    "ProductCategory": "Clothing",
                                    "TotalUnitsSold": "8311",
                                    "Rank": "1",
                                    "Quintile": "1"
                                },
                                {
                                    "ProductName": "Long-Sleeve Logo Jersey, L",
                                    "ProductCategory": "Clothing",
                                    "TotalUnitsSold": "6592",
                                    "Rank": "2",
                                    "Quintile": "1"
                                },
                                {
                                    "ProductName": "Classic Vest, S",
                                    "ProductCategory": "Clothing",
                                    "TotalUnitsSold": "4247",
                                    "Rank": "3",
                                    "Quintile": "1"
                                },
                                {
                                    "ProductName": "Short-Sleeve Classic Jersey, XL",
                                    "ProductCategory": "Clothing",
                                    "TotalUnitsSold": "3864",
                                    "Rank": "4",
                                    "Quintile": "1"
                                },
                                {
                                    "ProductName": "Long-Sleeve Logo Jersey, M",
                                    "ProductCategory": "Clothing",
                                    "TotalUnitsSold": "3636",
                                    "Rank": "5",
                                    "Quintile": "1"
                                },
                                {
                                    "ProductName": "Half-Finger Gloves, M",
                                    "ProductCategory": "Clothing",
                                    "TotalUnitsSold": "3464",
                                    "Rank": "6",
                                    "Quintile": "1"
                                },
                                {
                                    "ProductName": "Full-Finger Gloves, L",
                                    "ProductCategory": "Clothing",
                                    "TotalUnitsSold": "3378",
                                    "Rank": "7",
                                    "Quintile": "1"
                                },
                                {
                                    "ProductName": "Women's Mountain Shorts, S",
                                    "ProductCategory": "Clothing",
                                    "TotalUnitsSold": "3296",
                                    "Rank": "8",
                                    "Quintile": "2"
                                },
                                {
                                    "ProductName": "Women's Mountain Shorts, L",
                                    "ProductCategory": "Clothing",
                                    "TotalUnitsSold": "3244",
                                    "Rank": "9",
                                    "Quintile": "2"
                                },
                                {
                                    "ProductName": "Long-Sleeve Logo Jersey, XL",
                                    "ProductCategory": "Clothing",
                                    "TotalUnitsSold": "2980",
                                    "Rank": "10",
                                    "Quintile": "2"
                                },
                                {
                                    "ProductName": "Short-Sleeve Classic Jersey, L",
                                    "ProductCategory": "Clothing",
                                    "TotalUnitsSold": "2848",
                                    "Rank": "11",
                                    "Quintile": "2"
                                },
                                {
                                    "ProductName": "Racing Socks, L",
                                    "ProductCategory": "Clothing",
                                    "TotalUnitsSold": "2473",
                                    "Rank": "12",
                                    "Quintile": "2"
                                },
                                {
                                    "ProductName": "Classic Vest, M",
                                    "ProductCategory": "Clothing",
                                    "TotalUnitsSold": "2284",
                                    "Rank": "13",
                                    "Quintile": "2"
                                },
                                {
                                    "ProductName": "Full-Finger Gloves, M",
                                    "ProductCategory": "Clothing",
                                    "TotalUnitsSold": "2206",
                                    "Rank": "14",
                                    "Quintile": "2"
                                },
                                {
                                    "ProductName": "Half-Finger Gloves, S",
                                    "ProductCategory": "Clothing",
                                    "TotalUnitsSold": "2188",
                                    "Rank": "15",
                                    "Quintile": "3"
                                },
                                {
                                    "ProductName": "Women's Tights, L",
                                    "ProductCategory": "Clothing",
                                    "TotalUnitsSold": "2123",
                                    "Rank": "16",
                                    "Quintile": "3"
                                },
                                {
                                    "ProductName": "Women's Tights, S",
                                    "ProductCategory": "Clothing",
                                    "TotalUnitsSold": "2072",
                                    "Rank": "17",
                                    "Quintile": "3"
                                },
                                {
                                    "ProductName": "Short-Sleeve Classic Jersey, S",
                                    "ProductCategory": "Clothing",
                                    "TotalUnitsSold": "1955",
                                    "Rank": "18",
                                    "Quintile": "3"
                                },
                                {
                                    "ProductName": "Men's Bib-Shorts, M",
                                    "ProductCategory": "Clothing",
                                    "TotalUnitsSold": "1616",
                                    "Rank": "19",
                                    "Quintile": "3"
                                },
                                {
                                    "ProductName": "Racing Socks, M",
                                    "ProductCategory": "Clothing",
                                    "TotalUnitsSold": "1547",
                                    "Rank": "20",
                                    "Quintile": "3"
                                },
                                {
                                    "ProductName": "Half-Finger Gloves, L",
                                    "ProductCategory": "Clothing",
                                    "TotalUnitsSold": "1276",
                                    "Rank": "21",
                                    "Quintile": "3"
                                },
                                {
                                    "ProductName": "Men's Sports Shorts, M",
                                    "ProductCategory": "Clothing",
                                    "TotalUnitsSold": "1276",
                                    "Rank": "21",
                                    "Quintile": "4"
                                },
                                {
                                    "ProductName": "Women's Mountain Shorts, M",
                                    "ProductCategory": "Clothing",
                                    "TotalUnitsSold": "1139",
                                    "Rank": "23",
                                    "Quintile": "4"
                                },
                                {
                                    "ProductName": "Mountain Bike Socks, M",
                                    "ProductCategory": "Clothing",
                                    "TotalUnitsSold": "1107",
                                    "Rank": "24",
                                    "Quintile": "4"
                                },
                                {
                                    "ProductName": "Men's Bib-Shorts, S",
                                    "ProductCategory": "Clothing",
                                    "TotalUnitsSold": "876",
                                    "Rank": "25",
                                    "Quintile": "4"
                                },
                                {
                                    "ProductName": "Men's Bib-Shorts, L",
                                    "ProductCategory": "Clothing",
                                    "TotalUnitsSold": "633",
                                    "Rank": "26",
                                    "Quintile": "4"
                                },
                                {
                                    "ProductName": "Men's Sports Shorts, S",
                                    "ProductCategory": "Clothing",
                                    "TotalUnitsSold": "567",
                                    "Rank": "27",
                                    "Quintile": "4"
                                },
                                {
                                    "ProductName": "Full-Finger Gloves, S",
                                    "ProductCategory": "Clothing",
                                    "TotalUnitsSold": "500",
                                    "Rank": "28",
                                    "Quintile": "4"
                                },
                                {
                                    "ProductName": "Men's Sports Shorts, L",
                                    "ProductCategory": "Clothing",
                                    "TotalUnitsSold": "445",
                                    "Rank": "29",
                                    "Quintile": "5"
                                },
                                {
                                    "ProductName": "Long-Sleeve Logo Jersey, S",
                                    "ProductCategory": "Clothing",
                                    "TotalUnitsSold": "429",
                                    "Rank": "30",
                                    "Quintile": "5"
                                },
                                {
                                    "ProductName": "Short-Sleeve Classic Jersey, M",
                                    "ProductCategory": "Clothing",
                                    "TotalUnitsSold": "407",
                                    "Rank": "31",
                                    "Quintile": "5"
                                },
                                {
                                    "ProductName": "Women's Tights, M",
                                    "ProductCategory": "Clothing",
                                    "TotalUnitsSold": "394",
                                    "Rank": "32",
                                    "Quintile": "5"
                                },
                                {
                                    "ProductName": "Classic Vest, L",
                                    "ProductCategory": "Clothing",
                                    "TotalUnitsSold": "207",
                                    "Rank": "33",
                                    "Quintile": "5"
                                },
                                {
                                    "ProductName": "Mountain Bike Socks, L",
                                    "ProductCategory": "Clothing",
                                    "TotalUnitsSold": "90",
                                    "Rank": "34",
                                    "Quintile": "5"
                                },
                                {
                                    "ProductName": "LL Road Frame - Black, 52",
                                    "ProductCategory": "Components",
                                    "TotalUnitsSold": "1581",
                                    "Rank": "1",
                                    "Quintile": "1"
                                },
                                {
                                    "ProductName": "ML Mountain Handlebars",
                                    "ProductCategory": "Components",
                                    "TotalUnitsSold": "1465",
                                    "Rank": "2",
                                    "Quintile": "1"
                                },
                                {
                                    "ProductName": "ML Road Frame-W - Yellow, 44",
                                    "ProductCategory": "Components",
                                    "TotalUnitsSold": "1435",
                                    "Rank": "3",
                                    "Quintile": "1"
                                },
                                {
                                    "ProductName": "HL Mountain Frame - Silver, 38",
                                    "ProductCategory": "Components",
                                    "TotalUnitsSold": "1206",
                                    "Rank": "4",
                                    "Quintile": "1"
                                },
                                {
                                    "ProductName": "HL Mountain Frame - Black, 42",
                                    "ProductCategory": "Components",
                                    "TotalUnitsSold": "1181",
                                    "Rank": "5",
                                    "Quintile": "1"
                                },
                                {
                                    "ProductName": "LL Road Frame - Red, 60",
                                    "ProductCategory": "Components",
                                    "TotalUnitsSold": "996",
                                    "Rank": "6",
                                    "Quintile": "1"
                                },
                                {
                                    "ProductName": "LL Road Frame - Red, 44",
                                    "ProductCategory": "Components",
                                    "TotalUnitsSold": "991",
                                    "Rank": "7",
                                    "Quintile": "1"
                                },
                                {
                                    "ProductName": "ML Mountain Frame - Black, 48",
                                    "ProductCategory": "Components",
                                    "TotalUnitsSold": "959",
                                    "Rank": "8",
                                    "Quintile": "1"
                                },
                                {
                                    "ProductName": "LL Road Frame - Black, 58",
                                    "ProductCategory": "Components",
                                    "TotalUnitsSold": "940",
                                    "Rank": "9",
                                    "Quintile": "1"
                                },
                                {
                                    "ProductName": "ML Mountain Frame-W - Silver, 40",
                                    "ProductCategory": "Components",
                                    "TotalUnitsSold": "899",
                                    "Rank": "10",
                                    "Quintile": "1"
                                },
                                {
                                    "ProductName": "ML Road Frame-W - Yellow, 38",
                                    "ProductCategory": "Components",
                                    "TotalUnitsSold": "895",
                                    "Rank": "11",
                                    "Quintile": "1"
                                },
                                {
                                    "ProductName": "ML Road Frame-W - Yellow, 48",
                                    "ProductCategory": "Components",
                                    "TotalUnitsSold": "889",
                                    "Rank": "12",
                                    "Quintile": "1"
                                },
                                {
                                    "ProductName": "LL Road Rear Wheel",
                                    "ProductCategory": "Components",
                                    "TotalUnitsSold": "868",
                                    "Rank": "13",
                                    "Quintile": "1"
                                },
                                {
                                    "ProductName": "LL Road Pedal",
                                    "ProductCategory": "Components",
                                    "TotalUnitsSold": "868",
                                    "Rank": "13",
                                    "Quintile": "1"
                                },
                                {
                                    "ProductName": "LL Mountain Handlebars",
                                    "ProductCategory": "Components",
                                    "TotalUnitsSold": "865",
                                    "Rank": "15",
                                    "Quintile": "1"
                                },
                                {
                                    "ProductName": "ML Mountain Rear Wheel",
                                    "ProductCategory": "Components",
                                    "TotalUnitsSold": "851",
                                    "Rank": "16",
                                    "Quintile": "1"
                                },
                                {
                                    "ProductName": "HL Mountain Rear Wheel",
                                    "ProductCategory": "Components",
                                    "TotalUnitsSold": "850",
                                    "Rank": "17",
                                    "Quintile": "1"
                                },
                                {
                                    "ProductName": "Front Derailleur",
                                    "ProductCategory": "Components",
                                    "TotalUnitsSold": "813",
                                    "Rank": "18",
                                    "Quintile": "1"
                                },
                                {
                                    "ProductName": "Front Brakes",
                                    "ProductCategory": "Components",
                                    "TotalUnitsSold": "789",
                                    "Rank": "19",
                                    "Quintile": "1"
                                },
                                {
                                    "ProductName": "HL Mountain Pedal",
                                    "ProductCategory": "Components",
                                    "TotalUnitsSold": "785",
                                    "Rank": "20",
                                    "Quintile": "1"
                                },
                                {
                                    "ProductName": "Chain",
                                    "ProductCategory": "Components",
                                    "TotalUnitsSold": "774",
                                    "Rank": "21",
                                    "Quintile": "1"
                                },
                                {
                                    "ProductName": "LL Road Frame - Red, 62",
                                    "ProductCategory": "Components",
                                    "TotalUnitsSold": "697",
                                    "Rank": "22",
                                    "Quintile": "1"
                                },
                                {
                                    "ProductName": "HL Road Pedal",
                                    "ProductCategory": "Components",
                                    "TotalUnitsSold": "676",
                                    "Rank": "23",
                                    "Quintile": "1"
                                },
                                {
                                    "ProductName": "LL Road Frame - Red, 48",
                                    "ProductCategory": "Components",
                                    "TotalUnitsSold": "671",
                                    "Rank": "24",
                                    "Quintile": "2"
                                },
                                {
                                    "ProductName": "ML Road Pedal",
                                    "ProductCategory": "Components",
                                    "TotalUnitsSold": "661",
                                    "Rank": "25",
                                    "Quintile": "2"
                                },
                                {
                                    "ProductName": "ML Headset",
                                    "ProductCategory": "Components",
                                    "TotalUnitsSold": "659",
                                    "Rank": "26",
                                    "Quintile": "2"
                                },
                                {
                                    "ProductName": "HL Mountain Frame - Black, 38",
                                    "ProductCategory": "Components",
                                    "TotalUnitsSold": "659",
                                    "Rank": "26",
                                    "Quintile": "2"
                                },
                                {
                                    "ProductName": "HL Mountain Frame - Silver, 46",
                                    "ProductCategory": "Components",
                                    "TotalUnitsSold": "649",
                                    "Rank": "28",
                                    "Quintile": "2"
                                },
                                {
                                    "ProductName": "LL Mountain Frame - Silver, 42",
                                    "ProductCategory": "Components",
                                    "TotalUnitsSold": "638",
                                    "Rank": "29",
                                    "Quintile": "2"
                                },
                                {
                                    "ProductName": "HL Road Handlebars",
                                    "ProductCategory": "Components",
                                    "TotalUnitsSold": "631",
                                    "Rank": "30",
                                    "Quintile": "2"
                                },
                                {
                                    "ProductName": "ML Mountain Frame-W - Silver, 42",
                                    "ProductCategory": "Components",
                                    "TotalUnitsSold": "627",
                                    "Rank": "31",
                                    "Quintile": "2"
                                },
                                {
                                    "ProductName": "LL Mountain Frame - Black, 44",
                                    "ProductCategory": "Components",
                                    "TotalUnitsSold": "625",
                                    "Rank": "32",
                                    "Quintile": "2"
                                },
                                {
                                    "ProductName": "ML Mountain Frame - Black, 44",
                                    "ProductCategory": "Components",
                                    "TotalUnitsSold": "619",
                                    "Rank": "33",
                                    "Quintile": "2"
                                },
                                {
                                    "ProductName": "LL Mountain Front Wheel",
                                    "ProductCategory": "Components",
                                    "TotalUnitsSold": "617",
                                    "Rank": "34",
                                    "Quintile": "2"
                                },
                                {
                                    "ProductName": "HL Crankset",
                                    "ProductCategory": "Components",
                                    "TotalUnitsSold": "613",
                                    "Rank": "35",
                                    "Quintile": "2"
                                },
                                {
                                    "ProductName": "HL Road Front Wheel",
                                    "ProductCategory": "Components",
                                    "TotalUnitsSold": "567",
                                    "Rank": "36",
                                    "Quintile": "2"
                                },
                                {
                                    "ProductName": "HL Bottom Bracket",
                                    "ProductCategory": "Components",
                                    "TotalUnitsSold": "543",
                                    "Rank": "37",
                                    "Quintile": "2"
                                },
                                {
                                    "ProductName": "HL Touring Frame - Blue, 54",
                                    "ProductCategory": "Components",
                                    "TotalUnitsSold": "542",
                                    "Rank": "38",
                                    "Quintile": "2"
                                },
                                {
                                    "ProductName": "HL Touring Frame - Yellow, 54",
                                    "ProductCategory": "Components",
                                    "TotalUnitsSold": "540",
                                    "Rank": "39",
                                    "Quintile": "2"
                                },
                                {
                                    "ProductName": "ML Mountain Seat/Saddle",
                                    "ProductCategory": "Components",
                                    "TotalUnitsSold": "534",
                                    "Rank": "40",
                                    "Quintile": "2"
                                },
                                {
                                    "ProductName": "ML Road Front Wheel",
                                    "ProductCategory": "Components",
                                    "TotalUnitsSold": "532",
                                    "Rank": "41",
                                    "Quintile": "2"
                                },
                                {
                                    "ProductName": "HL Mountain Seat/Saddle",
                                    "ProductCategory": "Components",
                                    "TotalUnitsSold": "519",
                                    "Rank": "42",
                                    "Quintile": "2"
                                },
                                {
                                    "ProductName": "ML Mountain Frame - Black, 38",
                                    "ProductCategory": "Components",
                                    "TotalUnitsSold": "514",
                                    "Rank": "43",
                                    "Quintile": "2"
                                },
                                {
                                    "ProductName": "HL Mountain Handlebars",
                                    "ProductCategory": "Components",
                                    "TotalUnitsSold": "500",
                                    "Rank": "44",
                                    "Quintile": "2"
                                },
                                {
                                    "ProductName": "HL Road Frame - Red, 44",
                                    "ProductCategory": "Components",
                                    "TotalUnitsSold": "486",
                                    "Rank": "45",
                                    "Quintile": "2"
                                },
                                {
                                    "ProductName": "HL Road Frame - Red, 62",
                                    "ProductCategory": "Components",
                                    "TotalUnitsSold": "485",
                                    "Rank": "46",
                                    "Quintile": "3"
                                },
                                {
                                    "ProductName": "HL Road Frame - Black, 44",
                                    "ProductCategory": "Components",
                                    "TotalUnitsSold": "459",
                                    "Rank": "47",
                                    "Quintile": "3"
                                },
                                {
                                    "ProductName": "LL Mountain Pedal",
                                    "ProductCategory": "Components",
                                    "TotalUnitsSold": "449",
                                    "Rank": "48",
                                    "Quintile": "3"
                                },
                                {
                                    "ProductName": "HL Fork",
                                    "ProductCategory": "Components",
                                    "TotalUnitsSold": "444",
                                    "Rank": "49",
                                    "Quintile": "3"
                                },
                                {
                                    "ProductName": "LL Mountain Frame - Silver, 40",
                                    "ProductCategory": "Components",
                                    "TotalUnitsSold": "442",
                                    "Rank": "50",
                                    "Quintile": "3"
                                },
                                {
                                    "ProductName": "LL Crankset",
                                    "ProductCategory": "Components",
                                    "TotalUnitsSold": "426",
                                    "Rank": "51",
                                    "Quintile": "3"
                                },
                                {
                                    "ProductName": "HL Touring Seat/Saddle",
                                    "ProductCategory": "Components",
                                    "TotalUnitsSold": "426",
                                    "Rank": "51",
                                    "Quintile": "3"
                                },
                                {
                                    "ProductName": "LL Mountain Frame - Silver, 52",
                                    "ProductCategory": "Components",
                                    "TotalUnitsSold": "425",
                                    "Rank": "53",
                                    "Quintile": "3"
                                },
                                {
                                    "ProductName": "LL Mountain Frame - Black, 42",
                                    "ProductCategory": "Components",
                                    "TotalUnitsSold": "423",
                                    "Rank": "54",
                                    "Quintile": "3"
                                },
                                {
                                    "ProductName": "HL Touring Frame - Yellow, 60",
                                    "ProductCategory": "Components",
                                    "TotalUnitsSold": "387",
                                    "Rank": "55",
                                    "Quintile": "3"
                                },
                                {
                                    "ProductName": "LL Mountain Frame - Black, 48",
                                    "ProductCategory": "Components",
                                    "TotalUnitsSold": "386",
                                    "Rank": "56",
                                    "Quintile": "3"
                                },
                                {
                                    "ProductName": "LL Bottom Bracket",
                                    "ProductCategory": "Components",
                                    "TotalUnitsSold": "378",
                                    "Rank": "57",
                                    "Quintile": "3"
                                },
                                {
                                    "ProductName": "LL Mountain Frame - Silver, 44",
                                    "ProductCategory": "Components",
                                    "TotalUnitsSold": "371",
                                    "Rank": "58",
                                    "Quintile": "3"
                                },
                                {
                                    "ProductName": "HL Touring Frame - Blue, 60",
                                    "ProductCategory": "Components",
                                    "TotalUnitsSold": "371",
                                    "Rank": "58",
                                    "Quintile": "3"
                                },
                                {
                                    "ProductName": "Rear Derailleur",
                                    "ProductCategory": "Components",
                                    "TotalUnitsSold": "353",
                                    "Rank": "60",
                                    "Quintile": "3"
                                },
                                {
                                    "ProductName": "LL Touring Frame - Yellow, 62",
                                    "ProductCategory": "Components",
                                    "TotalUnitsSold": "348",
                                    "Rank": "61",
                                    "Quintile": "3"
                                },
                                {
                                    "ProductName": "LL Mountain Seat/Saddle",
                                    "ProductCategory": "Components",
                                    "TotalUnitsSold": "347",
                                    "Rank": "62",
                                    "Quintile": "3"
                                },
                                {
                                    "ProductName": "HL Mountain Frame - Silver, 42",
                                    "ProductCategory": "Components",
                                    "TotalUnitsSold": "347",
                                    "Rank": "62",
                                    "Quintile": "3"
                                },
                                {
                                    "ProductName": "ML Mountain Pedal",
                                    "ProductCategory": "Components",
                                    "TotalUnitsSold": "345",
                                    "Rank": "64",
                                    "Quintile": "3"
                                },
                                {
                                    "ProductName": "LL Mountain Rear Wheel",
                                    "ProductCategory": "Components",
                                    "TotalUnitsSold": "342",
                                    "Rank": "65",
                                    "Quintile": "3"
                                },
                                {
                                    "ProductName": "LL Touring Frame - Blue, 50",
                                    "ProductCategory": "Components",
                                    "TotalUnitsSold": "316",
                                    "Rank": "66",
                                    "Quintile": "3"
                                },
                                {
                                    "ProductName": "LL Touring Frame - Yellow, 44",
                                    "ProductCategory": "Components",
                                    "TotalUnitsSold": "294",
                                    "Rank": "67",
                                    "Quintile": "3"
                                },
                                {
                                    "ProductName": "ML Mountain Front Wheel",
                                    "ProductCategory": "Components",
                                    "TotalUnitsSold": "266",
                                    "Rank": "68",
                                    "Quintile": "4"
                                },
                                {
                                    "ProductName": "HL Headset",
                                    "ProductCategory": "Components",
                                    "TotalUnitsSold": "255",
                                    "Rank": "69",
                                    "Quintile": "4"
                                },
                                {
                                    "ProductName": "ML Road Frame - Red, 48",
                                    "ProductCategory": "Components",
                                    "TotalUnitsSold": "250",
                                    "Rank": "70",
                                    "Quintile": "4"
                                },
                                {
                                    "ProductName": "Rear Brakes",
                                    "ProductCategory": "Components",
                                    "TotalUnitsSold": "246",
                                    "Rank": "71",
                                    "Quintile": "4"
                                },
                                {
                                    "ProductName": "LL Road Frame - Black, 44",
                                    "ProductCategory": "Components",
                                    "TotalUnitsSold": "238",
                                    "Rank": "72",
                                    "Quintile": "4"
                                },
                                {
                                    "ProductName": "LL Touring Frame - Yellow, 50",
                                    "ProductCategory": "Components",
                                    "TotalUnitsSold": "228",
                                    "Rank": "73",
                                    "Quintile": "4"
                                },
                                {
                                    "ProductName": "HL Mountain Front Wheel",
                                    "ProductCategory": "Components",
                                    "TotalUnitsSold": "222",
                                    "Rank": "74",
                                    "Quintile": "4"
                                },
                                {
                                    "ProductName": "HL Touring Handlebars",
                                    "ProductCategory": "Components",
                                    "TotalUnitsSold": "220",
                                    "Rank": "75",
                                    "Quintile": "4"
                                },
                                {
                                    "ProductName": "LL Road Handlebars",
                                    "ProductCategory": "Components",
                                    "TotalUnitsSold": "213",
                                    "Rank": "76",
                                    "Quintile": "4"
                                },
                                {
                                    "ProductName": "LL Touring Frame - Blue, 54",
                                    "ProductCategory": "Components",
                                    "TotalUnitsSold": "211",
                                    "Rank": "77",
                                    "Quintile": "4"
                                },
                                {
                                    "ProductName": "ML Road Frame-W - Yellow, 40",
                                    "ProductCategory": "Components",
                                    "TotalUnitsSold": "203",
                                    "Rank": "78",
                                    "Quintile": "4"
                                },
                                {
                                    "ProductName": "LL Fork",
                                    "ProductCategory": "Components",
                                    "TotalUnitsSold": "190",
                                    "Rank": "79",
                                    "Quintile": "4"
                                },
                                {
                                    "ProductName": "ML Mountain Frame-W - Silver, 46",
                                    "ProductCategory": "Components",
                                    "TotalUnitsSold": "188",
                                    "Rank": "80",
                                    "Quintile": "4"
                                },
                                {
                                    "ProductName": "HL Mountain Frame - Silver, 48",
                                    "ProductCategory": "Components",
                                    "TotalUnitsSold": "173",
                                    "Rank": "81",
                                    "Quintile": "4"
                                },
                                {
                                    "ProductName": "Touring Pedal",
                                    "ProductCategory": "Components",
                                    "TotalUnitsSold": "147",
                                    "Rank": "82",
                                    "Quintile": "4"
                                },
                                {
                                    "ProductName": "HL Road Seat/Saddle",
                                    "ProductCategory": "Components",
                                    "TotalUnitsSold": "134",
                                    "Rank": "83",
                                    "Quintile": "4"
                                },
                                {
                                    "ProductName": "HL Mountain Frame - Black, 48",
                                    "ProductCategory": "Components",
                                    "TotalUnitsSold": "131",
                                    "Rank": "84",
                                    "Quintile": "4"
                                },
                                {
                                    "ProductName": "LL Road Frame - Black, 60",
                                    "ProductCategory": "Components",
                                    "TotalUnitsSold": "129",
                                    "Rank": "85",
                                    "Quintile": "4"
                                },
                                {
                                    "ProductName": "HL Touring Frame - Blue, 50",
                                    "ProductCategory": "Components",
                                    "TotalUnitsSold": "124",
                                    "Rank": "86",
                                    "Quintile": "4"
                                },
                                {
                                    "ProductName": "HL Touring Frame - Blue, 46",
                                    "ProductCategory": "Components",
                                    "TotalUnitsSold": "114",
                                    "Rank": "87",
                                    "Quintile": "4"
                                },
                                {
                                    "ProductName": "HL Road Frame - Red, 48",
                                    "ProductCategory": "Components",
                                    "TotalUnitsSold": "109",
                                    "Rank": "88",
                                    "Quintile": "4"
                                },
                                {
                                    "ProductName": "HL Road Frame - Black, 48",
                                    "ProductCategory": "Components",
                                    "TotalUnitsSold": "109",
                                    "Rank": "88",
                                    "Quintile": "4"
                                },
                                {
                                    "ProductName": "LL Road Frame - Red, 52",
                                    "ProductCategory": "Components",
                                    "TotalUnitsSold": "100",
                                    "Rank": "90",
                                    "Quintile": "5"
                                },
                                {
                                    "ProductName": "LL Headset",
                                    "ProductCategory": "Components",
                                    "TotalUnitsSold": "95",
                                    "Rank": "91",
                                    "Quintile": "5"
                                },
                                {
                                    "ProductName": "HL Road Rear Wheel",
                                    "ProductCategory": "Components",
                                    "TotalUnitsSold": "94",
                                    "Rank": "92",
                                    "Quintile": "5"
                                },
                                {
                                    "ProductName": "LL Touring Seat/Saddle",
                                    "ProductCategory": "Components",
                                    "TotalUnitsSold": "91",
                                    "Rank": "93",
                                    "Quintile": "5"
                                },
                                {
                                    "ProductName": "ML Road Frame - Red, 52",
                                    "ProductCategory": "Components",
                                    "TotalUnitsSold": "90",
                                    "Rank": "94",
                                    "Quintile": "5"
                                },
                                {
                                    "ProductName": "HL Touring Frame - Yellow, 46",
                                    "ProductCategory": "Components",
                                    "TotalUnitsSold": "87",
                                    "Rank": "95",
                                    "Quintile": "5"
                                },
                                {
                                    "ProductName": "ML Touring Seat/Saddle",
                                    "ProductCategory": "Components",
                                    "TotalUnitsSold": "84",
                                    "Rank": "96",
                                    "Quintile": "5"
                                },
                                {
                                    "ProductName": "HL Touring Frame - Yellow, 50",
                                    "ProductCategory": "Components",
                                    "TotalUnitsSold": "83",
                                    "Rank": "97",
                                    "Quintile": "5"
                                },
                                {
                                    "ProductName": "ML Mountain Frame - Black, 40",
                                    "ProductCategory": "Components",
                                    "TotalUnitsSold": "68",
                                    "Rank": "98",
                                    "Quintile": "5"
                                },
                                {
                                    "ProductName": "ML Crankset",
                                    "ProductCategory": "Components",
                                    "TotalUnitsSold": "68",
                                    "Rank": "98",
                                    "Quintile": "5"
                                },
                                {
                                    "ProductName": "ML Road Rear Wheel",
                                    "ProductCategory": "Components",
                                    "TotalUnitsSold": "64",
                                    "Rank": "100",
                                    "Quintile": "5"
                                },
                                {
                                    "ProductName": "LL Touring Handlebars",
                                    "ProductCategory": "Components",
                                    "TotalUnitsSold": "56",
                                    "Rank": "101",
                                    "Quintile": "5"
                                },
                                {
                                    "ProductName": "LL Mountain Frame - Silver, 48",
                                    "ProductCategory": "Components",
                                    "TotalUnitsSold": "44",
                                    "Rank": "102",
                                    "Quintile": "5"
                                },
                                {
                                    "ProductName": "LL Touring Frame - Yellow, 58",
                                    "ProductCategory": "Components",
                                    "TotalUnitsSold": "36",
                                    "Rank": "103",
                                    "Quintile": "5"
                                },
                                {
                                    "ProductName": "LL Touring Frame - Blue, 44",
                                    "ProductCategory": "Components",
                                    "TotalUnitsSold": "25",
                                    "Rank": "104",
                                    "Quintile": "5"
                                },
                                {
                                    "ProductName": "HL Mountain Frame - Black, 44",
                                    "ProductCategory": "Components",
                                    "TotalUnitsSold": "17",
                                    "Rank": "105",
                                    "Quintile": "5"
                                },
                                {
                                    "ProductName": "LL Touring Frame - Blue, 62",
                                    "ProductCategory": "Components",
                                    "TotalUnitsSold": "15",
                                    "Rank": "106",
                                    "Quintile": "5"
                                },
                                {
                                    "ProductName": "LL Mountain Frame - Black, 52",
                                    "ProductCategory": "Components",
                                    "TotalUnitsSold": "15",
                                    "Rank": "106",
                                    "Quintile": "5"
                                },
                                {
                                    "ProductName": "LL Road Seat/Saddle",
                                    "ProductCategory": "Components",
                                    "TotalUnitsSold": "10",
                                    "Rank": "108",
                                    "Quintile": "5"
                                },
                                {
                                    "ProductName": "LL Mountain Frame - Black, 40",
                                    "ProductCategory": "Components",
                                    "TotalUnitsSold": "8",
                                    "Rank": "109",
                                    "Quintile": "5"
                                },
                                {
                                    "ProductName": "ML Mountain Frame-W - Silver, 38",
                                    "ProductCategory": "Components",
                                    "TotalUnitsSold": "7",
                                    "Rank": "110",
                                    "Quintile": "5"
                                },
                                {
                                    "ProductName": "LL Touring Frame - Blue, 58",
                                    "ProductCategory": "Components",
                                    "TotalUnitsSold": "4",
                                    "Rank": "111",
                                    "Quintile": "5"
                                }
                            ]
                        },
                        "text/html": "<table><tr><th>ProductName</th><th>ProductCategory</th><th>TotalUnitsSold</th><th>Rank</th><th>Quintile</th></tr><tr><td>Water Bottle - 30 oz.</td><td>Accessories</td><td>6815</td><td>1</td><td>1</td></tr><tr><td>Sport-100 Helmet, Blue</td><td>Accessories</td><td>6743</td><td>2</td><td>1</td></tr><tr><td>Sport-100 Helmet, Black</td><td>Accessories</td><td>6532</td><td>3</td><td>1</td></tr><tr><td>Sport-100 Helmet, Red</td><td>Accessories</td><td>6266</td><td>4</td><td>1</td></tr><tr><td>Patch Kit/8 Patches</td><td>Accessories</td><td>3865</td><td>5</td><td>1</td></tr><tr><td>Bike Wash - Dissolver</td><td>Accessories</td><td>3319</td><td>6</td><td>2</td></tr><tr><td>Hitch Rack - 4-Bike</td><td>Accessories</td><td>3166</td><td>7</td><td>2</td></tr><tr><td>Mountain Tire Tube</td><td>Accessories</td><td>3095</td><td>8</td><td>2</td></tr><tr><td>Hydration Pack - 70 oz.</td><td>Accessories</td><td>2761</td><td>9</td><td>2</td></tr><tr><td>Road Tire Tube</td><td>Accessories</td><td>2376</td><td>10</td><td>2</td></tr><tr><td>Fender Set - Mountain</td><td>Accessories</td><td>2121</td><td>11</td><td>3</td></tr><tr><td>Mountain Bottle Cage</td><td>Accessories</td><td>2025</td><td>12</td><td>3</td></tr><tr><td>Road Bottle Cage</td><td>Accessories</td><td>1712</td><td>13</td><td>3</td></tr><tr><td>Touring Tire Tube</td><td>Accessories</td><td>1488</td><td>14</td><td>3</td></tr><tr><td>HL Mountain Tire</td><td>Accessories</td><td>1396</td><td>15</td><td>3</td></tr><tr><td>ML Mountain Tire</td><td>Accessories</td><td>1161</td><td>16</td><td>4</td></tr><tr><td>Minipump</td><td>Accessories</td><td>1130</td><td>17</td><td>4</td></tr><tr><td>Cable Lock</td><td>Accessories</td><td>1087</td><td>18</td><td>4</td></tr><tr><td>LL Road Tire</td><td>Accessories</td><td>1044</td><td>19</td><td>4</td></tr><tr><td>Touring Tire</td><td>Accessories</td><td>935</td><td>20</td><td>4</td></tr><tr><td>ML Road Tire</td><td>Accessories</td><td>926</td><td>21</td><td>5</td></tr><tr><td>LL Mountain Tire</td><td>Accessories</td><td>862</td><td>22</td><td>5</td></tr><tr><td>HL Road Tire</td><td>Accessories</td><td>858</td><td>23</td><td>5</td></tr><tr><td>All-Purpose Bike Stand</td><td>Accessories</td><td>249</td><td>24</td><td>5</td></tr><tr><td>Mountain-200 Black, 38</td><td>Bikes</td><td>2977</td><td>1</td><td>1</td></tr><tr><td>Mountain-200 Black, 42</td><td>Bikes</td><td>2664</td><td>2</td><td>1</td></tr><tr><td>Mountain-200 Silver, 38</td><td>Bikes</td><td>2394</td><td>3</td><td>1</td></tr><tr><td>Road-650 Black, 52</td><td>Bikes</td><td>2270</td><td>4</td><td>1</td></tr><tr><td>Road-650 Red, 44</td><td>Bikes</td><td>2254</td><td>5</td><td>1</td></tr><tr><td>Mountain-200 Silver, 42</td><td>Bikes</td><td>2234</td><td>6</td><td>1</td></tr><tr><td>Road-650 Red, 60</td><td>Bikes</td><td>2232</td><td>7</td><td>1</td></tr><tr><td>Mountain-200 Silver, 46</td><td>Bikes</td><td>2216</td><td>8</td><td>1</td></tr><tr><td>Mountain-200 Black, 46</td><td>Bikes</td><td>2111</td><td>9</td><td>1</td></tr><tr><td>Road-650 Red, 62</td><td>Bikes</td><td>1896</td><td>10</td><td>1</td></tr><tr><td>Road-650 Red, 48</td><td>Bikes</td><td>1888</td><td>11</td><td>1</td></tr><tr><td>Road-650 Black, 58</td><td>Bikes</td><td>1871</td><td>12</td><td>1</td></tr><tr><td>Road-550-W Yellow, 48</td><td>Bikes</td><td>1763</td><td>13</td><td>1</td></tr><tr><td>Road-550-W Yellow, 38</td><td>Bikes</td><td>1744</td><td>14</td><td>1</td></tr><tr><td>Road-250 Black, 44</td><td>Bikes</td><td>1642</td><td>15</td><td>1</td></tr><tr><td>Road-350-W Yellow, 48</td><td>Bikes</td><td>1622</td><td>16</td><td>1</td></tr><tr><td>Road-750 Black, 48</td><td>Bikes</td><td>1556</td><td>17</td><td>1</td></tr><tr><td>Road-550-W Yellow, 40</td><td>Bikes</td><td>1500</td><td>18</td><td>1</td></tr><tr><td>Road-250 Black, 48</td><td>Bikes</td><td>1498</td><td>19</td><td>1</td></tr><tr><td>Road-350-W Yellow, 40</td><td>Bikes</td><td>1477</td><td>20</td><td>1</td></tr><tr><td>Road-750 Black, 52</td><td>Bikes</td><td>1338</td><td>21</td><td>2</td></tr><tr><td>Road-550-W Yellow, 42</td><td>Bikes</td><td>1249</td><td>22</td><td>2</td></tr><tr><td>Road-250 Black, 52</td><td>Bikes</td><td>1245</td><td>23</td><td>2</td></tr><tr><td>Touring-1000 Blue, 60</td><td>Bikes</td><td>1120</td><td>24</td><td>2</td></tr><tr><td>Touring-1000 Yellow, 60</td><td>Bikes</td><td>1114</td><td>25</td><td>2</td></tr><tr><td>Road-650 Red, 52</td><td>Bikes</td><td>1112</td><td>26</td><td>2</td></tr><tr><td>Road-650 Black, 60</td><td>Bikes</td><td>1100</td><td>27</td><td>2</td></tr><tr><td>Road-650 Black, 44</td><td>Bikes</td><td>1080</td><td>28</td><td>2</td></tr><tr><td>Touring-2000 Blue, 54</td><td>Bikes</td><td>1010</td><td>29</td><td>2</td></tr><tr><td>Touring-1000 Yellow, 46</td><td>Bikes</td><td>1005</td><td>30</td><td>2</td></tr><tr><td>Touring-1000 Blue, 46</td><td>Bikes</td><td>1002</td><td>31</td><td>2</td></tr><tr><td>Road-250 Red, 58</td><td>Bikes</td><td>946</td><td>32</td><td>2</td></tr><tr><td>Road-350-W Yellow, 42</td><td>Bikes</td><td>944</td><td>33</td><td>2</td></tr><tr><td>Road-550-W Yellow, 44</td><td>Bikes</td><td>927</td><td>34</td><td>2</td></tr><tr><td>Road-250 Black, 58</td><td>Bikes</td><td>910</td><td>35</td><td>2</td></tr><tr><td>Road-250 Red, 44</td><td>Bikes</td><td>895</td><td>36</td><td>2</td></tr><tr><td>Road-750 Black, 58</td><td>Bikes</td><td>892</td><td>37</td><td>2</td></tr><tr><td>Touring-3000 Yellow, 44</td><td>Bikes</td><td>851</td><td>38</td><td>2</td></tr><tr><td>Touring-3000 Yellow, 62</td><td>Bikes</td><td>844</td><td>39</td><td>2</td></tr><tr><td>Touring-3000 Blue, 50</td><td>Bikes</td><td>841</td><td>40</td><td>2</td></tr><tr><td>Touring-2000 Blue, 60</td><td>Bikes</td><td>820</td><td>41</td><td>3</td></tr><tr><td>Road-250 Red, 48</td><td>Bikes</td><td>812</td><td>42</td><td>3</td></tr><tr><td>Mountain-300 Black, 40</td><td>Bikes</td><td>776</td><td>43</td><td>3</td></tr><tr><td>Mountain-300 Black, 44</td><td>Bikes</td><td>747</td><td>44</td><td>3</td></tr><tr><td>Mountain-300 Black, 48</td><td>Bikes</td><td>740</td><td>45</td><td>3</td></tr><tr><td>Road-450 Red, 52</td><td>Bikes</td><td>710</td><td>46</td><td>3</td></tr><tr><td>Touring-3000 Yellow, 50</td><td>Bikes</td><td>686</td><td>47</td><td>3</td></tr><tr><td>Touring-3000 Blue, 54</td><td>Bikes</td><td>686</td><td>47</td><td>3</td></tr><tr><td>Mountain-300 Black, 38</td><td>Bikes</td><td>684</td><td>49</td><td>3</td></tr><tr><td>Mountain-100 Black, 38</td><td>Bikes</td><td>682</td><td>50</td><td>3</td></tr><tr><td>Mountain-100 Black, 44</td><td>Bikes</td><td>678</td><td>51</td><td>3</td></tr><tr><td>Road-150 Red, 56</td><td>Bikes</td><td>664</td><td>52</td><td>3</td></tr><tr><td>Road-750 Black, 44</td><td>Bikes</td><td>656</td><td>53</td><td>3</td></tr><tr><td>Touring-1000 Yellow, 50</td><td>Bikes</td><td>652</td><td>54</td><td>3</td></tr><tr><td>Touring-1000 Blue, 50</td><td>Bikes</td><td>649</td><td>55</td><td>3</td></tr><tr><td>Road-650 Black, 48</td><td>Bikes</td><td>644</td><td>56</td><td>3</td></tr><tr><td>Road-650 Black, 62</td><td>Bikes</td><td>644</td><td>56</td><td>3</td></tr><tr><td>Mountain-100 Silver, 38</td><td>Bikes</td><td>642</td><td>58</td><td>3</td></tr><tr><td>Road-250 Red, 52</td><td>Bikes</td><td>639</td><td>59</td><td>3</td></tr><tr><td>Mountain-100 Black, 42</td><td>Bikes</td><td>634</td><td>60</td><td>4</td></tr><tr><td>Road-650 Red, 58</td><td>Bikes</td><td>618</td><td>61</td><td>4</td></tr><tr><td>Mountain-400-W Silver, 40</td><td>Bikes</td><td>617</td><td>62</td><td>4</td></tr><tr><td>Mountain-100 Black, 48</td><td>Bikes</td><td>616</td><td>63</td><td>4</td></tr><tr><td>Mountain-100 Silver, 44</td><td>Bikes</td><td>601</td><td>64</td><td>4</td></tr><tr><td>Road-150 Red, 62</td><td>Bikes</td><td>600</td><td>65</td><td>4</td></tr><tr><td>Mountain-100 Silver, 42</td><td>Bikes</td><td>593</td><td>66</td><td>4</td></tr><tr><td>Road-450 Red, 58</td><td>Bikes</td><td>582</td><td>67</td><td>4</td></tr><tr><td>Touring-2000 Blue, 46</td><td>Bikes</td><td>538</td><td>68</td><td>4</td></tr><tr><td>Road-350-W Yellow, 44</td><td>Bikes</td><td>536</td><td>69</td><td>4</td></tr><tr><td>Mountain-500 Silver, 52</td><td>Bikes</td><td>515</td><td>70</td><td>4</td></tr><tr><td>Mountain-100 Silver, 48</td><td>Bikes</td><td>505</td><td>71</td><td>4</td></tr><tr><td>Road-150 Red, 48</td><td>Bikes</td><td>493</td><td>72</td><td>4</td></tr><tr><td>Touring-3000 Blue, 58</td><td>Bikes</td><td>482</td><td>73</td><td>4</td></tr><tr><td>Road-150 Red, 52</td><td>Bikes</td><td>458</td><td>74</td><td>4</td></tr><tr><td>Mountain-500 Silver, 48</td><td>Bikes</td><td>457</td><td>75</td><td>4</td></tr><tr><td>Mountain-500 Silver, 42</td><td>Bikes</td><td>455</td><td>76</td><td>4</td></tr><tr><td>Touring-3000 Yellow, 54</td><td>Bikes</td><td>453</td><td>77</td><td>4</td></tr><tr><td>Mountain-500 Silver, 40</td><td>Bikes</td><td>450</td><td>78</td><td>4</td></tr><tr><td>Mountain-500 Black, 48</td><td>Bikes</td><td>449</td><td>79</td><td>5</td></tr><tr><td>Road-150 Red, 44</td><td>Bikes</td><td>437</td><td>80</td><td>5</td></tr><tr><td>Mountain-400-W Silver, 38</td><td>Bikes</td><td>425</td><td>81</td><td>5</td></tr><tr><td>Touring-1000 Blue, 54</td><td>Bikes</td><td>413</td><td>82</td><td>5</td></tr><tr><td>Mountain-400-W Silver, 46</td><td>Bikes</td><td>401</td><td>83</td><td>5</td></tr><tr><td>Touring-1000 Yellow, 54</td><td>Bikes</td><td>397</td><td>84</td><td>5</td></tr><tr><td>Mountain-500 Black, 42</td><td>Bikes</td><td>388</td><td>85</td><td>5</td></tr><tr><td>Mountain-400-W Silver, 42</td><td>Bikes</td><td>385</td><td>86</td><td>5</td></tr><tr><td>Mountain-500 Silver, 44</td><td>Bikes</td><td>381</td><td>87</td><td>5</td></tr><tr><td>Mountain-500 Black, 44</td><td>Bikes</td><td>350</td><td>88</td><td>5</td></tr><tr><td>Road-450 Red, 60</td><td>Bikes</td><td>350</td><td>88</td><td>5</td></tr><tr><td>Road-450 Red, 44</td><td>Bikes</td><td>346</td><td>90</td><td>5</td></tr><tr><td>Touring-2000 Blue, 50</td><td>Bikes</td><td>322</td><td>91</td><td>5</td></tr><tr><td>Touring-3000 Yellow, 58</td><td>Bikes</td><td>293</td><td>92</td><td>5</td></tr><tr><td>Touring-3000 Blue, 44</td><td>Bikes</td><td>292</td><td>93</td><td>5</td></tr><tr><td>Mountain-500 Black, 40</td><td>Bikes</td><td>282</td><td>94</td><td>5</td></tr><tr><td>Touring-3000 Blue, 62</td><td>Bikes</td><td>281</td><td>95</td><td>5</td></tr><tr><td>Mountain-500 Black, 52</td><td>Bikes</td><td>272</td><td>96</td><td>5</td></tr><tr><td>Road-450 Red, 48</td><td>Bikes</td><td>156</td><td>97</td><td>5</td></tr><tr><td>AWC Logo Cap</td><td>Clothing</td><td>8311</td><td>1</td><td>1</td></tr><tr><td>Long-Sleeve Logo Jersey, L</td><td>Clothing</td><td>6592</td><td>2</td><td>1</td></tr><tr><td>Classic Vest, S</td><td>Clothing</td><td>4247</td><td>3</td><td>1</td></tr><tr><td>Short-Sleeve Classic Jersey, XL</td><td>Clothing</td><td>3864</td><td>4</td><td>1</td></tr><tr><td>Long-Sleeve Logo Jersey, M</td><td>Clothing</td><td>3636</td><td>5</td><td>1</td></tr><tr><td>Half-Finger Gloves, M</td><td>Clothing</td><td>3464</td><td>6</td><td>1</td></tr><tr><td>Full-Finger Gloves, L</td><td>Clothing</td><td>3378</td><td>7</td><td>1</td></tr><tr><td>Women&#39;s Mountain Shorts, S</td><td>Clothing</td><td>3296</td><td>8</td><td>2</td></tr><tr><td>Women&#39;s Mountain Shorts, L</td><td>Clothing</td><td>3244</td><td>9</td><td>2</td></tr><tr><td>Long-Sleeve Logo Jersey, XL</td><td>Clothing</td><td>2980</td><td>10</td><td>2</td></tr><tr><td>Short-Sleeve Classic Jersey, L</td><td>Clothing</td><td>2848</td><td>11</td><td>2</td></tr><tr><td>Racing Socks, L</td><td>Clothing</td><td>2473</td><td>12</td><td>2</td></tr><tr><td>Classic Vest, M</td><td>Clothing</td><td>2284</td><td>13</td><td>2</td></tr><tr><td>Full-Finger Gloves, M</td><td>Clothing</td><td>2206</td><td>14</td><td>2</td></tr><tr><td>Half-Finger Gloves, S</td><td>Clothing</td><td>2188</td><td>15</td><td>3</td></tr><tr><td>Women&#39;s Tights, L</td><td>Clothing</td><td>2123</td><td>16</td><td>3</td></tr><tr><td>Women&#39;s Tights, S</td><td>Clothing</td><td>2072</td><td>17</td><td>3</td></tr><tr><td>Short-Sleeve Classic Jersey, S</td><td>Clothing</td><td>1955</td><td>18</td><td>3</td></tr><tr><td>Men&#39;s Bib-Shorts, M</td><td>Clothing</td><td>1616</td><td>19</td><td>3</td></tr><tr><td>Racing Socks, M</td><td>Clothing</td><td>1547</td><td>20</td><td>3</td></tr><tr><td>Half-Finger Gloves, L</td><td>Clothing</td><td>1276</td><td>21</td><td>3</td></tr><tr><td>Men&#39;s Sports Shorts, M</td><td>Clothing</td><td>1276</td><td>21</td><td>4</td></tr><tr><td>Women&#39;s Mountain Shorts, M</td><td>Clothing</td><td>1139</td><td>23</td><td>4</td></tr><tr><td>Mountain Bike Socks, M</td><td>Clothing</td><td>1107</td><td>24</td><td>4</td></tr><tr><td>Men&#39;s Bib-Shorts, S</td><td>Clothing</td><td>876</td><td>25</td><td>4</td></tr><tr><td>Men&#39;s Bib-Shorts, L</td><td>Clothing</td><td>633</td><td>26</td><td>4</td></tr><tr><td>Men&#39;s Sports Shorts, S</td><td>Clothing</td><td>567</td><td>27</td><td>4</td></tr><tr><td>Full-Finger Gloves, S</td><td>Clothing</td><td>500</td><td>28</td><td>4</td></tr><tr><td>Men&#39;s Sports Shorts, L</td><td>Clothing</td><td>445</td><td>29</td><td>5</td></tr><tr><td>Long-Sleeve Logo Jersey, S</td><td>Clothing</td><td>429</td><td>30</td><td>5</td></tr><tr><td>Short-Sleeve Classic Jersey, M</td><td>Clothing</td><td>407</td><td>31</td><td>5</td></tr><tr><td>Women&#39;s Tights, M</td><td>Clothing</td><td>394</td><td>32</td><td>5</td></tr><tr><td>Classic Vest, L</td><td>Clothing</td><td>207</td><td>33</td><td>5</td></tr><tr><td>Mountain Bike Socks, L</td><td>Clothing</td><td>90</td><td>34</td><td>5</td></tr><tr><td>LL Road Frame - Black, 52</td><td>Components</td><td>1581</td><td>1</td><td>1</td></tr><tr><td>ML Mountain Handlebars</td><td>Components</td><td>1465</td><td>2</td><td>1</td></tr><tr><td>ML Road Frame-W - Yellow, 44</td><td>Components</td><td>1435</td><td>3</td><td>1</td></tr><tr><td>HL Mountain Frame - Silver, 38</td><td>Components</td><td>1206</td><td>4</td><td>1</td></tr><tr><td>HL Mountain Frame - Black, 42</td><td>Components</td><td>1181</td><td>5</td><td>1</td></tr><tr><td>LL Road Frame - Red, 60</td><td>Components</td><td>996</td><td>6</td><td>1</td></tr><tr><td>LL Road Frame - Red, 44</td><td>Components</td><td>991</td><td>7</td><td>1</td></tr><tr><td>ML Mountain Frame - Black, 48</td><td>Components</td><td>959</td><td>8</td><td>1</td></tr><tr><td>LL Road Frame - Black, 58</td><td>Components</td><td>940</td><td>9</td><td>1</td></tr><tr><td>ML Mountain Frame-W - Silver, 40</td><td>Components</td><td>899</td><td>10</td><td>1</td></tr><tr><td>ML Road Frame-W - Yellow, 38</td><td>Components</td><td>895</td><td>11</td><td>1</td></tr><tr><td>ML Road Frame-W - Yellow, 48</td><td>Components</td><td>889</td><td>12</td><td>1</td></tr><tr><td>LL Road Rear Wheel</td><td>Components</td><td>868</td><td>13</td><td>1</td></tr><tr><td>LL Road Pedal</td><td>Components</td><td>868</td><td>13</td><td>1</td></tr><tr><td>LL Mountain Handlebars</td><td>Components</td><td>865</td><td>15</td><td>1</td></tr><tr><td>ML Mountain Rear Wheel</td><td>Components</td><td>851</td><td>16</td><td>1</td></tr><tr><td>HL Mountain Rear Wheel</td><td>Components</td><td>850</td><td>17</td><td>1</td></tr><tr><td>Front Derailleur</td><td>Components</td><td>813</td><td>18</td><td>1</td></tr><tr><td>Front Brakes</td><td>Components</td><td>789</td><td>19</td><td>1</td></tr><tr><td>HL Mountain Pedal</td><td>Components</td><td>785</td><td>20</td><td>1</td></tr><tr><td>Chain</td><td>Components</td><td>774</td><td>21</td><td>1</td></tr><tr><td>LL Road Frame - Red, 62</td><td>Components</td><td>697</td><td>22</td><td>1</td></tr><tr><td>HL Road Pedal</td><td>Components</td><td>676</td><td>23</td><td>1</td></tr><tr><td>LL Road Frame - Red, 48</td><td>Components</td><td>671</td><td>24</td><td>2</td></tr><tr><td>ML Road Pedal</td><td>Components</td><td>661</td><td>25</td><td>2</td></tr><tr><td>ML Headset</td><td>Components</td><td>659</td><td>26</td><td>2</td></tr><tr><td>HL Mountain Frame - Black, 38</td><td>Components</td><td>659</td><td>26</td><td>2</td></tr><tr><td>HL Mountain Frame - Silver, 46</td><td>Components</td><td>649</td><td>28</td><td>2</td></tr><tr><td>LL Mountain Frame - Silver, 42</td><td>Components</td><td>638</td><td>29</td><td>2</td></tr><tr><td>HL Road Handlebars</td><td>Components</td><td>631</td><td>30</td><td>2</td></tr><tr><td>ML Mountain Frame-W - Silver, 42</td><td>Components</td><td>627</td><td>31</td><td>2</td></tr><tr><td>LL Mountain Frame - Black, 44</td><td>Components</td><td>625</td><td>32</td><td>2</td></tr><tr><td>ML Mountain Frame - Black, 44</td><td>Components</td><td>619</td><td>33</td><td>2</td></tr><tr><td>LL Mountain Front Wheel</td><td>Components</td><td>617</td><td>34</td><td>2</td></tr><tr><td>HL Crankset</td><td>Components</td><td>613</td><td>35</td><td>2</td></tr><tr><td>HL Road Front Wheel</td><td>Components</td><td>567</td><td>36</td><td>2</td></tr><tr><td>HL Bottom Bracket</td><td>Components</td><td>543</td><td>37</td><td>2</td></tr><tr><td>HL Touring Frame - Blue, 54</td><td>Components</td><td>542</td><td>38</td><td>2</td></tr><tr><td>HL Touring Frame - Yellow, 54</td><td>Components</td><td>540</td><td>39</td><td>2</td></tr><tr><td>ML Mountain Seat/Saddle</td><td>Components</td><td>534</td><td>40</td><td>2</td></tr><tr><td>ML Road Front Wheel</td><td>Components</td><td>532</td><td>41</td><td>2</td></tr><tr><td>HL Mountain Seat/Saddle</td><td>Components</td><td>519</td><td>42</td><td>2</td></tr><tr><td>ML Mountain Frame - Black, 38</td><td>Components</td><td>514</td><td>43</td><td>2</td></tr><tr><td>HL Mountain Handlebars</td><td>Components</td><td>500</td><td>44</td><td>2</td></tr><tr><td>HL Road Frame - Red, 44</td><td>Components</td><td>486</td><td>45</td><td>2</td></tr><tr><td>HL Road Frame - Red, 62</td><td>Components</td><td>485</td><td>46</td><td>3</td></tr><tr><td>HL Road Frame - Black, 44</td><td>Components</td><td>459</td><td>47</td><td>3</td></tr><tr><td>LL Mountain Pedal</td><td>Components</td><td>449</td><td>48</td><td>3</td></tr><tr><td>HL Fork</td><td>Components</td><td>444</td><td>49</td><td>3</td></tr><tr><td>LL Mountain Frame - Silver, 40</td><td>Components</td><td>442</td><td>50</td><td>3</td></tr><tr><td>LL Crankset</td><td>Components</td><td>426</td><td>51</td><td>3</td></tr><tr><td>HL Touring Seat/Saddle</td><td>Components</td><td>426</td><td>51</td><td>3</td></tr><tr><td>LL Mountain Frame - Silver, 52</td><td>Components</td><td>425</td><td>53</td><td>3</td></tr><tr><td>LL Mountain Frame - Black, 42</td><td>Components</td><td>423</td><td>54</td><td>3</td></tr><tr><td>HL Touring Frame - Yellow, 60</td><td>Components</td><td>387</td><td>55</td><td>3</td></tr><tr><td>LL Mountain Frame - Black, 48</td><td>Components</td><td>386</td><td>56</td><td>3</td></tr><tr><td>LL Bottom Bracket</td><td>Components</td><td>378</td><td>57</td><td>3</td></tr><tr><td>LL Mountain Frame - Silver, 44</td><td>Components</td><td>371</td><td>58</td><td>3</td></tr><tr><td>HL Touring Frame - Blue, 60</td><td>Components</td><td>371</td><td>58</td><td>3</td></tr><tr><td>Rear Derailleur</td><td>Components</td><td>353</td><td>60</td><td>3</td></tr><tr><td>LL Touring Frame - Yellow, 62</td><td>Components</td><td>348</td><td>61</td><td>3</td></tr><tr><td>LL Mountain Seat/Saddle</td><td>Components</td><td>347</td><td>62</td><td>3</td></tr><tr><td>HL Mountain Frame - Silver, 42</td><td>Components</td><td>347</td><td>62</td><td>3</td></tr><tr><td>ML Mountain Pedal</td><td>Components</td><td>345</td><td>64</td><td>3</td></tr><tr><td>LL Mountain Rear Wheel</td><td>Components</td><td>342</td><td>65</td><td>3</td></tr><tr><td>LL Touring Frame - Blue, 50</td><td>Components</td><td>316</td><td>66</td><td>3</td></tr><tr><td>LL Touring Frame - Yellow, 44</td><td>Components</td><td>294</td><td>67</td><td>3</td></tr><tr><td>ML Mountain Front Wheel</td><td>Components</td><td>266</td><td>68</td><td>4</td></tr><tr><td>HL Headset</td><td>Components</td><td>255</td><td>69</td><td>4</td></tr><tr><td>ML Road Frame - Red, 48</td><td>Components</td><td>250</td><td>70</td><td>4</td></tr><tr><td>Rear Brakes</td><td>Components</td><td>246</td><td>71</td><td>4</td></tr><tr><td>LL Road Frame - Black, 44</td><td>Components</td><td>238</td><td>72</td><td>4</td></tr><tr><td>LL Touring Frame - Yellow, 50</td><td>Components</td><td>228</td><td>73</td><td>4</td></tr><tr><td>HL Mountain Front Wheel</td><td>Components</td><td>222</td><td>74</td><td>4</td></tr><tr><td>HL Touring Handlebars</td><td>Components</td><td>220</td><td>75</td><td>4</td></tr><tr><td>LL Road Handlebars</td><td>Components</td><td>213</td><td>76</td><td>4</td></tr><tr><td>LL Touring Frame - Blue, 54</td><td>Components</td><td>211</td><td>77</td><td>4</td></tr><tr><td>ML Road Frame-W - Yellow, 40</td><td>Components</td><td>203</td><td>78</td><td>4</td></tr><tr><td>LL Fork</td><td>Components</td><td>190</td><td>79</td><td>4</td></tr><tr><td>ML Mountain Frame-W - Silver, 46</td><td>Components</td><td>188</td><td>80</td><td>4</td></tr><tr><td>HL Mountain Frame - Silver, 48</td><td>Components</td><td>173</td><td>81</td><td>4</td></tr><tr><td>Touring Pedal</td><td>Components</td><td>147</td><td>82</td><td>4</td></tr><tr><td>HL Road Seat/Saddle</td><td>Components</td><td>134</td><td>83</td><td>4</td></tr><tr><td>HL Mountain Frame - Black, 48</td><td>Components</td><td>131</td><td>84</td><td>4</td></tr><tr><td>LL Road Frame - Black, 60</td><td>Components</td><td>129</td><td>85</td><td>4</td></tr><tr><td>HL Touring Frame - Blue, 50</td><td>Components</td><td>124</td><td>86</td><td>4</td></tr><tr><td>HL Touring Frame - Blue, 46</td><td>Components</td><td>114</td><td>87</td><td>4</td></tr><tr><td>HL Road Frame - Red, 48</td><td>Components</td><td>109</td><td>88</td><td>4</td></tr><tr><td>HL Road Frame - Black, 48</td><td>Components</td><td>109</td><td>88</td><td>4</td></tr><tr><td>LL Road Frame - Red, 52</td><td>Components</td><td>100</td><td>90</td><td>5</td></tr><tr><td>LL Headset</td><td>Components</td><td>95</td><td>91</td><td>5</td></tr><tr><td>HL Road Rear Wheel</td><td>Components</td><td>94</td><td>92</td><td>5</td></tr><tr><td>LL Touring Seat/Saddle</td><td>Components</td><td>91</td><td>93</td><td>5</td></tr><tr><td>ML Road Frame - Red, 52</td><td>Components</td><td>90</td><td>94</td><td>5</td></tr><tr><td>HL Touring Frame - Yellow, 46</td><td>Components</td><td>87</td><td>95</td><td>5</td></tr><tr><td>ML Touring Seat/Saddle</td><td>Components</td><td>84</td><td>96</td><td>5</td></tr><tr><td>HL Touring Frame - Yellow, 50</td><td>Components</td><td>83</td><td>97</td><td>5</td></tr><tr><td>ML Mountain Frame - Black, 40</td><td>Components</td><td>68</td><td>98</td><td>5</td></tr><tr><td>ML Crankset</td><td>Components</td><td>68</td><td>98</td><td>5</td></tr><tr><td>ML Road Rear Wheel</td><td>Components</td><td>64</td><td>100</td><td>5</td></tr><tr><td>LL Touring Handlebars</td><td>Components</td><td>56</td><td>101</td><td>5</td></tr><tr><td>LL Mountain Frame - Silver, 48</td><td>Components</td><td>44</td><td>102</td><td>5</td></tr><tr><td>LL Touring Frame - Yellow, 58</td><td>Components</td><td>36</td><td>103</td><td>5</td></tr><tr><td>LL Touring Frame - Blue, 44</td><td>Components</td><td>25</td><td>104</td><td>5</td></tr><tr><td>HL Mountain Frame - Black, 44</td><td>Components</td><td>17</td><td>105</td><td>5</td></tr><tr><td>LL Touring Frame - Blue, 62</td><td>Components</td><td>15</td><td>106</td><td>5</td></tr><tr><td>LL Mountain Frame - Black, 52</td><td>Components</td><td>15</td><td>106</td><td>5</td></tr><tr><td>LL Road Seat/Saddle</td><td>Components</td><td>10</td><td>108</td><td>5</td></tr><tr><td>LL Mountain Frame - Black, 40</td><td>Components</td><td>8</td><td>109</td><td>5</td></tr><tr><td>ML Mountain Frame-W - Silver, 38</td><td>Components</td><td>7</td><td>110</td><td>5</td></tr><tr><td>LL Touring Frame - Blue, 58</td><td>Components</td><td>4</td><td>111</td><td>5</td></tr></table>"
                    },
                    "metadata": {}
                }
            ],
            "execution_count": 3
        }
    ]
}