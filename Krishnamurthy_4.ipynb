{
    "metadata": {
        "kernelspec": {
            "name": "SQL",
            "display_name": "SQL",
            "language": "sql"
        },
        "language_info": {
            "name": "sql",
            "version": ""
        }
    },
    "nbformat_minor": 2,
    "nbformat": 4,
    "cells": [
        {
            "cell_type": "markdown",
            "source": [
                "### **ASSIGNMENT 4**\n",
                "\n",
                "**Lakshmi Priyadarshni Krishnamurthy**"
            ],
            "metadata": {
                "azdata_cell_guid": "dfbafe78-a25c-4d7e-8a77-48ce8a26338e"
            },
            "attachments": {}
        },
        {
            "cell_type": "markdown",
            "source": [
                "Problem 1\n",
                "\n",
                "You have been asked to understand how successful the Touring-3000 promotion was. Produce a report that retrieves the reseller name, country name, product category name, total sales amount, and currency name for this promotion.  Be sure to show the highest value sales first."
            ],
            "metadata": {
                "azdata_cell_guid": "e69fc414-c7fd-4eef-bf3e-ed622415c56c"
            },
            "attachments": {}
        },
        {
            "cell_type": "code",
            "source": [
                "Use ADW\r\n",
                "SELECT\r\n",
                "r.ResellerName AS Reseller,\r\n",
                "g.EnglishCountryRegionName AS Country,\r\n",
                "pc.EnglishProductCategoryName AS Product_Category,\r\n",
                "SUM(rs.SalesAmount) AS Total_Sales,\r\n",
                "c.CurrencyName AS Currency\r\n",
                "FROM \r\n",
                "dbo.DimReseller r\r\n",
                "INNER JOIN\r\n",
                "dbo.DimGeography g\r\n",
                "ON r.GeographyKey = g.GeographyKey\r\n",
                "INNER JOIN\r\n",
                "dbo.FactResellerSales rs\r\n",
                "ON r.ResellerKey = rs.ResellerKey\r\n",
                "INNER JOIN\r\n",
                "dbo.DimProduct p\r\n",
                "ON\r\n",
                "p.ProductKey = rs.ProductKey\r\n",
                "INNER JOIN\r\n",
                "dbo.DimProductSubCategory psc\r\n",
                "ON \r\n",
                "psc.ProductSubCategoryKey = p.ProductSubCategoryKey\r\n",
                "INNER JOIN\r\n",
                "dbo.DimProductCategory pc\r\n",
                "ON pc.ProductCategoryKey = psc.ProductCategoryKey\r\n",
                "INNER JOIN\r\n",
                "dbo.DimCurrency c\r\n",
                "ON\r\n",
                "rs.CurrencyKey = c.CurrencyKey\r\n",
                "INNER JOIN\r\n",
                "dbo.DimPromotion pr\r\n",
                "ON pr.PromotionKey = rs.PromotionKey\r\n",
                "WHERE pr.EnglishPromotionName = 'Touring-3000 Promotion'\r\n",
                "GROUP BY r.ResellerName, g.EnglishCountryRegionName, pc.EnglishProductCategoryName, c.CurrencyName\r\n",
                "ORDER BY Total_Sales DESC"
            ],
            "metadata": {
                "azdata_cell_guid": "e0b71d66-eab1-4d0b-9403-599404c7a623",
                "language": "sql"
            },
            "outputs": [
                {
                    "output_type": "display_data",
                    "data": {
                        "text/html": "(101 rows affected)"
                    },
                    "metadata": {}
                },
                {
                    "output_type": "display_data",
                    "data": {
                        "text/html": "Total execution time: 00:00:00.598"
                    },
                    "metadata": {}
                },
                {
                    "output_type": "execute_result",
                    "metadata": {},
                    "execution_count": 37,
                    "data": {
                        "application/vnd.dataresource+json": {
                            "schema": {
                                "fields": [
                                    {
                                        "name": "Reseller"
                                    },
                                    {
                                        "name": "Country"
                                    },
                                    {
                                        "name": "Product_Category"
                                    },
                                    {
                                        "name": "Total_Sales"
                                    },
                                    {
                                        "name": "Currency"
                                    }
                                ]
                            },
                            "data": [
                                {
                                    "Reseller": "Action Bicycle Specialists",
                                    "Country": "United Kingdom",
                                    "Product_Category": "Bikes",
                                    "Total_Sales": "19024.5748",
                                    "Currency": "United Kingdom Pound"
                                },
                                {
                                    "Reseller": "Westside Plaza",
                                    "Country": "United States",
                                    "Product_Category": "Bikes",
                                    "Total_Sales": "19024.5746",
                                    "Currency": "US Dollar"
                                },
                                {
                                    "Reseller": "Camping and Sports Store",
                                    "Country": "Canada",
                                    "Product_Category": "Bikes",
                                    "Total_Sales": "17320.8815",
                                    "Currency": "Canadian Dollar"
                                },
                                {
                                    "Reseller": "Global Bike Retailers",
                                    "Country": "Germany",
                                    "Product_Category": "Bikes",
                                    "Total_Sales": "16752.9838",
                                    "Currency": "EURO"
                                },
                                {
                                    "Reseller": "Perfect Toys",
                                    "Country": "France",
                                    "Product_Category": "Bikes",
                                    "Total_Sales": "15333.2394",
                                    "Currency": "US Dollar"
                                },
                                {
                                    "Reseller": "Roadway Bicycle Supply",
                                    "Country": "France",
                                    "Product_Category": "Bikes",
                                    "Total_Sales": "14481.3929",
                                    "Currency": "US Dollar"
                                },
                                {
                                    "Reseller": "Rally Master Company Inc",
                                    "Country": "United States",
                                    "Product_Category": "Bikes",
                                    "Total_Sales": "13913.495",
                                    "Currency": "US Dollar"
                                },
                                {
                                    "Reseller": "Best Cycle Store",
                                    "Country": "Germany",
                                    "Product_Category": "Bikes",
                                    "Total_Sales": "12493.7506",
                                    "Currency": "EURO"
                                },
                                {
                                    "Reseller": "Front Runner Bikes",
                                    "Country": "United States",
                                    "Product_Category": "Bikes",
                                    "Total_Sales": "11641.9039",
                                    "Currency": "US Dollar"
                                },
                                {
                                    "Reseller": "Favorite Toy Distributor",
                                    "Country": "France",
                                    "Product_Category": "Bikes",
                                    "Total_Sales": "10506.1085",
                                    "Currency": "EURO"
                                },
                                {
                                    "Reseller": "Glossy Bikes",
                                    "Country": "United States",
                                    "Product_Category": "Bikes",
                                    "Total_Sales": "9086.3642",
                                    "Currency": "US Dollar"
                                },
                                {
                                    "Reseller": "Outstanding Cycles",
                                    "Country": "United States",
                                    "Product_Category": "Bikes",
                                    "Total_Sales": "9086.3641",
                                    "Currency": "US Dollar"
                                },
                                {
                                    "Reseller": "Another Bicycle Company",
                                    "Country": "United States",
                                    "Product_Category": "Bikes",
                                    "Total_Sales": "8518.4665",
                                    "Currency": "US Dollar"
                                },
                                {
                                    "Reseller": "Vintage Sport Boutique",
                                    "Country": "United States",
                                    "Product_Category": "Bikes",
                                    "Total_Sales": "8518.4665",
                                    "Currency": "US Dollar"
                                },
                                {
                                    "Reseller": "Technical Parts Manufacturing",
                                    "Country": "United States",
                                    "Product_Category": "Bikes",
                                    "Total_Sales": "8518.4665",
                                    "Currency": "US Dollar"
                                },
                                {
                                    "Reseller": "Instruments and Parts Company",
                                    "Country": "United Kingdom",
                                    "Product_Category": "Bikes",
                                    "Total_Sales": "7950.5687",
                                    "Currency": "United Kingdom Pound"
                                },
                                {
                                    "Reseller": "Metro Metals Co.",
                                    "Country": "United Kingdom",
                                    "Product_Category": "Bikes",
                                    "Total_Sales": "7666.6198",
                                    "Currency": "United Kingdom Pound"
                                },
                                {
                                    "Reseller": "Extreme Riding Supplies",
                                    "Country": "United States",
                                    "Product_Category": "Bikes",
                                    "Total_Sales": "7666.6196",
                                    "Currency": "US Dollar"
                                },
                                {
                                    "Reseller": "Next Door Cycles",
                                    "Country": "Germany",
                                    "Product_Category": "Bikes",
                                    "Total_Sales": "7382.671",
                                    "Currency": "EURO"
                                },
                                {
                                    "Reseller": "Nationwide Supply",
                                    "Country": "Australia",
                                    "Product_Category": "Bikes",
                                    "Total_Sales": "7382.6709",
                                    "Currency": "Australian Dollar"
                                },
                                {
                                    "Reseller": "Petroleum Products Distributors",
                                    "Country": "Canada",
                                    "Product_Category": "Bikes",
                                    "Total_Sales": "7098.722",
                                    "Currency": "Canadian Dollar"
                                },
                                {
                                    "Reseller": "Roadway Bike Emporium",
                                    "Country": "United States",
                                    "Product_Category": "Bikes",
                                    "Total_Sales": "7098.7219",
                                    "Currency": "US Dollar"
                                },
                                {
                                    "Reseller": "Utilitarian Sporting Goods",
                                    "Country": "United States",
                                    "Product_Category": "Bikes",
                                    "Total_Sales": "6814.7731",
                                    "Currency": "US Dollar"
                                },
                                {
                                    "Reseller": "Grand Industries",
                                    "Country": "Canada",
                                    "Product_Category": "Bikes",
                                    "Total_Sales": "6530.8242",
                                    "Currency": "Canadian Dollar"
                                },
                                {
                                    "Reseller": "Farthest Bike Store",
                                    "Country": "Canada",
                                    "Product_Category": "Bikes",
                                    "Total_Sales": "6246.8753",
                                    "Currency": "Canadian Dollar"
                                },
                                {
                                    "Reseller": "Excellent Bikes",
                                    "Country": "Germany",
                                    "Product_Category": "Bikes",
                                    "Total_Sales": "6246.8753",
                                    "Currency": "EURO"
                                },
                                {
                                    "Reseller": "Running and Cycling Gear",
                                    "Country": "United States",
                                    "Product_Category": "Bikes",
                                    "Total_Sales": "5678.9778",
                                    "Currency": "US Dollar"
                                },
                                {
                                    "Reseller": "Amalgamated Parts Shop",
                                    "Country": "Germany",
                                    "Product_Category": "Bikes",
                                    "Total_Sales": "5395.0287",
                                    "Currency": "EURO"
                                },
                                {
                                    "Reseller": "Gears and Parts Company",
                                    "Country": "Australia",
                                    "Product_Category": "Bikes",
                                    "Total_Sales": "5111.0799",
                                    "Currency": "Australian Dollar"
                                },
                                {
                                    "Reseller": "Rugged Bikes",
                                    "Country": "United States",
                                    "Product_Category": "Bikes",
                                    "Total_Sales": "5111.0798",
                                    "Currency": "US Dollar"
                                },
                                {
                                    "Reseller": "Eighth Bike Store",
                                    "Country": "United States",
                                    "Product_Category": "Bikes",
                                    "Total_Sales": "4827.1311",
                                    "Currency": "US Dollar"
                                },
                                {
                                    "Reseller": "Helmets and Cycles",
                                    "Country": "Australia",
                                    "Product_Category": "Bikes",
                                    "Total_Sales": "4827.131",
                                    "Currency": "Australian Dollar"
                                },
                                {
                                    "Reseller": "Odometers and Accessories Company",
                                    "Country": "Canada",
                                    "Product_Category": "Bikes",
                                    "Total_Sales": "4827.131",
                                    "Currency": "Canadian Dollar"
                                },
                                {
                                    "Reseller": "Educational Services",
                                    "Country": "Germany",
                                    "Product_Category": "Bikes",
                                    "Total_Sales": "4543.1822",
                                    "Currency": "EURO"
                                },
                                {
                                    "Reseller": "Sleek Bikes",
                                    "Country": "United States",
                                    "Product_Category": "Bikes",
                                    "Total_Sales": "4543.1821",
                                    "Currency": "US Dollar"
                                },
                                {
                                    "Reseller": "Immense Manufacturing Company",
                                    "Country": "United States",
                                    "Product_Category": "Bikes",
                                    "Total_Sales": "4543.182",
                                    "Currency": "US Dollar"
                                },
                                {
                                    "Reseller": "Kickstands and Accessories Company",
                                    "Country": "United States",
                                    "Product_Category": "Bikes",
                                    "Total_Sales": "4259.2333",
                                    "Currency": "US Dollar"
                                },
                                {
                                    "Reseller": "Fourth Bike Store",
                                    "Country": "United States",
                                    "Product_Category": "Bikes",
                                    "Total_Sales": "4259.2333",
                                    "Currency": "US Dollar"
                                },
                                {
                                    "Reseller": "Mountain Bike Store",
                                    "Country": "United States",
                                    "Product_Category": "Bikes",
                                    "Total_Sales": "4259.2333",
                                    "Currency": "US Dollar"
                                },
                                {
                                    "Reseller": "Cycle Parts and Accessories",
                                    "Country": "Australia",
                                    "Product_Category": "Bikes",
                                    "Total_Sales": "3975.2845",
                                    "Currency": "Australian Dollar"
                                },
                                {
                                    "Reseller": "Blue-Ribbon Bike Company",
                                    "Country": "United States",
                                    "Product_Category": "Bikes",
                                    "Total_Sales": "3975.2844",
                                    "Currency": "US Dollar"
                                },
                                {
                                    "Reseller": "Quick Parts and Service",
                                    "Country": "Canada",
                                    "Product_Category": "Bikes",
                                    "Total_Sales": "3975.2844",
                                    "Currency": "Canadian Dollar"
                                },
                                {
                                    "Reseller": "The Bike Outlet",
                                    "Country": "France",
                                    "Product_Category": "Bikes",
                                    "Total_Sales": "3975.2844",
                                    "Currency": "US Dollar"
                                },
                                {
                                    "Reseller": "Industrial Supplies",
                                    "Country": "United States",
                                    "Product_Category": "Bikes",
                                    "Total_Sales": "3975.2843",
                                    "Currency": "US Dollar"
                                },
                                {
                                    "Reseller": "Authorized Bike Sales and Rental",
                                    "Country": "United States",
                                    "Product_Category": "Bikes",
                                    "Total_Sales": "3975.2842",
                                    "Currency": "US Dollar"
                                },
                                {
                                    "Reseller": "Bike Part Wholesalers",
                                    "Country": "Australia",
                                    "Product_Category": "Bikes",
                                    "Total_Sales": "3691.3355",
                                    "Currency": "Australian Dollar"
                                },
                                {
                                    "Reseller": "Fitness Supplies",
                                    "Country": "United States",
                                    "Product_Category": "Bikes",
                                    "Total_Sales": "3691.3355",
                                    "Currency": "US Dollar"
                                },
                                {
                                    "Reseller": "Exchange Parts Inc.",
                                    "Country": "United States",
                                    "Product_Category": "Bikes",
                                    "Total_Sales": "3691.3355",
                                    "Currency": "US Dollar"
                                },
                                {
                                    "Reseller": "Popular Bike Lines",
                                    "Country": "Australia",
                                    "Product_Category": "Bikes",
                                    "Total_Sales": "3691.3355",
                                    "Currency": "Australian Dollar"
                                },
                                {
                                    "Reseller": "Helpful Sales and Repair Service",
                                    "Country": "Australia",
                                    "Product_Category": "Bikes",
                                    "Total_Sales": "3691.3355",
                                    "Currency": "Australian Dollar"
                                },
                                {
                                    "Reseller": "Stock Parts and Supplies",
                                    "Country": "United States",
                                    "Product_Category": "Bikes",
                                    "Total_Sales": "3407.3866",
                                    "Currency": "US Dollar"
                                },
                                {
                                    "Reseller": "Variety Cycling",
                                    "Country": "United Kingdom",
                                    "Product_Category": "Bikes",
                                    "Total_Sales": "3123.4377",
                                    "Currency": "United Kingdom Pound"
                                },
                                {
                                    "Reseller": "Cycles Wholesaler & Mfg.",
                                    "Country": "United Kingdom",
                                    "Product_Category": "Bikes",
                                    "Total_Sales": "3123.4377",
                                    "Currency": "United Kingdom Pound"
                                },
                                {
                                    "Reseller": "Fast Bike Works",
                                    "Country": "Australia",
                                    "Product_Category": "Bikes",
                                    "Total_Sales": "3123.4376",
                                    "Currency": "Australian Dollar"
                                },
                                {
                                    "Reseller": "Fasteners & Bolts Outlet",
                                    "Country": "Canada",
                                    "Product_Category": "Bikes",
                                    "Total_Sales": "2839.4889",
                                    "Currency": "Canadian Dollar"
                                },
                                {
                                    "Reseller": "Locks Company",
                                    "Country": "United States",
                                    "Product_Category": "Bikes",
                                    "Total_Sales": "2839.4889",
                                    "Currency": "US Dollar"
                                },
                                {
                                    "Reseller": "Metal Clearing House",
                                    "Country": "Canada",
                                    "Product_Category": "Bikes",
                                    "Total_Sales": "2839.4889",
                                    "Currency": "Canadian Dollar"
                                },
                                {
                                    "Reseller": "Pedaling Components",
                                    "Country": "Germany",
                                    "Product_Category": "Bikes",
                                    "Total_Sales": "2555.5399",
                                    "Currency": "EURO"
                                },
                                {
                                    "Reseller": "Professional Sales and Service",
                                    "Country": "United States",
                                    "Product_Category": "Bikes",
                                    "Total_Sales": "2271.5912",
                                    "Currency": "US Dollar"
                                },
                                {
                                    "Reseller": "Fun Toys and Bikes",
                                    "Country": "United States",
                                    "Product_Category": "Bikes",
                                    "Total_Sales": "2271.5912",
                                    "Currency": "US Dollar"
                                },
                                {
                                    "Reseller": "Rich Department Store",
                                    "Country": "Australia",
                                    "Product_Category": "Bikes",
                                    "Total_Sales": "2271.591",
                                    "Currency": "Australian Dollar"
                                },
                                {
                                    "Reseller": "Small Bike Accessories Shop",
                                    "Country": "United States",
                                    "Product_Category": "Bikes",
                                    "Total_Sales": "1987.6423",
                                    "Currency": "US Dollar"
                                },
                                {
                                    "Reseller": "Sports Merchandise",
                                    "Country": "United States",
                                    "Product_Category": "Bikes",
                                    "Total_Sales": "1987.6422",
                                    "Currency": "US Dollar"
                                },
                                {
                                    "Reseller": "Honest Repair Service",
                                    "Country": "United States",
                                    "Product_Category": "Bikes",
                                    "Total_Sales": "1987.6422",
                                    "Currency": "US Dollar"
                                },
                                {
                                    "Reseller": "Liquidation Sales",
                                    "Country": "Australia",
                                    "Product_Category": "Bikes",
                                    "Total_Sales": "1703.6934",
                                    "Currency": "Australian Dollar"
                                },
                                {
                                    "Reseller": "Racing Supply Distributors",
                                    "Country": "France",
                                    "Product_Category": "Bikes",
                                    "Total_Sales": "1703.6934",
                                    "Currency": "US Dollar"
                                },
                                {
                                    "Reseller": "South Bike Company",
                                    "Country": "Canada",
                                    "Product_Category": "Bikes",
                                    "Total_Sales": "1703.6933",
                                    "Currency": "Canadian Dollar"
                                },
                                {
                                    "Reseller": "Quitting Business Distributors",
                                    "Country": "United States",
                                    "Product_Category": "Bikes",
                                    "Total_Sales": "1419.7445",
                                    "Currency": "US Dollar"
                                },
                                {
                                    "Reseller": "Thrilling Bike Tours",
                                    "Country": "United States",
                                    "Product_Category": "Bikes",
                                    "Total_Sales": "1419.7445",
                                    "Currency": "US Dollar"
                                },
                                {
                                    "Reseller": "Machines & Cycles Store",
                                    "Country": "Canada",
                                    "Product_Category": "Bikes",
                                    "Total_Sales": "1419.7445",
                                    "Currency": "Canadian Dollar"
                                },
                                {
                                    "Reseller": "Finer Sporting Goods",
                                    "Country": "France",
                                    "Product_Category": "Bikes",
                                    "Total_Sales": "1419.7445",
                                    "Currency": "US Dollar"
                                },
                                {
                                    "Reseller": "First Supplies",
                                    "Country": "Australia",
                                    "Product_Category": "Bikes",
                                    "Total_Sales": "1419.7445",
                                    "Currency": "Australian Dollar"
                                },
                                {
                                    "Reseller": "Engineered Bike Systems",
                                    "Country": "United States",
                                    "Product_Category": "Bikes",
                                    "Total_Sales": "1135.7956",
                                    "Currency": "US Dollar"
                                },
                                {
                                    "Reseller": "Cycles Sales and Repair",
                                    "Country": "France",
                                    "Product_Category": "Bikes",
                                    "Total_Sales": "1135.7956",
                                    "Currency": "US Dollar"
                                },
                                {
                                    "Reseller": "Bicycle Exporters",
                                    "Country": "Germany",
                                    "Product_Category": "Bikes",
                                    "Total_Sales": "1135.7956",
                                    "Currency": "EURO"
                                },
                                {
                                    "Reseller": "Novelty Bikes",
                                    "Country": "United States",
                                    "Product_Category": "Bikes",
                                    "Total_Sales": "1135.7956",
                                    "Currency": "US Dollar"
                                },
                                {
                                    "Reseller": "Systematic Sales",
                                    "Country": "United States",
                                    "Product_Category": "Bikes",
                                    "Total_Sales": "1135.7956",
                                    "Currency": "US Dollar"
                                },
                                {
                                    "Reseller": "Plastic Products Manufacturers",
                                    "Country": "Australia",
                                    "Product_Category": "Bikes",
                                    "Total_Sales": "1135.7956",
                                    "Currency": "Australian Dollar"
                                },
                                {
                                    "Reseller": "Finer Mart",
                                    "Country": "United States",
                                    "Product_Category": "Bikes",
                                    "Total_Sales": "1135.7955",
                                    "Currency": "US Dollar"
                                },
                                {
                                    "Reseller": "Exemplary Cycles",
                                    "Country": "United States",
                                    "Product_Category": "Bikes",
                                    "Total_Sales": "851.8467",
                                    "Currency": "US Dollar"
                                },
                                {
                                    "Reseller": "Paints and Solvents Company",
                                    "Country": "United States",
                                    "Product_Category": "Bikes",
                                    "Total_Sales": "851.8467",
                                    "Currency": "US Dollar"
                                },
                                {
                                    "Reseller": "West Wind Distributors",
                                    "Country": "Germany",
                                    "Product_Category": "Bikes",
                                    "Total_Sales": "851.8467",
                                    "Currency": "EURO"
                                },
                                {
                                    "Reseller": "Efficient Cycling",
                                    "Country": "Canada",
                                    "Product_Category": "Bikes",
                                    "Total_Sales": "851.8466",
                                    "Currency": "Canadian Dollar"
                                },
                                {
                                    "Reseller": "Purchase Mart",
                                    "Country": "United States",
                                    "Product_Category": "Bikes",
                                    "Total_Sales": "567.8978",
                                    "Currency": "US Dollar"
                                },
                                {
                                    "Reseller": "Quality Bike Sales",
                                    "Country": "Australia",
                                    "Product_Category": "Bikes",
                                    "Total_Sales": "567.8978",
                                    "Currency": "Australian Dollar"
                                },
                                {
                                    "Reseller": "List Price Catalog Company",
                                    "Country": "Australia",
                                    "Product_Category": "Bikes",
                                    "Total_Sales": "567.8978",
                                    "Currency": "Australian Dollar"
                                },
                                {
                                    "Reseller": "Rural Department Store",
                                    "Country": "United States",
                                    "Product_Category": "Bikes",
                                    "Total_Sales": "567.8978",
                                    "Currency": "US Dollar"
                                },
                                {
                                    "Reseller": "Rustic Bike Store",
                                    "Country": "Germany",
                                    "Product_Category": "Bikes",
                                    "Total_Sales": "283.9489",
                                    "Currency": "EURO"
                                },
                                {
                                    "Reseller": "Sensible Sports",
                                    "Country": "Australia",
                                    "Product_Category": "Bikes",
                                    "Total_Sales": "283.9489",
                                    "Currency": "Australian Dollar"
                                },
                                {
                                    "Reseller": "Rampart Amusement Company",
                                    "Country": "United Kingdom",
                                    "Product_Category": "Bikes",
                                    "Total_Sales": "283.9489",
                                    "Currency": "United Kingdom Pound"
                                },
                                {
                                    "Reseller": "Vale Riding Supplies",
                                    "Country": "United States",
                                    "Product_Category": "Bikes",
                                    "Total_Sales": "283.9489",
                                    "Currency": "US Dollar"
                                },
                                {
                                    "Reseller": "Transport Bikes",
                                    "Country": "United States",
                                    "Product_Category": "Bikes",
                                    "Total_Sales": "283.9489",
                                    "Currency": "US Dollar"
                                },
                                {
                                    "Reseller": "Incomparable Bicycle Store",
                                    "Country": "United States",
                                    "Product_Category": "Bikes",
                                    "Total_Sales": "283.9489",
                                    "Currency": "US Dollar"
                                },
                                {
                                    "Reseller": "Off-Price Bike Center",
                                    "Country": "Germany",
                                    "Product_Category": "Bikes",
                                    "Total_Sales": "283.9489",
                                    "Currency": "EURO"
                                },
                                {
                                    "Reseller": "Eastside Cycle Shop",
                                    "Country": "Australia",
                                    "Product_Category": "Bikes",
                                    "Total_Sales": "283.9489",
                                    "Currency": "Australian Dollar"
                                },
                                {
                                    "Reseller": "Eastward Bike Accessories",
                                    "Country": "Australia",
                                    "Product_Category": "Bikes",
                                    "Total_Sales": "283.9489",
                                    "Currency": "Australian Dollar"
                                },
                                {
                                    "Reseller": "Cycle Clearance",
                                    "Country": "United States",
                                    "Product_Category": "Bikes",
                                    "Total_Sales": "283.9489",
                                    "Currency": "US Dollar"
                                },
                                {
                                    "Reseller": "Accessories Network",
                                    "Country": "France",
                                    "Product_Category": "Bikes",
                                    "Total_Sales": "283.9489",
                                    "Currency": "US Dollar"
                                },
                                {
                                    "Reseller": "Family Entertainment Center",
                                    "Country": "United States",
                                    "Product_Category": "Bikes",
                                    "Total_Sales": "283.9489",
                                    "Currency": "US Dollar"
                                },
                                {
                                    "Reseller": "Fitness Bike Accessories",
                                    "Country": "Australia",
                                    "Product_Category": "Bikes",
                                    "Total_Sales": "283.9489",
                                    "Currency": "Australian Dollar"
                                },
                                {
                                    "Reseller": "Fitness Discount Store",
                                    "Country": "Australia",
                                    "Product_Category": "Bikes",
                                    "Total_Sales": "283.9489",
                                    "Currency": "Australian Dollar"
                                }
                            ]
                        },
                        "text/html": [
                            "<table>",
                            "<tr><th>Reseller</th><th>Country</th><th>Product_Category</th><th>Total_Sales</th><th>Currency</th></tr>",
                            "<tr><td>Action Bicycle Specialists</td><td>United Kingdom</td><td>Bikes</td><td>19024.5748</td><td>United Kingdom Pound</td></tr>",
                            "<tr><td>Westside Plaza</td><td>United States</td><td>Bikes</td><td>19024.5746</td><td>US Dollar</td></tr>",
                            "<tr><td>Camping and Sports Store</td><td>Canada</td><td>Bikes</td><td>17320.8815</td><td>Canadian Dollar</td></tr>",
                            "<tr><td>Global Bike Retailers</td><td>Germany</td><td>Bikes</td><td>16752.9838</td><td>EURO</td></tr>",
                            "<tr><td>Perfect Toys</td><td>France</td><td>Bikes</td><td>15333.2394</td><td>US Dollar</td></tr>",
                            "<tr><td>Roadway Bicycle Supply</td><td>France</td><td>Bikes</td><td>14481.3929</td><td>US Dollar</td></tr>",
                            "<tr><td>Rally Master Company Inc</td><td>United States</td><td>Bikes</td><td>13913.495</td><td>US Dollar</td></tr>",
                            "<tr><td>Best Cycle Store</td><td>Germany</td><td>Bikes</td><td>12493.7506</td><td>EURO</td></tr>",
                            "<tr><td>Front Runner Bikes</td><td>United States</td><td>Bikes</td><td>11641.9039</td><td>US Dollar</td></tr>",
                            "<tr><td>Favorite Toy Distributor</td><td>France</td><td>Bikes</td><td>10506.1085</td><td>EURO</td></tr>",
                            "<tr><td>Glossy Bikes</td><td>United States</td><td>Bikes</td><td>9086.3642</td><td>US Dollar</td></tr>",
                            "<tr><td>Outstanding Cycles</td><td>United States</td><td>Bikes</td><td>9086.3641</td><td>US Dollar</td></tr>",
                            "<tr><td>Another Bicycle Company</td><td>United States</td><td>Bikes</td><td>8518.4665</td><td>US Dollar</td></tr>",
                            "<tr><td>Vintage Sport Boutique</td><td>United States</td><td>Bikes</td><td>8518.4665</td><td>US Dollar</td></tr>",
                            "<tr><td>Technical Parts Manufacturing</td><td>United States</td><td>Bikes</td><td>8518.4665</td><td>US Dollar</td></tr>",
                            "<tr><td>Instruments and Parts Company</td><td>United Kingdom</td><td>Bikes</td><td>7950.5687</td><td>United Kingdom Pound</td></tr>",
                            "<tr><td>Metro Metals Co.</td><td>United Kingdom</td><td>Bikes</td><td>7666.6198</td><td>United Kingdom Pound</td></tr>",
                            "<tr><td>Extreme Riding Supplies</td><td>United States</td><td>Bikes</td><td>7666.6196</td><td>US Dollar</td></tr>",
                            "<tr><td>Next Door Cycles</td><td>Germany</td><td>Bikes</td><td>7382.671</td><td>EURO</td></tr>",
                            "<tr><td>Nationwide Supply</td><td>Australia</td><td>Bikes</td><td>7382.6709</td><td>Australian Dollar</td></tr>",
                            "<tr><td>Petroleum Products Distributors</td><td>Canada</td><td>Bikes</td><td>7098.722</td><td>Canadian Dollar</td></tr>",
                            "<tr><td>Roadway Bike Emporium</td><td>United States</td><td>Bikes</td><td>7098.7219</td><td>US Dollar</td></tr>",
                            "<tr><td>Utilitarian Sporting Goods</td><td>United States</td><td>Bikes</td><td>6814.7731</td><td>US Dollar</td></tr>",
                            "<tr><td>Grand Industries</td><td>Canada</td><td>Bikes</td><td>6530.8242</td><td>Canadian Dollar</td></tr>",
                            "<tr><td>Farthest Bike Store</td><td>Canada</td><td>Bikes</td><td>6246.8753</td><td>Canadian Dollar</td></tr>",
                            "<tr><td>Excellent Bikes</td><td>Germany</td><td>Bikes</td><td>6246.8753</td><td>EURO</td></tr>",
                            "<tr><td>Running and Cycling Gear</td><td>United States</td><td>Bikes</td><td>5678.9778</td><td>US Dollar</td></tr>",
                            "<tr><td>Amalgamated Parts Shop</td><td>Germany</td><td>Bikes</td><td>5395.0287</td><td>EURO</td></tr>",
                            "<tr><td>Gears and Parts Company</td><td>Australia</td><td>Bikes</td><td>5111.0799</td><td>Australian Dollar</td></tr>",
                            "<tr><td>Rugged Bikes</td><td>United States</td><td>Bikes</td><td>5111.0798</td><td>US Dollar</td></tr>",
                            "<tr><td>Eighth Bike Store</td><td>United States</td><td>Bikes</td><td>4827.1311</td><td>US Dollar</td></tr>",
                            "<tr><td>Helmets and Cycles</td><td>Australia</td><td>Bikes</td><td>4827.131</td><td>Australian Dollar</td></tr>",
                            "<tr><td>Odometers and Accessories Company</td><td>Canada</td><td>Bikes</td><td>4827.131</td><td>Canadian Dollar</td></tr>",
                            "<tr><td>Educational Services</td><td>Germany</td><td>Bikes</td><td>4543.1822</td><td>EURO</td></tr>",
                            "<tr><td>Sleek Bikes</td><td>United States</td><td>Bikes</td><td>4543.1821</td><td>US Dollar</td></tr>",
                            "<tr><td>Immense Manufacturing Company</td><td>United States</td><td>Bikes</td><td>4543.182</td><td>US Dollar</td></tr>",
                            "<tr><td>Kickstands and Accessories Company</td><td>United States</td><td>Bikes</td><td>4259.2333</td><td>US Dollar</td></tr>",
                            "<tr><td>Fourth Bike Store</td><td>United States</td><td>Bikes</td><td>4259.2333</td><td>US Dollar</td></tr>",
                            "<tr><td>Mountain Bike Store</td><td>United States</td><td>Bikes</td><td>4259.2333</td><td>US Dollar</td></tr>",
                            "<tr><td>Cycle Parts and Accessories</td><td>Australia</td><td>Bikes</td><td>3975.2845</td><td>Australian Dollar</td></tr>",
                            "<tr><td>Blue-Ribbon Bike Company</td><td>United States</td><td>Bikes</td><td>3975.2844</td><td>US Dollar</td></tr>",
                            "<tr><td>Quick Parts and Service</td><td>Canada</td><td>Bikes</td><td>3975.2844</td><td>Canadian Dollar</td></tr>",
                            "<tr><td>The Bike Outlet</td><td>France</td><td>Bikes</td><td>3975.2844</td><td>US Dollar</td></tr>",
                            "<tr><td>Industrial Supplies</td><td>United States</td><td>Bikes</td><td>3975.2843</td><td>US Dollar</td></tr>",
                            "<tr><td>Authorized Bike Sales and Rental</td><td>United States</td><td>Bikes</td><td>3975.2842</td><td>US Dollar</td></tr>",
                            "<tr><td>Bike Part Wholesalers</td><td>Australia</td><td>Bikes</td><td>3691.3355</td><td>Australian Dollar</td></tr>",
                            "<tr><td>Fitness Supplies</td><td>United States</td><td>Bikes</td><td>3691.3355</td><td>US Dollar</td></tr>",
                            "<tr><td>Exchange Parts Inc.</td><td>United States</td><td>Bikes</td><td>3691.3355</td><td>US Dollar</td></tr>",
                            "<tr><td>Popular Bike Lines</td><td>Australia</td><td>Bikes</td><td>3691.3355</td><td>Australian Dollar</td></tr>",
                            "<tr><td>Helpful Sales and Repair Service</td><td>Australia</td><td>Bikes</td><td>3691.3355</td><td>Australian Dollar</td></tr>",
                            "<tr><td>Stock Parts and Supplies</td><td>United States</td><td>Bikes</td><td>3407.3866</td><td>US Dollar</td></tr>",
                            "<tr><td>Variety Cycling</td><td>United Kingdom</td><td>Bikes</td><td>3123.4377</td><td>United Kingdom Pound</td></tr>",
                            "<tr><td>Cycles Wholesaler &amp; Mfg.</td><td>United Kingdom</td><td>Bikes</td><td>3123.4377</td><td>United Kingdom Pound</td></tr>",
                            "<tr><td>Fast Bike Works</td><td>Australia</td><td>Bikes</td><td>3123.4376</td><td>Australian Dollar</td></tr>",
                            "<tr><td>Fasteners &amp; Bolts Outlet</td><td>Canada</td><td>Bikes</td><td>2839.4889</td><td>Canadian Dollar</td></tr>",
                            "<tr><td>Locks Company</td><td>United States</td><td>Bikes</td><td>2839.4889</td><td>US Dollar</td></tr>",
                            "<tr><td>Metal Clearing House</td><td>Canada</td><td>Bikes</td><td>2839.4889</td><td>Canadian Dollar</td></tr>",
                            "<tr><td>Pedaling Components</td><td>Germany</td><td>Bikes</td><td>2555.5399</td><td>EURO</td></tr>",
                            "<tr><td>Professional Sales and Service</td><td>United States</td><td>Bikes</td><td>2271.5912</td><td>US Dollar</td></tr>",
                            "<tr><td>Fun Toys and Bikes</td><td>United States</td><td>Bikes</td><td>2271.5912</td><td>US Dollar</td></tr>",
                            "<tr><td>Rich Department Store</td><td>Australia</td><td>Bikes</td><td>2271.591</td><td>Australian Dollar</td></tr>",
                            "<tr><td>Small Bike Accessories Shop</td><td>United States</td><td>Bikes</td><td>1987.6423</td><td>US Dollar</td></tr>",
                            "<tr><td>Sports Merchandise</td><td>United States</td><td>Bikes</td><td>1987.6422</td><td>US Dollar</td></tr>",
                            "<tr><td>Honest Repair Service</td><td>United States</td><td>Bikes</td><td>1987.6422</td><td>US Dollar</td></tr>",
                            "<tr><td>Liquidation Sales</td><td>Australia</td><td>Bikes</td><td>1703.6934</td><td>Australian Dollar</td></tr>",
                            "<tr><td>Racing Supply Distributors</td><td>France</td><td>Bikes</td><td>1703.6934</td><td>US Dollar</td></tr>",
                            "<tr><td>South Bike Company</td><td>Canada</td><td>Bikes</td><td>1703.6933</td><td>Canadian Dollar</td></tr>",
                            "<tr><td>Quitting Business Distributors</td><td>United States</td><td>Bikes</td><td>1419.7445</td><td>US Dollar</td></tr>",
                            "<tr><td>Thrilling Bike Tours</td><td>United States</td><td>Bikes</td><td>1419.7445</td><td>US Dollar</td></tr>",
                            "<tr><td>Machines &amp; Cycles Store</td><td>Canada</td><td>Bikes</td><td>1419.7445</td><td>Canadian Dollar</td></tr>",
                            "<tr><td>Finer Sporting Goods</td><td>France</td><td>Bikes</td><td>1419.7445</td><td>US Dollar</td></tr>",
                            "<tr><td>First Supplies</td><td>Australia</td><td>Bikes</td><td>1419.7445</td><td>Australian Dollar</td></tr>",
                            "<tr><td>Engineered Bike Systems</td><td>United States</td><td>Bikes</td><td>1135.7956</td><td>US Dollar</td></tr>",
                            "<tr><td>Cycles Sales and Repair</td><td>France</td><td>Bikes</td><td>1135.7956</td><td>US Dollar</td></tr>",
                            "<tr><td>Bicycle Exporters</td><td>Germany</td><td>Bikes</td><td>1135.7956</td><td>EURO</td></tr>",
                            "<tr><td>Novelty Bikes</td><td>United States</td><td>Bikes</td><td>1135.7956</td><td>US Dollar</td></tr>",
                            "<tr><td>Systematic Sales</td><td>United States</td><td>Bikes</td><td>1135.7956</td><td>US Dollar</td></tr>",
                            "<tr><td>Plastic Products Manufacturers</td><td>Australia</td><td>Bikes</td><td>1135.7956</td><td>Australian Dollar</td></tr>",
                            "<tr><td>Finer Mart</td><td>United States</td><td>Bikes</td><td>1135.7955</td><td>US Dollar</td></tr>",
                            "<tr><td>Exemplary Cycles</td><td>United States</td><td>Bikes</td><td>851.8467</td><td>US Dollar</td></tr>",
                            "<tr><td>Paints and Solvents Company</td><td>United States</td><td>Bikes</td><td>851.8467</td><td>US Dollar</td></tr>",
                            "<tr><td>West Wind Distributors</td><td>Germany</td><td>Bikes</td><td>851.8467</td><td>EURO</td></tr>",
                            "<tr><td>Efficient Cycling</td><td>Canada</td><td>Bikes</td><td>851.8466</td><td>Canadian Dollar</td></tr>",
                            "<tr><td>Purchase Mart</td><td>United States</td><td>Bikes</td><td>567.8978</td><td>US Dollar</td></tr>",
                            "<tr><td>Quality Bike Sales</td><td>Australia</td><td>Bikes</td><td>567.8978</td><td>Australian Dollar</td></tr>",
                            "<tr><td>List Price Catalog Company</td><td>Australia</td><td>Bikes</td><td>567.8978</td><td>Australian Dollar</td></tr>",
                            "<tr><td>Rural Department Store</td><td>United States</td><td>Bikes</td><td>567.8978</td><td>US Dollar</td></tr>",
                            "<tr><td>Rustic Bike Store</td><td>Germany</td><td>Bikes</td><td>283.9489</td><td>EURO</td></tr>",
                            "<tr><td>Sensible Sports</td><td>Australia</td><td>Bikes</td><td>283.9489</td><td>Australian Dollar</td></tr>",
                            "<tr><td>Rampart Amusement Company</td><td>United Kingdom</td><td>Bikes</td><td>283.9489</td><td>United Kingdom Pound</td></tr>",
                            "<tr><td>Vale Riding Supplies</td><td>United States</td><td>Bikes</td><td>283.9489</td><td>US Dollar</td></tr>",
                            "<tr><td>Transport Bikes</td><td>United States</td><td>Bikes</td><td>283.9489</td><td>US Dollar</td></tr>",
                            "<tr><td>Incomparable Bicycle Store</td><td>United States</td><td>Bikes</td><td>283.9489</td><td>US Dollar</td></tr>",
                            "<tr><td>Off-Price Bike Center</td><td>Germany</td><td>Bikes</td><td>283.9489</td><td>EURO</td></tr>",
                            "<tr><td>Eastside Cycle Shop</td><td>Australia</td><td>Bikes</td><td>283.9489</td><td>Australian Dollar</td></tr>",
                            "<tr><td>Eastward Bike Accessories</td><td>Australia</td><td>Bikes</td><td>283.9489</td><td>Australian Dollar</td></tr>",
                            "<tr><td>Cycle Clearance</td><td>United States</td><td>Bikes</td><td>283.9489</td><td>US Dollar</td></tr>",
                            "<tr><td>Accessories Network</td><td>France</td><td>Bikes</td><td>283.9489</td><td>US Dollar</td></tr>",
                            "<tr><td>Family Entertainment Center</td><td>United States</td><td>Bikes</td><td>283.9489</td><td>US Dollar</td></tr>",
                            "<tr><td>Fitness Bike Accessories</td><td>Australia</td><td>Bikes</td><td>283.9489</td><td>Australian Dollar</td></tr>",
                            "<tr><td>Fitness Discount Store</td><td>Australia</td><td>Bikes</td><td>283.9489</td><td>Australian Dollar</td></tr>",
                            "</table>"
                        ]
                    }
                }
            ],
            "execution_count": 37
        },
        {
            "cell_type": "markdown",
            "source": [
                "Problem 2\n",
                "\n",
                "You have been asked to examine the performance of sales using the Euro currency.  Produce a report showing state or province name, city name, and total reseller sales, subtotaled by city, <span style=\"color: var(--vscode-foreground);\">for all EURO sales.&nbsp; You should have three columns, called State/Province, City, and Total Reseller Sales, in alphabetical order by State/Province.&nbsp; The total for each state or province should have the word \"Total\" instead of NULL in the city column.&nbsp; The overall total should have the word \"Grand\" in the State/Province column.</span>"
            ],
            "metadata": {
                "language": "sql",
                "azdata_cell_guid": "8f1962b4-9a4c-4ca4-9976-6c0233060144"
            },
            "attachments": {}
        },
        {
            "cell_type": "code",
            "source": [
                "SELECT\r\n",
                "CASE WHEN g.StateProvinceName IS NULL \r\n",
                "THEN 'Grand' \r\n",
                "ELSE g.StateProvinceName\r\n",
                "END AS 'State/Province',\r\n",
                "CASE WHEN g.City IS NULL \r\n",
                "THEN 'Total' \r\n",
                "ELSE g.City\r\n",
                "END AS City,\r\n",
                "SUM(rs.SalesAmount) AS Total_Reseller_Sales\r\n",
                "FROM\r\n",
                "dbo.DimGeography g\r\n",
                "INNER JOIN\r\n",
                "dbo.DimReseller r\r\n",
                "ON \r\n",
                "r.GeographyKey = g.GeographyKey\r\n",
                "INNER JOIN\r\n",
                "dbo.FactResellerSales rs\r\n",
                "ON \r\n",
                "rs.ResellerKey = r.ResellerKey\r\n",
                "INNER JOIN\r\n",
                "dbo.DimCurrency c\r\n",
                "ON\r\n",
                "rs.CurrencyKey = c.CurrencyKey\r\n",
                "WHERE c.CurrencyName = 'EURO'\r\n",
                "GROUP BY ROLLUP(g.StateProvinceName, g.City)\r\n",
                "ORDER BY [State/Province], City"
            ],
            "metadata": {
                "language": "sql",
                "azdata_cell_guid": "2ad357da-4851-4c8d-985f-ac7360312bea"
            },
            "outputs": [
                {
                    "output_type": "display_data",
                    "data": {
                        "text/html": "(46 rows affected)"
                    },
                    "metadata": {}
                },
                {
                    "output_type": "display_data",
                    "data": {
                        "text/html": "Total execution time: 00:00:00.066"
                    },
                    "metadata": {}
                },
                {
                    "output_type": "execute_result",
                    "metadata": {},
                    "execution_count": 24,
                    "data": {
                        "application/vnd.dataresource+json": {
                            "schema": {
                                "fields": [
                                    {
                                        "name": "State/Province"
                                    },
                                    {
                                        "name": "City"
                                    },
                                    {
                                        "name": "Total_Reseller_Sales"
                                    }
                                ]
                            },
                            "data": [
                                {
                                    "State/Province": "Bayern",
                                    "City": "Augsburg",
                                    "Total_Reseller_Sales": "3192.3709"
                                },
                                {
                                    "State/Province": "Bayern",
                                    "City": "Frankfurt",
                                    "Total_Reseller_Sales": "12795.432"
                                },
                                {
                                    "State/Province": "Bayern",
                                    "City": "Grevenbroich",
                                    "Total_Reseller_Sales": "186217.0681"
                                },
                                {
                                    "State/Province": "Bayern",
                                    "City": "Total",
                                    "Total_Reseller_Sales": "202204.871"
                                },
                                {
                                    "State/Province": "Brandenburg",
                                    "City": "Berlin",
                                    "Total_Reseller_Sales": "144.00"
                                },
                                {
                                    "State/Province": "Brandenburg",
                                    "City": "Eilenburg",
                                    "Total_Reseller_Sales": "116553.24"
                                },
                                {
                                    "State/Province": "Brandenburg",
                                    "City": "Total",
                                    "Total_Reseller_Sales": "116697.24"
                                },
                                {
                                    "State/Province": "Grand",
                                    "City": "Total",
                                    "Total_Reseller_Sales": "2474535.7092"
                                },
                                {
                                    "State/Province": "Hamburg",
                                    "City": "Augsburg",
                                    "Total_Reseller_Sales": "5404.2048"
                                },
                                {
                                    "State/Province": "Hamburg",
                                    "City": "Berlin",
                                    "Total_Reseller_Sales": "4689.126"
                                },
                                {
                                    "State/Province": "Hamburg",
                                    "City": "Essen",
                                    "Total_Reseller_Sales": "30648.094"
                                },
                                {
                                    "State/Province": "Hamburg",
                                    "City": "Frankfurt am Main",
                                    "Total_Reseller_Sales": "197327.5854"
                                },
                                {
                                    "State/Province": "Hamburg",
                                    "City": "Hamburg",
                                    "Total_Reseller_Sales": "7963.932"
                                },
                                {
                                    "State/Province": "Hamburg",
                                    "City": "Muehlheim",
                                    "Total_Reseller_Sales": "22090.0415"
                                },
                                {
                                    "State/Province": "Hamburg",
                                    "City": "Paderborn",
                                    "Total_Reseller_Sales": "3372.3384"
                                },
                                {
                                    "State/Province": "Hamburg",
                                    "City": "Total",
                                    "Total_Reseller_Sales": "271495.3221"
                                },
                                {
                                    "State/Province": "Hauts de Seine",
                                    "City": "Colombes",
                                    "Total_Reseller_Sales": "147554.8323"
                                },
                                {
                                    "State/Province": "Hauts de Seine",
                                    "City": "Suresnes",
                                    "Total_Reseller_Sales": "26980.5748"
                                },
                                {
                                    "State/Province": "Hauts de Seine",
                                    "City": "Total",
                                    "Total_Reseller_Sales": "174535.4071"
                                },
                                {
                                    "State/Province": "Hessen",
                                    "City": "Bad Soden",
                                    "Total_Reseller_Sales": "337756.7319"
                                },
                                {
                                    "State/Province": "Hessen",
                                    "City": "Berlin",
                                    "Total_Reseller_Sales": "3372.4549"
                                },
                                {
                                    "State/Province": "Hessen",
                                    "City": "Duesseldorf",
                                    "Total_Reseller_Sales": "12240.162"
                                },
                                {
                                    "State/Province": "Hessen",
                                    "City": "München",
                                    "Total_Reseller_Sales": "8582.946"
                                },
                                {
                                    "State/Province": "Hessen",
                                    "City": "Total",
                                    "Total_Reseller_Sales": "361952.2948"
                                },
                                {
                                    "State/Province": "Nordrhein-Westfalen",
                                    "City": "Berlin",
                                    "Total_Reseller_Sales": "26427.372"
                                },
                                {
                                    "State/Province": "Nordrhein-Westfalen",
                                    "City": "Braunschweig",
                                    "Total_Reseller_Sales": "8140.752"
                                },
                                {
                                    "State/Province": "Nordrhein-Westfalen",
                                    "City": "Hannover",
                                    "Total_Reseller_Sales": "29218.3575"
                                },
                                {
                                    "State/Province": "Nordrhein-Westfalen",
                                    "City": "Leipzig",
                                    "Total_Reseller_Sales": "6369.00"
                                },
                                {
                                    "State/Province": "Nordrhein-Westfalen",
                                    "City": "München",
                                    "Total_Reseller_Sales": "153764.3535"
                                },
                                {
                                    "State/Province": "Nordrhein-Westfalen",
                                    "City": "Total",
                                    "Total_Reseller_Sales": "223919.835"
                                },
                                {
                                    "State/Province": "Saarland",
                                    "City": "Berlin",
                                    "Total_Reseller_Sales": "220496.689"
                                },
                                {
                                    "State/Province": "Saarland",
                                    "City": "Frankfurt am Main",
                                    "Total_Reseller_Sales": "5426.7938"
                                },
                                {
                                    "State/Province": "Saarland",
                                    "City": "Kiel",
                                    "Total_Reseller_Sales": "56130.0691"
                                },
                                {
                                    "State/Province": "Saarland",
                                    "City": "Münster",
                                    "Total_Reseller_Sales": "132143.7064"
                                },
                                {
                                    "State/Province": "Saarland",
                                    "City": "Offenbach",
                                    "Total_Reseller_Sales": "272052.2258"
                                },
                                {
                                    "State/Province": "Saarland",
                                    "City": "Poing",
                                    "Total_Reseller_Sales": "1344.588"
                                },
                                {
                                    "State/Province": "Saarland",
                                    "City": "Saarbrücken",
                                    "Total_Reseller_Sales": "117328.4563"
                                },
                                {
                                    "State/Province": "Saarland",
                                    "City": "Stuttgart",
                                    "Total_Reseller_Sales": "228.582"
                                },
                                {
                                    "State/Province": "Saarland",
                                    "City": "Sulzbach Taunus",
                                    "Total_Reseller_Sales": "2567.364"
                                },
                                {
                                    "State/Province": "Saarland",
                                    "City": "Total",
                                    "Total_Reseller_Sales": "807718.4744"
                                },
                                {
                                    "State/Province": "Seine (Paris)",
                                    "City": "Paris",
                                    "Total_Reseller_Sales": "287495.0167"
                                },
                                {
                                    "State/Province": "Seine (Paris)",
                                    "City": "Total",
                                    "Total_Reseller_Sales": "287495.0167"
                                },
                                {
                                    "State/Province": "Seine et Marne",
                                    "City": "Lieusaint",
                                    "Total_Reseller_Sales": "31.584"
                                },
                                {
                                    "State/Province": "Seine et Marne",
                                    "City": "Total",
                                    "Total_Reseller_Sales": "31.584"
                                },
                                {
                                    "State/Province": "Val de Marne",
                                    "City": "Orly",
                                    "Total_Reseller_Sales": "28485.6641"
                                },
                                {
                                    "State/Province": "Val de Marne",
                                    "City": "Total",
                                    "Total_Reseller_Sales": "28485.6641"
                                }
                            ]
                        },
                        "text/html": [
                            "<table>",
                            "<tr><th>State/Province</th><th>City</th><th>Total_Reseller_Sales</th></tr>",
                            "<tr><td>Bayern</td><td>Augsburg</td><td>3192.3709</td></tr>",
                            "<tr><td>Bayern</td><td>Frankfurt</td><td>12795.432</td></tr>",
                            "<tr><td>Bayern</td><td>Grevenbroich</td><td>186217.0681</td></tr>",
                            "<tr><td>Bayern</td><td>Total</td><td>202204.871</td></tr>",
                            "<tr><td>Brandenburg</td><td>Berlin</td><td>144.00</td></tr>",
                            "<tr><td>Brandenburg</td><td>Eilenburg</td><td>116553.24</td></tr>",
                            "<tr><td>Brandenburg</td><td>Total</td><td>116697.24</td></tr>",
                            "<tr><td>Grand</td><td>Total</td><td>2474535.7092</td></tr>",
                            "<tr><td>Hamburg</td><td>Augsburg</td><td>5404.2048</td></tr>",
                            "<tr><td>Hamburg</td><td>Berlin</td><td>4689.126</td></tr>",
                            "<tr><td>Hamburg</td><td>Essen</td><td>30648.094</td></tr>",
                            "<tr><td>Hamburg</td><td>Frankfurt am Main</td><td>197327.5854</td></tr>",
                            "<tr><td>Hamburg</td><td>Hamburg</td><td>7963.932</td></tr>",
                            "<tr><td>Hamburg</td><td>Muehlheim</td><td>22090.0415</td></tr>",
                            "<tr><td>Hamburg</td><td>Paderborn</td><td>3372.3384</td></tr>",
                            "<tr><td>Hamburg</td><td>Total</td><td>271495.3221</td></tr>",
                            "<tr><td>Hauts de Seine</td><td>Colombes</td><td>147554.8323</td></tr>",
                            "<tr><td>Hauts de Seine</td><td>Suresnes</td><td>26980.5748</td></tr>",
                            "<tr><td>Hauts de Seine</td><td>Total</td><td>174535.4071</td></tr>",
                            "<tr><td>Hessen</td><td>Bad Soden</td><td>337756.7319</td></tr>",
                            "<tr><td>Hessen</td><td>Berlin</td><td>3372.4549</td></tr>",
                            "<tr><td>Hessen</td><td>Duesseldorf</td><td>12240.162</td></tr>",
                            "<tr><td>Hessen</td><td>München</td><td>8582.946</td></tr>",
                            "<tr><td>Hessen</td><td>Total</td><td>361952.2948</td></tr>",
                            "<tr><td>Nordrhein-Westfalen</td><td>Berlin</td><td>26427.372</td></tr>",
                            "<tr><td>Nordrhein-Westfalen</td><td>Braunschweig</td><td>8140.752</td></tr>",
                            "<tr><td>Nordrhein-Westfalen</td><td>Hannover</td><td>29218.3575</td></tr>",
                            "<tr><td>Nordrhein-Westfalen</td><td>Leipzig</td><td>6369.00</td></tr>",
                            "<tr><td>Nordrhein-Westfalen</td><td>München</td><td>153764.3535</td></tr>",
                            "<tr><td>Nordrhein-Westfalen</td><td>Total</td><td>223919.835</td></tr>",
                            "<tr><td>Saarland</td><td>Berlin</td><td>220496.689</td></tr>",
                            "<tr><td>Saarland</td><td>Frankfurt am Main</td><td>5426.7938</td></tr>",
                            "<tr><td>Saarland</td><td>Kiel</td><td>56130.0691</td></tr>",
                            "<tr><td>Saarland</td><td>Münster</td><td>132143.7064</td></tr>",
                            "<tr><td>Saarland</td><td>Offenbach</td><td>272052.2258</td></tr>",
                            "<tr><td>Saarland</td><td>Poing</td><td>1344.588</td></tr>",
                            "<tr><td>Saarland</td><td>Saarbrücken</td><td>117328.4563</td></tr>",
                            "<tr><td>Saarland</td><td>Stuttgart</td><td>228.582</td></tr>",
                            "<tr><td>Saarland</td><td>Sulzbach Taunus</td><td>2567.364</td></tr>",
                            "<tr><td>Saarland</td><td>Total</td><td>807718.4744</td></tr>",
                            "<tr><td>Seine (Paris)</td><td>Paris</td><td>287495.0167</td></tr>",
                            "<tr><td>Seine (Paris)</td><td>Total</td><td>287495.0167</td></tr>",
                            "<tr><td>Seine et Marne</td><td>Lieusaint</td><td>31.584</td></tr>",
                            "<tr><td>Seine et Marne</td><td>Total</td><td>31.584</td></tr>",
                            "<tr><td>Val de Marne</td><td>Orly</td><td>28485.6641</td></tr>",
                            "<tr><td>Val de Marne</td><td>Total</td><td>28485.6641</td></tr>",
                            "</table>"
                        ]
                    }
                }
            ],
            "execution_count": 24
        },
        {
            "cell_type": "markdown",
            "source": [
                "Problem 3\n",
                "\n",
                "Produce a report that illustrates the total amount of reseller sales by currency.  Ensure that you\n",
                "\n",
                "show the greatest value first, and please round to two decimal places."
            ],
            "metadata": {
                "language": "sql",
                "azdata_cell_guid": "be1bd09a-e222-4441-86d5-99c2a1d24f36"
            },
            "attachments": {}
        },
        {
            "cell_type": "code",
            "source": [
                "SELECT \r\n",
                "c.CurrencyName AS Currency,\r\n",
                "SUM(ROUND(rs.SalesAmount, 2)) AS Total_Sales\r\n",
                "FROM\r\n",
                "dbo.FactResellerSales rs\r\n",
                "INNER JOIN\r\n",
                "dbo.DimCurrency c\r\n",
                "ON \r\n",
                "rs.CurrencyKey = c.CurrencyKey\r\n",
                "GROUP BY c.CurrencyName \r\n",
                "ORDER BY Total_Sales DESC"
            ],
            "metadata": {
                "language": "sql",
                "azdata_cell_guid": "0ace6693-903b-4675-a64d-29d83026b4e4",
                "tags": []
            },
            "outputs": [
                {
                    "output_type": "display_data",
                    "data": {
                        "text/html": "(5 rows affected)"
                    },
                    "metadata": {}
                },
                {
                    "output_type": "display_data",
                    "data": {
                        "text/html": "Total execution time: 00:00:00.246"
                    },
                    "metadata": {}
                },
                {
                    "output_type": "execute_result",
                    "metadata": {},
                    "execution_count": 59,
                    "data": {
                        "application/vnd.dataresource+json": {
                            "schema": {
                                "fields": [
                                    {
                                        "name": "Currency"
                                    },
                                    {
                                        "name": "Total_Sales"
                                    }
                                ]
                            },
                            "data": [
                                {
                                    "Currency": "US Dollar",
                                    "Total_Sales": "57724791.28"
                                },
                                {
                                    "Currency": "Canadian Dollar",
                                    "Total_Sales": "14377925.71"
                                },
                                {
                                    "Currency": "United Kingdom Pound",
                                    "Total_Sales": "4279008.89"
                                },
                                {
                                    "Currency": "EURO",
                                    "Total_Sales": "2474535.38"
                                },
                                {
                                    "Currency": "Australian Dollar",
                                    "Total_Sales": "1594334.85"
                                }
                            ]
                        },
                        "text/html": [
                            "<table>",
                            "<tr><th>Currency</th><th>Total_Sales</th></tr>",
                            "<tr><td>US Dollar</td><td>57724791.28</td></tr>",
                            "<tr><td>Canadian Dollar</td><td>14377925.71</td></tr>",
                            "<tr><td>United Kingdom Pound</td><td>4279008.89</td></tr>",
                            "<tr><td>EURO</td><td>2474535.38</td></tr>",
                            "<tr><td>Australian Dollar</td><td>1594334.85</td></tr>",
                            "</table>"
                        ]
                    }
                }
            ],
            "execution_count": 59
        },
        {
            "cell_type": "markdown",
            "source": [
                "Problem 4\n",
                "\n",
                "Leadership wants to compare the effectiveness of the Touring-1000 and Touring-3000 promotions across fiscal quarters for reseller sales. Produce a report with the following columns:\n",
                "\n",
                "FiscalYear, English Promotion Name, Currency Name, FiscalQ2, FiscalQ3\n",
                "\n",
                "N.B. The FiscalQ2 and FiscalQ3 columns should contain the total sales the <span style=\"color: var(--vscode-foreground);\">given fiscal year and promotion name.</span>"
            ],
            "metadata": {
                "language": "sql",
                "azdata_cell_guid": "5c99deee-c086-4b27-9f87-8a41fe9c976e"
            },
            "attachments": {}
        },
        {
            "cell_type": "code",
            "source": [
                "SELECT\r\n",
                "d.FiscalYear AS Fiscal_Year,\r\n",
                "pr.EnglishPromotionName AS Promotion,\r\n",
                "c.CurrencyName AS Currency, \r\n",
                "SUM(CASE WHEN d.FiscalQuarter = 2 \r\n",
                "    THEN frs.SalesAmount ELSE 0 END) AS FiscalQ2,\r\n",
                "SUM(CASE WHEN d.FiscalQuarter = 3 \r\n",
                "    THEN frs.SalesAmount ELSE 0 END) AS FiscalQ3\r\n",
                "FROM dbo.DimDate d\r\n",
                "INNER JOIN\r\n",
                "dbo.FactResellerSales frs\r\n",
                "ON \r\n",
                "frs.OrderDateKey = d.DateKey\r\n",
                "INNER JOIN\r\n",
                "dbo.DimPromotion pr\r\n",
                "ON\r\n",
                "pr.PromotionKey = frs.PromotionKey\r\n",
                "INNER JOIN\r\n",
                "dbo.DimCurrency c\r\n",
                "ON\r\n",
                "c.CurrencyKey = frs.CurrencyKey\r\n",
                "WHERE pr.EnglishPromotionName = 'Touring-3000 Promotion' OR \r\n",
                "pr.EnglishPromotionName = 'Touring-1000 Promotion'\r\n",
                "GROUP BY \r\n",
                "d.FiscalYear, \r\n",
                "pr.EnglishPromotionName, \r\n",
                "c.CurrencyName\r\n",
                "ORDER BY \r\n",
                "d.FiscalYear, \r\n",
                "pr.EnglishPromotionName\r\n",
                ""
            ],
            "metadata": {
                "language": "sql",
                "azdata_cell_guid": "d501df5d-e06e-48f7-8b99-b60a802166cb"
            },
            "outputs": [
                {
                    "output_type": "display_data",
                    "data": {
                        "text/html": "(10 rows affected)"
                    },
                    "metadata": {}
                },
                {
                    "output_type": "display_data",
                    "data": {
                        "text/html": "Total execution time: 00:00:00.619"
                    },
                    "metadata": {}
                },
                {
                    "output_type": "execute_result",
                    "metadata": {},
                    "execution_count": 48,
                    "data": {
                        "application/vnd.dataresource+json": {
                            "schema": {
                                "fields": [
                                    {
                                        "name": "Fiscal_Year"
                                    },
                                    {
                                        "name": "Promotion"
                                    },
                                    {
                                        "name": "Currency"
                                    },
                                    {
                                        "name": "FiscalQ2"
                                    },
                                    {
                                        "name": "FiscalQ3"
                                    }
                                ]
                            },
                            "data": [
                                {
                                    "Fiscal_Year": "2012",
                                    "Promotion": "Touring-1000 Promotion",
                                    "Currency": "US Dollar",
                                    "FiscalQ2": "83919.264",
                                    "FiscalQ3": "229633.6224"
                                },
                                {
                                    "Fiscal_Year": "2012",
                                    "Promotion": "Touring-1000 Promotion",
                                    "Currency": "Australian Dollar",
                                    "FiscalQ2": "12206.4384",
                                    "FiscalQ3": "66372.5088"
                                },
                                {
                                    "Fiscal_Year": "2012",
                                    "Promotion": "Touring-1000 Promotion",
                                    "Currency": "EURO",
                                    "FiscalQ2": "28227.3888",
                                    "FiscalQ3": "37382.2176"
                                },
                                {
                                    "Fiscal_Year": "2012",
                                    "Promotion": "Touring-1000 Promotion",
                                    "Currency": "Canadian Dollar",
                                    "FiscalQ2": "3051.6096",
                                    "FiscalQ3": "71712.8256"
                                },
                                {
                                    "Fiscal_Year": "2012",
                                    "Promotion": "Touring-1000 Promotion",
                                    "Currency": "United Kingdom Pound",
                                    "FiscalQ2": "6103.2192",
                                    "FiscalQ3": "42722.5344"
                                },
                                {
                                    "Fiscal_Year": "2012",
                                    "Promotion": "Touring-3000 Promotion",
                                    "Currency": "US Dollar",
                                    "FiscalQ2": "64172.4467",
                                    "FiscalQ3": "169233.5343"
                                },
                                {
                                    "Fiscal_Year": "2012",
                                    "Promotion": "Touring-3000 Promotion",
                                    "Currency": "United Kingdom Pound",
                                    "FiscalQ2": "3123.4377",
                                    "FiscalQ3": "38049.1499"
                                },
                                {
                                    "Fiscal_Year": "2012",
                                    "Promotion": "Touring-3000 Promotion",
                                    "Currency": "EURO",
                                    "FiscalQ2": "19024.5749",
                                    "FiscalQ3": "49407.1052"
                                },
                                {
                                    "Fiscal_Year": "2012",
                                    "Promotion": "Touring-3000 Promotion",
                                    "Currency": "Canadian Dollar",
                                    "FiscalQ2": "1419.7445",
                                    "FiscalQ3": "54234.2361"
                                },
                                {
                                    "Fiscal_Year": "2012",
                                    "Promotion": "Touring-3000 Promotion",
                                    "Currency": "Australian Dollar",
                                    "FiscalQ2": "8234.5178",
                                    "FiscalQ3": "36345.4572"
                                }
                            ]
                        },
                        "text/html": [
                            "<table>",
                            "<tr><th>Fiscal_Year</th><th>Promotion</th><th>Currency</th><th>FiscalQ2</th><th>FiscalQ3</th></tr>",
                            "<tr><td>2012</td><td>Touring-1000 Promotion</td><td>US Dollar</td><td>83919.264</td><td>229633.6224</td></tr>",
                            "<tr><td>2012</td><td>Touring-1000 Promotion</td><td>Australian Dollar</td><td>12206.4384</td><td>66372.5088</td></tr>",
                            "<tr><td>2012</td><td>Touring-1000 Promotion</td><td>EURO</td><td>28227.3888</td><td>37382.2176</td></tr>",
                            "<tr><td>2012</td><td>Touring-1000 Promotion</td><td>Canadian Dollar</td><td>3051.6096</td><td>71712.8256</td></tr>",
                            "<tr><td>2012</td><td>Touring-1000 Promotion</td><td>United Kingdom Pound</td><td>6103.2192</td><td>42722.5344</td></tr>",
                            "<tr><td>2012</td><td>Touring-3000 Promotion</td><td>US Dollar</td><td>64172.4467</td><td>169233.5343</td></tr>",
                            "<tr><td>2012</td><td>Touring-3000 Promotion</td><td>United Kingdom Pound</td><td>3123.4377</td><td>38049.1499</td></tr>",
                            "<tr><td>2012</td><td>Touring-3000 Promotion</td><td>EURO</td><td>19024.5749</td><td>49407.1052</td></tr>",
                            "<tr><td>2012</td><td>Touring-3000 Promotion</td><td>Canadian Dollar</td><td>1419.7445</td><td>54234.2361</td></tr>",
                            "<tr><td>2012</td><td>Touring-3000 Promotion</td><td>Australian Dollar</td><td>8234.5178</td><td>36345.4572</td></tr>",
                            "</table>"
                        ]
                    }
                }
            ],
            "execution_count": 48
        },
        {
            "cell_type": "markdown",
            "source": [
                "Problem 5\n",
                "\n",
                "Leadership wants to improve profitability by targeting geographies with low spend as a function of income.  Develop a report that shows sales territory region, associated state province name, currency, average income, average sales, and average sales as a percentage of average income.  Order the result set so that the lowest share of income is first."
            ],
            "metadata": {
                "language": "sql",
                "azdata_cell_guid": "f693322b-e0df-4892-a600-998ab7a59ca9"
            },
            "attachments": {}
        },
        {
            "cell_type": "code",
            "source": [
                "SELECT\r\n",
                "st.SalesTerritoryRegion AS Sales_Territory_Region,\r\n",
                "g.StateProvinceName AS State_Province_Name,\r\n",
                "c.CurrencyName AS Currency,\r\n",
                "AVG(cust.YearlyIncome) AS Avg_Income,\r\n",
                "AVG(frs.SalesAmount) AS Avg_Sales,\r\n",
                "ROUND(AVG(frs.SalesAmount)/AVG(cust.YearlyIncome)*100, 2) AS Avg_Sales_By_Income\r\n",
                "FROM\r\n",
                "dbo.FactResellerSales frs\r\n",
                "INNER JOIN\r\n",
                "dbo.DimCurrency c\r\n",
                "ON\r\n",
                "frs.CurrencyKey = c.CurrencyKey\r\n",
                "INNER JOIN\r\n",
                "dbo.DimSalesTerritory st\r\n",
                "ON\r\n",
                "st.SalesTerritoryKey = frs.SalesTerritoryKey\r\n",
                "INNER JOIN\r\n",
                "dbo.DimGeography g\r\n",
                "ON\r\n",
                "st.SalesTerritoryKey = g.SalesTerritoryKey\r\n",
                "INNER JOIN\r\n",
                "dbo.DimCustomer cust\r\n",
                "ON\r\n",
                "cust.GeographyKey = g.GeographyKey\r\n",
                "GROUP BY \r\n",
                "st.SalesTerritoryRegion,\r\n",
                "g.StateProvinceName,\r\n",
                "c.CurrencyName \r\n",
                "ORDER BY Avg_Sales_By_Income\r\n",
                ""
            ],
            "metadata": {
                "language": "sql",
                "azdata_cell_guid": "59a3aef8-02c0-483f-b8df-3cfdc3f72a0f"
            },
            "outputs": [
                {
                    "output_type": "display_data",
                    "data": {
                        "text/html": "(69 rows affected)"
                    },
                    "metadata": {}
                },
                {
                    "output_type": "display_data",
                    "data": {
                        "text/html": "Total execution time: 00:02:02.005"
                    },
                    "metadata": {}
                },
                {
                    "output_type": "execute_result",
                    "metadata": {},
                    "execution_count": 58,
                    "data": {
                        "application/vnd.dataresource+json": {
                            "schema": {
                                "fields": [
                                    {
                                        "name": "Sales_Territory_Region"
                                    },
                                    {
                                        "name": "State_Province_Name"
                                    },
                                    {
                                        "name": "Currency"
                                    },
                                    {
                                        "name": "Avg_Income"
                                    },
                                    {
                                        "name": "Avg_Sales"
                                    },
                                    {
                                        "name": "Avg_Sales_By_Income"
                                    }
                                ]
                            },
                            "data": [
                                {
                                    "Sales_Territory_Region": "Southeast",
                                    "State_Province_Name": "South Carolina",
                                    "Currency": "US Dollar",
                                    "Avg_Income": "110000.00",
                                    "Avg_Sales": "1325.1501",
                                    "Avg_Sales_By_Income": "1.20"
                                },
                                {
                                    "Sales_Territory_Region": "Australia",
                                    "State_Province_Name": "Queensland",
                                    "Currency": "Australian Dollar",
                                    "Avg_Income": "64716.2673",
                                    "Avg_Sales": "930.727",
                                    "Avg_Sales_By_Income": "1.43"
                                },
                                {
                                    "Sales_Territory_Region": "Australia",
                                    "State_Province_Name": "New South Wales",
                                    "Currency": "Australian Dollar",
                                    "Avg_Income": "64759.4611",
                                    "Avg_Sales": "930.727",
                                    "Avg_Sales_By_Income": "1.43"
                                },
                                {
                                    "Sales_Territory_Region": "Australia",
                                    "State_Province_Name": "Tasmania",
                                    "Currency": "Australian Dollar",
                                    "Avg_Income": "64433.9622",
                                    "Avg_Sales": "930.727",
                                    "Avg_Sales_By_Income": "1.44"
                                },
                                {
                                    "Sales_Territory_Region": "Australia",
                                    "State_Province_Name": "Victoria",
                                    "Currency": "Australian Dollar",
                                    "Avg_Income": "63545.8612",
                                    "Avg_Sales": "930.727",
                                    "Avg_Sales_By_Income": "1.46"
                                },
                                {
                                    "Sales_Territory_Region": "Australia",
                                    "State_Province_Name": "South Australia",
                                    "Currency": "Australian Dollar",
                                    "Avg_Income": "63263.5983",
                                    "Avg_Sales": "930.727",
                                    "Avg_Sales_By_Income": "1.47"
                                },
                                {
                                    "Sales_Territory_Region": "Central",
                                    "State_Province_Name": "Minnesota",
                                    "Currency": "US Dollar",
                                    "Avg_Income": "80000.00",
                                    "Avg_Sales": "1360.2904",
                                    "Avg_Sales_By_Income": "1.70"
                                },
                                {
                                    "Sales_Territory_Region": "Central",
                                    "State_Province_Name": "Missouri",
                                    "Currency": "US Dollar",
                                    "Avg_Income": "80000.00",
                                    "Avg_Sales": "1360.2904",
                                    "Avg_Sales_By_Income": "1.70"
                                },
                                {
                                    "Sales_Territory_Region": "Northwest",
                                    "State_Province_Name": "Montana",
                                    "Currency": "US Dollar",
                                    "Avg_Income": "90000.00",
                                    "Avg_Sales": "1579.659",
                                    "Avg_Sales_By_Income": "1.75"
                                },
                                {
                                    "Sales_Territory_Region": "Southeast",
                                    "State_Province_Name": "Kentucky",
                                    "Currency": "US Dollar",
                                    "Avg_Income": "70000.00",
                                    "Avg_Sales": "1325.1501",
                                    "Avg_Sales_By_Income": "1.89"
                                },
                                {
                                    "Sales_Territory_Region": "Southeast",
                                    "State_Province_Name": "Georgia",
                                    "Currency": "US Dollar",
                                    "Avg_Income": "66666.6666",
                                    "Avg_Sales": "1325.1501",
                                    "Avg_Sales_By_Income": "1.98"
                                },
                                {
                                    "Sales_Territory_Region": "Northeast",
                                    "State_Province_Name": "Massachusetts",
                                    "Currency": "US Dollar",
                                    "Avg_Income": "60000.00",
                                    "Avg_Sales": "1193.4656",
                                    "Avg_Sales_By_Income": "1.98"
                                },
                                {
                                    "Sales_Territory_Region": "Southwest",
                                    "State_Province_Name": "California",
                                    "Currency": "US Dollar",
                                    "Avg_Income": "66584.1584",
                                    "Avg_Sales": "1380.257",
                                    "Avg_Sales_By_Income": "2.07"
                                },
                                {
                                    "Sales_Territory_Region": "Canada",
                                    "State_Province_Name": "British Columbia",
                                    "Currency": "Canadian Dollar",
                                    "Avg_Income": "57216.1642",
                                    "Avg_Sales": "1256.3723",
                                    "Avg_Sales_By_Income": "2.19"
                                },
                                {
                                    "Sales_Territory_Region": "France",
                                    "State_Province_Name": "Charente-Maritime",
                                    "Currency": "EURO",
                                    "Avg_Income": "47142.8571",
                                    "Avg_Sales": "1075.7624",
                                    "Avg_Sales_By_Income": "2.28"
                                },
                                {
                                    "Sales_Territory_Region": "Southeast",
                                    "State_Province_Name": "Florida",
                                    "Currency": "US Dollar",
                                    "Avg_Income": "56666.6666",
                                    "Avg_Sales": "1325.1501",
                                    "Avg_Sales_By_Income": "2.33"
                                },
                                {
                                    "Sales_Territory_Region": "United Kingdom",
                                    "State_Province_Name": "England",
                                    "Currency": "United Kingdom Pound",
                                    "Avg_Income": "52169.3674",
                                    "Avg_Sales": "1215.6275",
                                    "Avg_Sales_By_Income": "2.33"
                                },
                                {
                                    "Sales_Territory_Region": "Germany",
                                    "State_Province_Name": "Saarland",
                                    "Currency": "EURO",
                                    "Avg_Income": "45497.7375",
                                    "Avg_Sales": "1078.8406",
                                    "Avg_Sales_By_Income": "2.37"
                                },
                                {
                                    "Sales_Territory_Region": "France",
                                    "State_Province_Name": "Val d'Oise",
                                    "Currency": "EURO",
                                    "Avg_Income": "45333.3333",
                                    "Avg_Sales": "1075.7624",
                                    "Avg_Sales_By_Income": "2.37"
                                },
                                {
                                    "Sales_Territory_Region": "Canada",
                                    "State_Province_Name": "Alberta",
                                    "Currency": "Canadian Dollar",
                                    "Avg_Income": "51818.1818",
                                    "Avg_Sales": "1256.3723",
                                    "Avg_Sales_By_Income": "2.42"
                                },
                                {
                                    "Sales_Territory_Region": "Germany",
                                    "State_Province_Name": "Hamburg",
                                    "Currency": "EURO",
                                    "Avg_Income": "43367.0033",
                                    "Avg_Sales": "1078.8406",
                                    "Avg_Sales_By_Income": "2.48"
                                },
                                {
                                    "Sales_Territory_Region": "Northeast",
                                    "State_Province_Name": "Ohio",
                                    "Currency": "US Dollar",
                                    "Avg_Income": "47500.00",
                                    "Avg_Sales": "1193.4656",
                                    "Avg_Sales_By_Income": "2.51"
                                },
                                {
                                    "Sales_Territory_Region": "France",
                                    "State_Province_Name": "Loir et Cher",
                                    "Currency": "EURO",
                                    "Avg_Income": "42352.9411",
                                    "Avg_Sales": "1075.7624",
                                    "Avg_Sales_By_Income": "2.53"
                                },
                                {
                                    "Sales_Territory_Region": "Northeast",
                                    "State_Province_Name": "New York",
                                    "Currency": "US Dollar",
                                    "Avg_Income": "46666.6666",
                                    "Avg_Sales": "1193.4656",
                                    "Avg_Sales_By_Income": "2.55"
                                },
                                {
                                    "Sales_Territory_Region": "Germany",
                                    "State_Province_Name": "Hessen",
                                    "Currency": "EURO",
                                    "Avg_Income": "42148.5411",
                                    "Avg_Sales": "1078.8406",
                                    "Avg_Sales_By_Income": "2.55"
                                },
                                {
                                    "Sales_Territory_Region": "Germany",
                                    "State_Province_Name": "Nordrhein-Westfalen",
                                    "Currency": "EURO",
                                    "Avg_Income": "42167.4876",
                                    "Avg_Sales": "1078.8406",
                                    "Avg_Sales_By_Income": "2.55"
                                },
                                {
                                    "Sales_Territory_Region": "Northwest",
                                    "State_Province_Name": "Washington",
                                    "Currency": "US Dollar",
                                    "Avg_Income": "60132.5673",
                                    "Avg_Sales": "1579.659",
                                    "Avg_Sales_By_Income": "2.62"
                                },
                                {
                                    "Sales_Territory_Region": "Northwest",
                                    "State_Province_Name": "Wyoming",
                                    "Currency": "US Dollar",
                                    "Avg_Income": "60000.00",
                                    "Avg_Sales": "1579.659",
                                    "Avg_Sales_By_Income": "2.63"
                                },
                                {
                                    "Sales_Territory_Region": "Northwest",
                                    "State_Province_Name": "Utah",
                                    "Currency": "US Dollar",
                                    "Avg_Income": "60000.00",
                                    "Avg_Sales": "1579.659",
                                    "Avg_Sales_By_Income": "2.63"
                                },
                                {
                                    "Sales_Territory_Region": "Germany",
                                    "State_Province_Name": "Bayern",
                                    "Currency": "EURO",
                                    "Avg_Income": "40789.4736",
                                    "Avg_Sales": "1078.8406",
                                    "Avg_Sales_By_Income": "2.64"
                                },
                                {
                                    "Sales_Territory_Region": "Northwest",
                                    "State_Province_Name": "Oregon",
                                    "Currency": "US Dollar",
                                    "Avg_Income": "59002.7958",
                                    "Avg_Sales": "1579.659",
                                    "Avg_Sales_By_Income": "2.67"
                                },
                                {
                                    "Sales_Territory_Region": "France",
                                    "State_Province_Name": "Moselle",
                                    "Currency": "EURO",
                                    "Avg_Income": "39107.1428",
                                    "Avg_Sales": "1075.7624",
                                    "Avg_Sales_By_Income": "2.75"
                                },
                                {
                                    "Sales_Territory_Region": "France",
                                    "State_Province_Name": "Somme",
                                    "Currency": "EURO",
                                    "Avg_Income": "38636.3636",
                                    "Avg_Sales": "1075.7624",
                                    "Avg_Sales_By_Income": "2.78"
                                },
                                {
                                    "Sales_Territory_Region": "France",
                                    "State_Province_Name": "Seine et Marne",
                                    "Currency": "EURO",
                                    "Avg_Income": "38000.00",
                                    "Avg_Sales": "1075.7624",
                                    "Avg_Sales_By_Income": "2.83"
                                },
                                {
                                    "Sales_Territory_Region": "Germany",
                                    "State_Province_Name": "Brandenburg",
                                    "Currency": "EURO",
                                    "Avg_Income": "38000.00",
                                    "Avg_Sales": "1078.8406",
                                    "Avg_Sales_By_Income": "2.83"
                                },
                                {
                                    "Sales_Territory_Region": "France",
                                    "State_Province_Name": "Charente-Maritime",
                                    "Currency": "US Dollar",
                                    "Avg_Income": "47142.8571",
                                    "Avg_Sales": "1339.2941",
                                    "Avg_Sales_By_Income": "2.84"
                                },
                                {
                                    "Sales_Territory_Region": "Southwest",
                                    "State_Province_Name": "Texas",
                                    "Currency": "US Dollar",
                                    "Avg_Income": "47500.00",
                                    "Avg_Sales": "1380.257",
                                    "Avg_Sales_By_Income": "2.90"
                                },
                                {
                                    "Sales_Territory_Region": "France",
                                    "State_Province_Name": "Hauts de Seine",
                                    "Currency": "EURO",
                                    "Avg_Income": "36871.7948",
                                    "Avg_Sales": "1075.7624",
                                    "Avg_Sales_By_Income": "2.91"
                                },
                                {
                                    "Sales_Territory_Region": "France",
                                    "State_Province_Name": "Val d'Oise",
                                    "Currency": "US Dollar",
                                    "Avg_Income": "45333.3333",
                                    "Avg_Sales": "1339.2941",
                                    "Avg_Sales_By_Income": "2.95"
                                },
                                {
                                    "Sales_Territory_Region": "France",
                                    "State_Province_Name": "Nord",
                                    "Currency": "EURO",
                                    "Avg_Income": "36161.9718",
                                    "Avg_Sales": "1075.7624",
                                    "Avg_Sales_By_Income": "2.97"
                                },
                                {
                                    "Sales_Territory_Region": "France",
                                    "State_Province_Name": "Seine (Paris)",
                                    "Currency": "EURO",
                                    "Avg_Income": "36088.0829",
                                    "Avg_Sales": "1075.7624",
                                    "Avg_Sales_By_Income": "2.98"
                                },
                                {
                                    "Sales_Territory_Region": "Central",
                                    "State_Province_Name": "Illinois",
                                    "Currency": "US Dollar",
                                    "Avg_Income": "45000.00",
                                    "Avg_Sales": "1360.2904",
                                    "Avg_Sales_By_Income": "3.02"
                                },
                                {
                                    "Sales_Territory_Region": "France",
                                    "State_Province_Name": "Seine Saint Denis",
                                    "Currency": "EURO",
                                    "Avg_Income": "34912.2807",
                                    "Avg_Sales": "1075.7624",
                                    "Avg_Sales_By_Income": "3.08"
                                },
                                {
                                    "Sales_Territory_Region": "France",
                                    "State_Province_Name": "Val de Marne",
                                    "Currency": "EURO",
                                    "Avg_Income": "34666.6666",
                                    "Avg_Sales": "1075.7624",
                                    "Avg_Sales_By_Income": "3.10"
                                },
                                {
                                    "Sales_Territory_Region": "France",
                                    "State_Province_Name": "Yveline",
                                    "Currency": "EURO",
                                    "Avg_Income": "34345.238",
                                    "Avg_Sales": "1075.7624",
                                    "Avg_Sales_By_Income": "3.13"
                                },
                                {
                                    "Sales_Territory_Region": "Canada",
                                    "State_Province_Name": "Ontario",
                                    "Currency": "Canadian Dollar",
                                    "Avg_Income": "40000.00",
                                    "Avg_Sales": "1256.3723",
                                    "Avg_Sales_By_Income": "3.14"
                                },
                                {
                                    "Sales_Territory_Region": "France",
                                    "State_Province_Name": "Loir et Cher",
                                    "Currency": "US Dollar",
                                    "Avg_Income": "42352.9411",
                                    "Avg_Sales": "1339.2941",
                                    "Avg_Sales_By_Income": "3.16"
                                },
                                {
                                    "Sales_Territory_Region": "France",
                                    "State_Province_Name": "Pas de Calais",
                                    "Currency": "EURO",
                                    "Avg_Income": "33750.00",
                                    "Avg_Sales": "1075.7624",
                                    "Avg_Sales_By_Income": "3.18"
                                },
                                {
                                    "Sales_Territory_Region": "France",
                                    "State_Province_Name": "Essonne",
                                    "Currency": "EURO",
                                    "Avg_Income": "33600.00",
                                    "Avg_Sales": "1075.7624",
                                    "Avg_Sales_By_Income": "3.20"
                                },
                                {
                                    "Sales_Territory_Region": "Southeast",
                                    "State_Province_Name": "Alabama",
                                    "Currency": "US Dollar",
                                    "Avg_Income": "40000.00",
                                    "Avg_Sales": "1325.1501",
                                    "Avg_Sales_By_Income": "3.31"
                                },
                                {
                                    "Sales_Territory_Region": "Southeast",
                                    "State_Province_Name": "Mississippi",
                                    "Currency": "US Dollar",
                                    "Avg_Income": "40000.00",
                                    "Avg_Sales": "1325.1501",
                                    "Avg_Sales_By_Income": "3.31"
                                },
                                {
                                    "Sales_Territory_Region": "Southeast",
                                    "State_Province_Name": "North Carolina",
                                    "Currency": "US Dollar",
                                    "Avg_Income": "40000.00",
                                    "Avg_Sales": "1325.1501",
                                    "Avg_Sales_By_Income": "3.31"
                                },
                                {
                                    "Sales_Territory_Region": "Southeast",
                                    "State_Province_Name": "Virginia",
                                    "Currency": "US Dollar",
                                    "Avg_Income": "40000.00",
                                    "Avg_Sales": "1325.1501",
                                    "Avg_Sales_By_Income": "3.31"
                                },
                                {
                                    "Sales_Territory_Region": "France",
                                    "State_Province_Name": "Moselle",
                                    "Currency": "US Dollar",
                                    "Avg_Income": "39107.1428",
                                    "Avg_Sales": "1339.2941",
                                    "Avg_Sales_By_Income": "3.42"
                                },
                                {
                                    "Sales_Territory_Region": "Southwest",
                                    "State_Province_Name": "Arizona",
                                    "Currency": "US Dollar",
                                    "Avg_Income": "40000.00",
                                    "Avg_Sales": "1380.257",
                                    "Avg_Sales_By_Income": "3.45"
                                },
                                {
                                    "Sales_Territory_Region": "France",
                                    "State_Province_Name": "Somme",
                                    "Currency": "US Dollar",
                                    "Avg_Income": "38636.3636",
                                    "Avg_Sales": "1339.2941",
                                    "Avg_Sales_By_Income": "3.46"
                                },
                                {
                                    "Sales_Territory_Region": "France",
                                    "State_Province_Name": "Seine et Marne",
                                    "Currency": "US Dollar",
                                    "Avg_Income": "38000.00",
                                    "Avg_Sales": "1339.2941",
                                    "Avg_Sales_By_Income": "3.52"
                                },
                                {
                                    "Sales_Territory_Region": "France",
                                    "State_Province_Name": "Hauts de Seine",
                                    "Currency": "US Dollar",
                                    "Avg_Income": "36871.7948",
                                    "Avg_Sales": "1339.2941",
                                    "Avg_Sales_By_Income": "3.63"
                                },
                                {
                                    "Sales_Territory_Region": "France",
                                    "State_Province_Name": "Garonne (Haute)",
                                    "Currency": "EURO",
                                    "Avg_Income": "29000.00",
                                    "Avg_Sales": "1075.7624",
                                    "Avg_Sales_By_Income": "3.70"
                                },
                                {
                                    "Sales_Territory_Region": "France",
                                    "State_Province_Name": "Loiret",
                                    "Currency": "EURO",
                                    "Avg_Income": "29000.00",
                                    "Avg_Sales": "1075.7624",
                                    "Avg_Sales_By_Income": "3.70"
                                },
                                {
                                    "Sales_Territory_Region": "France",
                                    "State_Province_Name": "Nord",
                                    "Currency": "US Dollar",
                                    "Avg_Income": "36161.9718",
                                    "Avg_Sales": "1339.2941",
                                    "Avg_Sales_By_Income": "3.70"
                                },
                                {
                                    "Sales_Territory_Region": "France",
                                    "State_Province_Name": "Seine (Paris)",
                                    "Currency": "US Dollar",
                                    "Avg_Income": "36088.0829",
                                    "Avg_Sales": "1339.2941",
                                    "Avg_Sales_By_Income": "3.71"
                                },
                                {
                                    "Sales_Territory_Region": "France",
                                    "State_Province_Name": "Seine Saint Denis",
                                    "Currency": "US Dollar",
                                    "Avg_Income": "34912.2807",
                                    "Avg_Sales": "1339.2941",
                                    "Avg_Sales_By_Income": "3.83"
                                },
                                {
                                    "Sales_Territory_Region": "France",
                                    "State_Province_Name": "Val de Marne",
                                    "Currency": "US Dollar",
                                    "Avg_Income": "34666.6666",
                                    "Avg_Sales": "1339.2941",
                                    "Avg_Sales_By_Income": "3.86"
                                },
                                {
                                    "Sales_Territory_Region": "France",
                                    "State_Province_Name": "Yveline",
                                    "Currency": "US Dollar",
                                    "Avg_Income": "34345.238",
                                    "Avg_Sales": "1339.2941",
                                    "Avg_Sales_By_Income": "3.89"
                                },
                                {
                                    "Sales_Territory_Region": "France",
                                    "State_Province_Name": "Pas de Calais",
                                    "Currency": "US Dollar",
                                    "Avg_Income": "33750.00",
                                    "Avg_Sales": "1339.2941",
                                    "Avg_Sales_By_Income": "3.96"
                                },
                                {
                                    "Sales_Territory_Region": "France",
                                    "State_Province_Name": "Essonne",
                                    "Currency": "US Dollar",
                                    "Avg_Income": "33600.00",
                                    "Avg_Sales": "1339.2941",
                                    "Avg_Sales_By_Income": "3.98"
                                },
                                {
                                    "Sales_Territory_Region": "France",
                                    "State_Province_Name": "Garonne (Haute)",
                                    "Currency": "US Dollar",
                                    "Avg_Income": "29000.00",
                                    "Avg_Sales": "1339.2941",
                                    "Avg_Sales_By_Income": "4.61"
                                },
                                {
                                    "Sales_Territory_Region": "France",
                                    "State_Province_Name": "Loiret",
                                    "Currency": "US Dollar",
                                    "Avg_Income": "29000.00",
                                    "Avg_Sales": "1339.2941",
                                    "Avg_Sales_By_Income": "4.61"
                                }
                            ]
                        },
                        "text/html": [
                            "<table>",
                            "<tr><th>Sales_Territory_Region</th><th>State_Province_Name</th><th>Currency</th><th>Avg_Income</th><th>Avg_Sales</th><th>Avg_Sales_By_Income</th></tr>",
                            "<tr><td>Southeast</td><td>South Carolina</td><td>US Dollar</td><td>110000.00</td><td>1325.1501</td><td>1.20</td></tr>",
                            "<tr><td>Australia</td><td>Queensland</td><td>Australian Dollar</td><td>64716.2673</td><td>930.727</td><td>1.43</td></tr>",
                            "<tr><td>Australia</td><td>New South Wales</td><td>Australian Dollar</td><td>64759.4611</td><td>930.727</td><td>1.43</td></tr>",
                            "<tr><td>Australia</td><td>Tasmania</td><td>Australian Dollar</td><td>64433.9622</td><td>930.727</td><td>1.44</td></tr>",
                            "<tr><td>Australia</td><td>Victoria</td><td>Australian Dollar</td><td>63545.8612</td><td>930.727</td><td>1.46</td></tr>",
                            "<tr><td>Australia</td><td>South Australia</td><td>Australian Dollar</td><td>63263.5983</td><td>930.727</td><td>1.47</td></tr>",
                            "<tr><td>Central</td><td>Minnesota</td><td>US Dollar</td><td>80000.00</td><td>1360.2904</td><td>1.70</td></tr>",
                            "<tr><td>Central</td><td>Missouri</td><td>US Dollar</td><td>80000.00</td><td>1360.2904</td><td>1.70</td></tr>",
                            "<tr><td>Northwest</td><td>Montana</td><td>US Dollar</td><td>90000.00</td><td>1579.659</td><td>1.75</td></tr>",
                            "<tr><td>Southeast</td><td>Kentucky</td><td>US Dollar</td><td>70000.00</td><td>1325.1501</td><td>1.89</td></tr>",
                            "<tr><td>Southeast</td><td>Georgia</td><td>US Dollar</td><td>66666.6666</td><td>1325.1501</td><td>1.98</td></tr>",
                            "<tr><td>Northeast</td><td>Massachusetts</td><td>US Dollar</td><td>60000.00</td><td>1193.4656</td><td>1.98</td></tr>",
                            "<tr><td>Southwest</td><td>California</td><td>US Dollar</td><td>66584.1584</td><td>1380.257</td><td>2.07</td></tr>",
                            "<tr><td>Canada</td><td>British Columbia</td><td>Canadian Dollar</td><td>57216.1642</td><td>1256.3723</td><td>2.19</td></tr>",
                            "<tr><td>France</td><td>Charente-Maritime</td><td>EURO</td><td>47142.8571</td><td>1075.7624</td><td>2.28</td></tr>",
                            "<tr><td>Southeast</td><td>Florida</td><td>US Dollar</td><td>56666.6666</td><td>1325.1501</td><td>2.33</td></tr>",
                            "<tr><td>United Kingdom</td><td>England</td><td>United Kingdom Pound</td><td>52169.3674</td><td>1215.6275</td><td>2.33</td></tr>",
                            "<tr><td>Germany</td><td>Saarland</td><td>EURO</td><td>45497.7375</td><td>1078.8406</td><td>2.37</td></tr>",
                            "<tr><td>France</td><td>Val d&#39;Oise</td><td>EURO</td><td>45333.3333</td><td>1075.7624</td><td>2.37</td></tr>",
                            "<tr><td>Canada</td><td>Alberta</td><td>Canadian Dollar</td><td>51818.1818</td><td>1256.3723</td><td>2.42</td></tr>",
                            "<tr><td>Germany</td><td>Hamburg</td><td>EURO</td><td>43367.0033</td><td>1078.8406</td><td>2.48</td></tr>",
                            "<tr><td>Northeast</td><td>Ohio</td><td>US Dollar</td><td>47500.00</td><td>1193.4656</td><td>2.51</td></tr>",
                            "<tr><td>France</td><td>Loir et Cher</td><td>EURO</td><td>42352.9411</td><td>1075.7624</td><td>2.53</td></tr>",
                            "<tr><td>Northeast</td><td>New York</td><td>US Dollar</td><td>46666.6666</td><td>1193.4656</td><td>2.55</td></tr>",
                            "<tr><td>Germany</td><td>Hessen</td><td>EURO</td><td>42148.5411</td><td>1078.8406</td><td>2.55</td></tr>",
                            "<tr><td>Germany</td><td>Nordrhein-Westfalen</td><td>EURO</td><td>42167.4876</td><td>1078.8406</td><td>2.55</td></tr>",
                            "<tr><td>Northwest</td><td>Washington</td><td>US Dollar</td><td>60132.5673</td><td>1579.659</td><td>2.62</td></tr>",
                            "<tr><td>Northwest</td><td>Wyoming</td><td>US Dollar</td><td>60000.00</td><td>1579.659</td><td>2.63</td></tr>",
                            "<tr><td>Northwest</td><td>Utah</td><td>US Dollar</td><td>60000.00</td><td>1579.659</td><td>2.63</td></tr>",
                            "<tr><td>Germany</td><td>Bayern</td><td>EURO</td><td>40789.4736</td><td>1078.8406</td><td>2.64</td></tr>",
                            "<tr><td>Northwest</td><td>Oregon</td><td>US Dollar</td><td>59002.7958</td><td>1579.659</td><td>2.67</td></tr>",
                            "<tr><td>France</td><td>Moselle</td><td>EURO</td><td>39107.1428</td><td>1075.7624</td><td>2.75</td></tr>",
                            "<tr><td>France</td><td>Somme</td><td>EURO</td><td>38636.3636</td><td>1075.7624</td><td>2.78</td></tr>",
                            "<tr><td>France</td><td>Seine et Marne</td><td>EURO</td><td>38000.00</td><td>1075.7624</td><td>2.83</td></tr>",
                            "<tr><td>Germany</td><td>Brandenburg</td><td>EURO</td><td>38000.00</td><td>1078.8406</td><td>2.83</td></tr>",
                            "<tr><td>France</td><td>Charente-Maritime</td><td>US Dollar</td><td>47142.8571</td><td>1339.2941</td><td>2.84</td></tr>",
                            "<tr><td>Southwest</td><td>Texas</td><td>US Dollar</td><td>47500.00</td><td>1380.257</td><td>2.90</td></tr>",
                            "<tr><td>France</td><td>Hauts de Seine</td><td>EURO</td><td>36871.7948</td><td>1075.7624</td><td>2.91</td></tr>",
                            "<tr><td>France</td><td>Val d&#39;Oise</td><td>US Dollar</td><td>45333.3333</td><td>1339.2941</td><td>2.95</td></tr>",
                            "<tr><td>France</td><td>Nord</td><td>EURO</td><td>36161.9718</td><td>1075.7624</td><td>2.97</td></tr>",
                            "<tr><td>France</td><td>Seine (Paris)</td><td>EURO</td><td>36088.0829</td><td>1075.7624</td><td>2.98</td></tr>",
                            "<tr><td>Central</td><td>Illinois</td><td>US Dollar</td><td>45000.00</td><td>1360.2904</td><td>3.02</td></tr>",
                            "<tr><td>France</td><td>Seine Saint Denis</td><td>EURO</td><td>34912.2807</td><td>1075.7624</td><td>3.08</td></tr>",
                            "<tr><td>France</td><td>Val de Marne</td><td>EURO</td><td>34666.6666</td><td>1075.7624</td><td>3.10</td></tr>",
                            "<tr><td>France</td><td>Yveline</td><td>EURO</td><td>34345.238</td><td>1075.7624</td><td>3.13</td></tr>",
                            "<tr><td>Canada</td><td>Ontario</td><td>Canadian Dollar</td><td>40000.00</td><td>1256.3723</td><td>3.14</td></tr>",
                            "<tr><td>France</td><td>Loir et Cher</td><td>US Dollar</td><td>42352.9411</td><td>1339.2941</td><td>3.16</td></tr>",
                            "<tr><td>France</td><td>Pas de Calais</td><td>EURO</td><td>33750.00</td><td>1075.7624</td><td>3.18</td></tr>",
                            "<tr><td>France</td><td>Essonne</td><td>EURO</td><td>33600.00</td><td>1075.7624</td><td>3.20</td></tr>",
                            "<tr><td>Southeast</td><td>Alabama</td><td>US Dollar</td><td>40000.00</td><td>1325.1501</td><td>3.31</td></tr>",
                            "<tr><td>Southeast</td><td>Mississippi</td><td>US Dollar</td><td>40000.00</td><td>1325.1501</td><td>3.31</td></tr>",
                            "<tr><td>Southeast</td><td>North Carolina</td><td>US Dollar</td><td>40000.00</td><td>1325.1501</td><td>3.31</td></tr>",
                            "<tr><td>Southeast</td><td>Virginia</td><td>US Dollar</td><td>40000.00</td><td>1325.1501</td><td>3.31</td></tr>",
                            "<tr><td>France</td><td>Moselle</td><td>US Dollar</td><td>39107.1428</td><td>1339.2941</td><td>3.42</td></tr>",
                            "<tr><td>Southwest</td><td>Arizona</td><td>US Dollar</td><td>40000.00</td><td>1380.257</td><td>3.45</td></tr>",
                            "<tr><td>France</td><td>Somme</td><td>US Dollar</td><td>38636.3636</td><td>1339.2941</td><td>3.46</td></tr>",
                            "<tr><td>France</td><td>Seine et Marne</td><td>US Dollar</td><td>38000.00</td><td>1339.2941</td><td>3.52</td></tr>",
                            "<tr><td>France</td><td>Hauts de Seine</td><td>US Dollar</td><td>36871.7948</td><td>1339.2941</td><td>3.63</td></tr>",
                            "<tr><td>France</td><td>Garonne (Haute)</td><td>EURO</td><td>29000.00</td><td>1075.7624</td><td>3.70</td></tr>",
                            "<tr><td>France</td><td>Loiret</td><td>EURO</td><td>29000.00</td><td>1075.7624</td><td>3.70</td></tr>",
                            "<tr><td>France</td><td>Nord</td><td>US Dollar</td><td>36161.9718</td><td>1339.2941</td><td>3.70</td></tr>",
                            "<tr><td>France</td><td>Seine (Paris)</td><td>US Dollar</td><td>36088.0829</td><td>1339.2941</td><td>3.71</td></tr>",
                            "<tr><td>France</td><td>Seine Saint Denis</td><td>US Dollar</td><td>34912.2807</td><td>1339.2941</td><td>3.83</td></tr>",
                            "<tr><td>France</td><td>Val de Marne</td><td>US Dollar</td><td>34666.6666</td><td>1339.2941</td><td>3.86</td></tr>",
                            "<tr><td>France</td><td>Yveline</td><td>US Dollar</td><td>34345.238</td><td>1339.2941</td><td>3.89</td></tr>",
                            "<tr><td>France</td><td>Pas de Calais</td><td>US Dollar</td><td>33750.00</td><td>1339.2941</td><td>3.96</td></tr>",
                            "<tr><td>France</td><td>Essonne</td><td>US Dollar</td><td>33600.00</td><td>1339.2941</td><td>3.98</td></tr>",
                            "<tr><td>France</td><td>Garonne (Haute)</td><td>US Dollar</td><td>29000.00</td><td>1339.2941</td><td>4.61</td></tr>",
                            "<tr><td>France</td><td>Loiret</td><td>US Dollar</td><td>29000.00</td><td>1339.2941</td><td>4.61</td></tr>",
                            "</table>"
                        ]
                    }
                }
            ],
            "execution_count": 58
        }
    ]
}